{
 "cells": [
  {
   "cell_type": "markdown",
   "metadata": {},
   "source": [
    "# Введение в обработку текста на естественном языке"
   ]
  },
  {
   "cell_type": "markdown",
   "metadata": {},
   "source": [
    "Материалы:\n",
    "* Макрушин С.В. Лекция 9: Введение в обработку текста на естественном языке\\\n",
    "* https://realpython.com/nltk-nlp-python/\n",
    "* https://scikit-learn.org/stable/modules/feature_extraction.html"
   ]
  },
  {
   "cell_type": "markdown",
   "metadata": {},
   "source": [
    "## Задачи для совместного разбора"
   ]
  },
  {
   "cell_type": "code",
   "execution_count": 2,
   "metadata": {},
   "outputs": [
    {
     "name": "stdout",
     "output_type": "stream",
     "text": [
      "Collecting pymorphy2\n",
      "  Downloading pymorphy2-0.9.1-py3-none-any.whl.metadata (3.6 kB)\n",
      "Collecting dawg-python>=0.7.1 (from pymorphy2)\n",
      "  Downloading DAWG_Python-0.7.2-py2.py3-none-any.whl.metadata (7.0 kB)\n",
      "Collecting pymorphy2-dicts-ru<3.0,>=2.4 (from pymorphy2)\n",
      "  Downloading pymorphy2_dicts_ru-2.4.417127.4579844-py2.py3-none-any.whl.metadata (2.1 kB)\n",
      "Collecting docopt>=0.6 (from pymorphy2)\n",
      "  Downloading docopt-0.6.2.tar.gz (25 kB)\n",
      "  Preparing metadata (setup.py) ... \u001b[?25ldone\n",
      "\u001b[?25hDownloading pymorphy2-0.9.1-py3-none-any.whl (55 kB)\n",
      "\u001b[2K   \u001b[90m━━━━━━━━━━━━━━━━━━━━━━━━━━━━━━━━━━━━━━━━\u001b[0m \u001b[32m55.5/55.5 kB\u001b[0m \u001b[31m483.4 kB/s\u001b[0m eta \u001b[36m0:00:00\u001b[0ma \u001b[36m0:00:01\u001b[0m\n",
      "\u001b[?25hDownloading DAWG_Python-0.7.2-py2.py3-none-any.whl (11 kB)\n",
      "Downloading pymorphy2_dicts_ru-2.4.417127.4579844-py2.py3-none-any.whl (8.2 MB)\n",
      "\u001b[2K   \u001b[90m━━━━━━━━━━━━━━━━━━━━━━━━━━━━━━━━━━━━━━━━\u001b[0m \u001b[32m8.2/8.2 MB\u001b[0m \u001b[31m620.9 kB/s\u001b[0m eta \u001b[36m0:00:00\u001b[0m00:01\u001b[0m00:01\u001b[0m\n",
      "\u001b[?25hBuilding wheels for collected packages: docopt\n",
      "  Building wheel for docopt (setup.py) ... \u001b[?25ldone\n",
      "\u001b[?25h  Created wheel for docopt: filename=docopt-0.6.2-py2.py3-none-any.whl size=13705 sha256=e7d04959761a88d973998da11e9a15de6d8bd7596b8adb29b086f130348ad7c3\n",
      "  Stored in directory: /Users/macbook/Library/Caches/pip/wheels/1a/b0/8c/4b75c4116c31f83c8f9f047231251e13cc74481cca4a78a9ce\n",
      "Successfully built docopt\n",
      "Installing collected packages: pymorphy2-dicts-ru, docopt, dawg-python, pymorphy2\n",
      "Successfully installed dawg-python-0.7.2 docopt-0.6.2 pymorphy2-0.9.1 pymorphy2-dicts-ru-2.4.417127.4579844\n",
      "Note: you may need to restart the kernel to use updated packages.\n"
     ]
    }
   ],
   "source": [
    "pip install pymorphy2"
   ]
  },
  {
   "cell_type": "code",
   "execution_count": 4,
   "metadata": {},
   "outputs": [
    {
     "name": "stderr",
     "output_type": "stream",
     "text": [
      "[nltk_data] Downloading package wordnet to /Users/macbook/nltk_data...\n",
      "[nltk_data] Downloading package stopwords to\n",
      "[nltk_data]     /Users/macbook/nltk_data...\n",
      "[nltk_data]   Unzipping corpora/stopwords.zip.\n"
     ]
    }
   ],
   "source": [
    "from sklearn.feature_extraction.text import CountVectorizer, TfidfVectorizer\n",
    "from nltk.stem import WordNetLemmatizer, SnowballStemmer\n",
    "from nltk.metrics import *\n",
    "from nltk.tokenize import sent_tokenize, word_tokenize\n",
    "from nltk.corpus import stopwords\n",
    "import pymorphy2\n",
    "import pandas as pd\n",
    "import nltk\n",
    "import random\n",
    "from functools import reduce\n",
    "nltk.download('wordnet')\n",
    "nltk.download('stopwords')\n",
    "stemmer = SnowballStemmer(\"russian\")"
   ]
  },
  {
   "cell_type": "markdown",
   "metadata": {},
   "source": [
    "1. Считайте слова из файла `litw-win.txt` и запишите их в список `words`. В заданном предложении исправьте все опечатки, заменив слова с опечатками на ближайшие (в смысле расстояния Левенштейна) к ним слова из списка `words`. Считайте, что в слове есть опечатка, если данное слово не содержится в списке `words`. "
   ]
  },
  {
   "cell_type": "code",
   "execution_count": null,
   "metadata": {},
   "outputs": [],
   "source": []
  },
  {
   "cell_type": "markdown",
   "metadata": {},
   "source": [
    "2. Разбейте текст из формулировки задания 1 на слова; проведите стемминг и лемматизацию слов."
   ]
  },
  {
   "cell_type": "markdown",
   "metadata": {},
   "source": [
    "3. Преобразуйте предложения из формулировки задания 1 в векторы при помощи `CountVectorizer`."
   ]
  },
  {
   "cell_type": "markdown",
   "metadata": {},
   "source": [
    "## Лабораторная работа 9"
   ]
  },
  {
   "cell_type": "markdown",
   "metadata": {},
   "source": [
    "### Расстояние редактирования"
   ]
  },
  {
   "cell_type": "markdown",
   "metadata": {},
   "source": [
    "1.1 Загрузите предобработанные описания рецептов из файла `preprocessed_descriptions.csv`. Получите набор уникальных слов `words`, содержащихся в текстах описаний рецептов (воспользуйтесь `word_tokenize` из `nltk`). "
   ]
  },
  {
   "cell_type": "code",
   "execution_count": 6,
   "metadata": {},
   "outputs": [
    {
     "data": {
      "text/plain": [
       "['an',\n",
       " 'original',\n",
       " 'recipe',\n",
       " 'created',\n",
       " 'by',\n",
       " 'chef',\n",
       " 'scott',\n",
       " 'meskan',\n",
       " 'george',\n",
       " 's']"
      ]
     },
     "execution_count": 6,
     "metadata": {},
     "output_type": "execute_result"
    }
   ],
   "source": [
    "n = random.randint(301, 500)\n",
    "preprocessed_descriptions = pd.read_csv(\"preprocessed_descriptions.csv\")[:n]\n",
    "preprocessed_descriptions.head()\n",
    "words = reduce(lambda x, y: x + y, [word_tokenize(item) for item in preprocessed_descriptions[\"preprocessed_descriptions\"].to_list() if isinstance(item, str)])\n",
    "words[:10]"
   ]
  },
  {
   "cell_type": "markdown",
   "metadata": {},
   "source": [
    "1.2 Сгенерируйте 5 пар случайно выбранных слов и посчитайте между ними расстояние редактирования."
   ]
  },
  {
   "cell_type": "code",
   "execution_count": 7,
   "metadata": {},
   "outputs": [
    {
     "name": "stdout",
     "output_type": "stream",
     "text": [
      "['bevvie balanced', '10 football', 'tortilla true', 'supposed cordial', 'circuit substituted']\n"
     ]
    },
    {
     "data": {
      "text/plain": [
       "[6, 8, 6, 8, 9]"
      ]
     },
     "execution_count": 7,
     "metadata": {},
     "output_type": "execute_result"
    }
   ],
   "source": [
    "words = list(set(words))\n",
    "pairs = [' '.join(random.choices(words, k=2)) for _ in range(5)]\n",
    "print(pairs)\n",
    "h_s = [edit_distance(*v.split()) for v in pairs]\n",
    "h_s"
   ]
  },
  {
   "cell_type": "markdown",
   "metadata": {},
   "source": [
    "1.3 Напишите функцию, которая для заданного слова `word` возвращает `k` ближайших к нему слов из списка `words` (близость слов измеряется с помощью расстояния Левенштейна)"
   ]
  },
  {
   "cell_type": "code",
   "execution_count": 8,
   "metadata": {},
   "outputs": [
    {
     "data": {
      "text/plain": [
       "['check', 'chuck', 'cheap']"
      ]
     },
     "execution_count": 8,
     "metadata": {},
     "output_type": "execute_result"
    }
   ],
   "source": [
    "def k_nearest(word:str, k:int=1):\n",
    "    w_new = sorted(words, key=lambda w: edit_distance(w, word))\n",
    "    return w_new[:k]\n",
    "\n",
    "k_nearest('check', k=3)"
   ]
  },
  {
   "cell_type": "markdown",
   "metadata": {},
   "source": [
    "### Стемминг, лемматизация"
   ]
  },
  {
   "cell_type": "markdown",
   "metadata": {},
   "source": [
    "2.1 На основе результатов 1.1 создайте `pd.DataFrame` со столбцами: \n",
    "    * word\n",
    "    * stemmed_word \n",
    "    * normalized_word \n",
    "\n",
    "Столбец `word` укажите в качестве индекса. \n",
    "\n",
    "Для стемминга воспользуйтесь `SnowballStemmer`, для нормализации слов - `WordNetLemmatizer`. Сравните результаты стемминга и лемматизации."
   ]
  },
  {
   "cell_type": "code",
   "execution_count": 10,
   "metadata": {},
   "outputs": [
    {
     "data": {
      "text/html": [
       "<div>\n",
       "<style scoped>\n",
       "    .dataframe tbody tr th:only-of-type {\n",
       "        vertical-align: middle;\n",
       "    }\n",
       "\n",
       "    .dataframe tbody tr th {\n",
       "        vertical-align: top;\n",
       "    }\n",
       "\n",
       "    .dataframe thead th {\n",
       "        text-align: right;\n",
       "    }\n",
       "</style>\n",
       "<table border=\"1\" class=\"dataframe\">\n",
       "  <thead>\n",
       "    <tr style=\"text-align: right;\">\n",
       "      <th></th>\n",
       "      <th>word</th>\n",
       "      <th>normalized_word</th>\n",
       "    </tr>\n",
       "    <tr>\n",
       "      <th>stemmed_word</th>\n",
       "      <th></th>\n",
       "      <th></th>\n",
       "    </tr>\n",
       "  </thead>\n",
       "  <tbody>\n",
       "    <tr>\n",
       "      <th>glasses</th>\n",
       "      <td>glasses</td>\n",
       "      <td>glass</td>\n",
       "    </tr>\n",
       "    <tr>\n",
       "      <th>party</th>\n",
       "      <td>party</td>\n",
       "      <td>party</td>\n",
       "    </tr>\n",
       "    <tr>\n",
       "      <th>2009</th>\n",
       "      <td>2009</td>\n",
       "      <td>2009</td>\n",
       "    </tr>\n",
       "    <tr>\n",
       "      <th>how</th>\n",
       "      <td>how</td>\n",
       "      <td>how</td>\n",
       "    </tr>\n",
       "    <tr>\n",
       "      <th>carts</th>\n",
       "      <td>carts</td>\n",
       "      <td>cart</td>\n",
       "    </tr>\n",
       "  </tbody>\n",
       "</table>\n",
       "</div>"
      ],
      "text/plain": [
       "                 word normalized_word\n",
       "stemmed_word                         \n",
       "glasses       glasses           glass\n",
       "party           party           party\n",
       "2009             2009            2009\n",
       "how               how             how\n",
       "carts           carts            cart"
      ]
     },
     "execution_count": 10,
     "metadata": {},
     "output_type": "execute_result"
    }
   ],
   "source": [
    "lemmatizer = WordNetLemmatizer()\n",
    "\n",
    "stemmed_words = [stemmer.stem(word) for word in words]\n",
    "normalized_word = [lemmatizer.lemmatize(word) for word in words]\n",
    "df = pd.DataFrame(list(zip(words, stemmed_words, normalized_word))[10:20], columns=['word', 'stemmed_word', 'normalized_word'])\n",
    "df = df.set_index('stemmed_word')\n",
    "df.head()"
   ]
  },
  {
   "cell_type": "markdown",
   "metadata": {},
   "source": [
    "2.2. Удалите стоп-слова из описаний рецептов. Какую долю об общего количества слов составляли стоп-слова? Сравните топ-10 самых часто употребляемых слов до и после удаления стоп-слов."
   ]
  },
  {
   "cell_type": "code",
   "execution_count": 11,
   "metadata": {},
   "outputs": [
    {
     "name": "stdout",
     "output_type": "stream",
     "text": [
      "Доля стоп слов - 0.5832258064516129\n",
      "Топ 10 слов со стоп словами: the; a; i; and; this; it; to; is; of; for\n",
      "Топ 10 слов без стоп слов: recipe; make; easy; great; time; made; dish; delicious; bread; soup\n"
     ]
    }
   ],
   "source": [
    "st_w = stopwords.words()\n",
    "texts = reduce(lambda x, y: x + ' ' + y, [item for item in preprocessed_descriptions[\"preprocessed_descriptions\"].to_list() if isinstance(item, str)])\n",
    "tokens = word_tokenize(texts)\n",
    "l = len(tokens)\n",
    "l_new = 0\n",
    "words_dict = {}\n",
    "words_dict_stop = {}\n",
    "for w in tokens:\n",
    "    if w not in st_w:\n",
    "        words_dict_stop[w] = words_dict_stop.get(w, 0) + 1\n",
    "        l_new += 1\n",
    "    words_dict[w] = words_dict.get(w, 0) + 1\n",
    "\n",
    "\n",
    "print(f'Доля стоп слов - {(l - l_new) / l}')\n",
    "print(f'Топ 10 слов со стоп словами: {\"; \".join(sorted(words_dict.keys(), key=lambda x: words_dict[x], reverse=True)[:10])}')\n",
    "print(f'Топ 10 слов без стоп слов: {\"; \".join(sorted(words_dict_stop.keys(), key=lambda x: words_dict_stop[x], reverse=True)[:10])}')"
   ]
  },
  {
   "cell_type": "markdown",
   "metadata": {},
   "source": [
    "### Векторное представление текста"
   ]
  },
  {
   "cell_type": "markdown",
   "metadata": {},
   "source": [
    "3.1 Выберите случайным образом 5 рецептов из набора данных. Представьте описание каждого рецепта в виде числового вектора при помощи `TfidfVectorizer`"
   ]
  },
  {
   "cell_type": "code",
   "execution_count": 12,
   "metadata": {},
   "outputs": [
    {
     "name": "stdout",
     "output_type": "stream",
     "text": [
      "                                        name  \\\n",
      "330  actual pf chang s mongolian beef recipe   \n",
      "74                            big mac  pizza   \n",
      "13   blepandekager   danish   apple pancakes   \n",
      "376                   african style broccoli   \n",
      "238                     7 layer b  l  t  dip   \n",
      "\n",
      "                             preprocessed_descriptions  \n",
      "330  this is the actual recipe of the mongolian bee...  \n",
      "74   this cheeseburger pizza is so different from t...  \n",
      "13   this recipe has been posted here for play in z...  \n",
      "376  i found this on the web after searching for af...  \n",
      "238  there are many layered dip recipes out there  ...  \n",
      "Рецепт:\n",
      " this is the actual recipe of the mongolian beef at pf changs  enjoy  found on pf chang s website  http   www pfchangs com chefscorner recipes gluten free mongolian beef recipe pdf\n",
      "Вектор:\n",
      " [0.         0.17920832 0.         0.         0.         0.\n",
      " 0.         0.         0.1200179  0.         0.         0.35841665\n",
      " 0.         0.         0.         0.         0.         0.17920832\n",
      " 0.17920832 0.         0.17920832 0.         0.         0.\n",
      " 0.14458415 0.         0.         0.         0.         0.14458415\n",
      " 0.         0.         0.1200179  0.17920832 0.         0.17920832\n",
      " 0.         0.         0.         0.         0.         0.17920832\n",
      " 0.         0.         0.1200179  0.         0.         0.\n",
      " 0.         0.         0.         0.         0.         0.35841665\n",
      " 0.         0.         0.14458415 0.1200179  0.         0.\n",
      " 0.         0.         0.17920832 0.35841665 0.17920832 0.\n",
      " 0.         0.         0.28916829 0.10096284 0.         0.\n",
      " 0.         0.         0.         0.         0.         0.\n",
      " 0.         0.         0.24003581 0.         0.         0.08539373\n",
      " 0.         0.         0.         0.         0.         0.\n",
      " 0.1200179  0.         0.17920832 0.         0.         0.        ]\n",
      "\n",
      "Рецепт:\n",
      " this cheeseburger pizza is so different from the others on  zaar  i renamed it  big mac  because it tastes like a big mac only better   my son christopher was served this as an appetizer at a bar  very surprising how good \n",
      "Вектор:\n",
      " [0.         0.         0.         0.         0.16210139 0.16210139\n",
      " 0.         0.16210139 0.10856119 0.16210139 0.16210139 0.\n",
      " 0.         0.16210139 0.32420279 0.         0.         0.\n",
      " 0.         0.16210139 0.         0.         0.16210139 0.\n",
      " 0.         0.         0.         0.16210139 0.         0.\n",
      " 0.         0.         0.         0.         0.16210139 0.\n",
      " 0.16210139 0.         0.         0.         0.16210139 0.\n",
      " 0.         0.         0.10856119 0.26156477 0.         0.16210139\n",
      " 0.         0.32420279 0.         0.         0.         0.\n",
      " 0.13078238 0.         0.         0.10856119 0.         0.16210139\n",
      " 0.16210139 0.         0.         0.         0.         0.16210139\n",
      " 0.         0.         0.         0.         0.16210139 0.\n",
      " 0.         0.16210139 0.16210139 0.16210139 0.16210139 0.16210139\n",
      " 0.         0.         0.10856119 0.         0.         0.15448437\n",
      " 0.         0.         0.         0.16210139 0.10856119 0.\n",
      " 0.         0.         0.         0.         0.13078238 0.        ]\n",
      "\n",
      "Рецепт:\n",
      " this recipe has been posted here for play in zwt9   scandinavia   this recipe was found at website  mindspring com   christian s danish recipes \n",
      "Вектор:\n",
      " [0.         0.         0.         0.         0.         0.\n",
      " 0.         0.         0.15974477 0.         0.         0.\n",
      " 0.23852768 0.         0.         0.         0.         0.\n",
      " 0.         0.         0.         0.23852768 0.         0.\n",
      " 0.19244263 0.         0.23852768 0.         0.         0.\n",
      " 0.         0.19244263 0.15974477 0.         0.         0.\n",
      " 0.         0.23852768 0.         0.23852768 0.         0.\n",
      " 0.19244263 0.         0.         0.         0.         0.\n",
      " 0.         0.         0.         0.23852768 0.         0.\n",
      " 0.         0.         0.         0.         0.         0.\n",
      " 0.         0.         0.         0.         0.         0.\n",
      " 0.23852768 0.23852768 0.38488526 0.13438233 0.         0.23852768\n",
      " 0.         0.         0.         0.         0.         0.\n",
      " 0.         0.         0.         0.         0.         0.22731943\n",
      " 0.         0.         0.         0.         0.15974477 0.\n",
      " 0.15974477 0.         0.         0.         0.         0.23852768]\n",
      "\n",
      "Рецепт:\n",
      " i found this on the web after searching for african recipes that included broccoli for the zaar world tour 2005  it was on the mom mom website \n",
      "Вектор:\n",
      " [0.19890077 0.         0.19890077 0.19890077 0.         0.\n",
      " 0.         0.         0.         0.         0.         0.\n",
      " 0.         0.         0.         0.19890077 0.         0.\n",
      " 0.         0.         0.         0.         0.         0.\n",
      " 0.         0.         0.         0.         0.         0.\n",
      " 0.         0.32094378 0.13320617 0.         0.         0.\n",
      " 0.         0.         0.         0.         0.         0.\n",
      " 0.         0.19890077 0.         0.16047189 0.         0.\n",
      " 0.         0.         0.         0.         0.39780155 0.\n",
      " 0.         0.         0.         0.26641233 0.         0.\n",
      " 0.         0.         0.         0.         0.         0.\n",
      " 0.         0.         0.         0.11205723 0.         0.\n",
      " 0.19890077 0.         0.         0.         0.         0.\n",
      " 0.         0.16047189 0.3996185  0.         0.         0.09477728\n",
      " 0.         0.19890077 0.         0.         0.13320617 0.19890077\n",
      " 0.13320617 0.19890077 0.         0.         0.16047189 0.        ]\n",
      "\n",
      "Рецепт:\n",
      " there are many layered dip recipes out there   i have a couple of excellent ones in my collection  too  but this is a tasty new version that i think you ll enjoy    \n",
      "Вектор:\n",
      " [0.         0.         0.         0.         0.         0.\n",
      " 0.19518912 0.         0.         0.         0.         0.\n",
      " 0.         0.         0.         0.         0.19518912 0.\n",
      " 0.         0.         0.         0.         0.         0.19518912\n",
      " 0.         0.19518912 0.         0.         0.19518912 0.15747735\n",
      " 0.19518912 0.         0.         0.         0.         0.\n",
      " 0.         0.         0.19518912 0.         0.         0.\n",
      " 0.15747735 0.         0.13072043 0.         0.19518912 0.\n",
      " 0.19518912 0.         0.19518912 0.         0.         0.\n",
      " 0.15747735 0.19518912 0.15747735 0.         0.19518912 0.\n",
      " 0.         0.19518912 0.         0.         0.         0.\n",
      " 0.         0.         0.         0.10996614 0.         0.\n",
      " 0.         0.         0.         0.         0.         0.\n",
      " 0.19518912 0.15747735 0.         0.39037824 0.19518912 0.09300866\n",
      " 0.19518912 0.         0.19518912 0.         0.         0.\n",
      " 0.         0.         0.         0.19518912 0.         0.        ]\n",
      "\n"
     ]
    }
   ],
   "source": [
    "data = preprocessed_descriptions.sample(5)\n",
    "print(data)\n",
    "\n",
    "vectorizer = TfidfVectorizer()\n",
    "vectorizer.fit(data['preprocessed_descriptions'])\n",
    "sent_vec = vectorizer.transform(data['preprocessed_descriptions'])\n",
    "sent_vec = sent_vec.toarray()\n",
    "for i, recipe in enumerate(data['preprocessed_descriptions']):\n",
    "    print(\"Рецепт:\\n\", recipe)\n",
    "    print(\"Вектор:\\n\", sent_vec[i])\n",
    "    print()"
   ]
  },
  {
   "cell_type": "markdown",
   "metadata": {},
   "source": [
    "3.2 Вычислите близость между каждой парой рецептов, выбранных в задании 3.1, используя косинусное расстояние (`scipy.spatial.distance.cosine`) Результаты оформите в виде таблицы `pd.DataFrame`. В качестве названий строк и столбцов используйте названия рецептов."
   ]
  },
  {
   "cell_type": "code",
   "execution_count": 13,
   "metadata": {},
   "outputs": [
    {
     "name": "stdout",
     "output_type": "stream",
     "text": [
      "this is the actual recipe of the mongolian beef at pf changs  enjoy  found on pf chang s website  http   www pfchangs com chefscorner recipes gluten free mongolian beef recipe pdf\n",
      "this is the actual recipe of the mongolian beef at pf changs  enjoy  found on pf chang s website  http   www pfchangs com chefscorner recipes gluten free mongolian beef recipe pdf\n",
      "1\n",
      "\n",
      "this is the actual recipe of the mongolian beef at pf changs  enjoy  found on pf chang s website  http   www pfchangs com chefscorner recipes gluten free mongolian beef recipe pdf\n",
      "this cheeseburger pizza is so different from the others on  zaar  i renamed it  big mac  because it tastes like a big mac only better   my son christopher was served this as an appetizer at a bar  very surprising how good \n",
      "0.0\n",
      "\n",
      "this is the actual recipe of the mongolian beef at pf changs  enjoy  found on pf chang s website  http   www pfchangs com chefscorner recipes gluten free mongolian beef recipe pdf\n",
      "this recipe has been posted here for play in zwt9   scandinavia   this recipe was found at website  mindspring com   christian s danish recipes \n",
      "0.2345070476524006\n",
      "\n",
      "this is the actual recipe of the mongolian beef at pf changs  enjoy  found on pf chang s website  http   www pfchangs com chefscorner recipes gluten free mongolian beef recipe pdf\n",
      "i found this on the web after searching for african recipes that included broccoli for the zaar world tour 2005  it was on the mom mom website \n",
      "0.04048851443969914\n",
      "\n",
      "this is the actual recipe of the mongolian beef at pf changs  enjoy  found on pf chang s website  http   www pfchangs com chefscorner recipes gluten free mongolian beef recipe pdf\n",
      "there are many layered dip recipes out there   i have a couple of excellent ones in my collection  too  but this is a tasty new version that i think you ll enjoy    \n",
      "0.054197292273092446\n",
      "\n",
      "this cheeseburger pizza is so different from the others on  zaar  i renamed it  big mac  because it tastes like a big mac only better   my son christopher was served this as an appetizer at a bar  very surprising how good \n",
      "this is the actual recipe of the mongolian beef at pf changs  enjoy  found on pf chang s website  http   www pfchangs com chefscorner recipes gluten free mongolian beef recipe pdf\n",
      "0.0\n",
      "\n",
      "this cheeseburger pizza is so different from the others on  zaar  i renamed it  big mac  because it tastes like a big mac only better   my son christopher was served this as an appetizer at a bar  very surprising how good \n",
      "this cheeseburger pizza is so different from the others on  zaar  i renamed it  big mac  because it tastes like a big mac only better   my son christopher was served this as an appetizer at a bar  very surprising how good \n",
      "1\n",
      "\n",
      "this cheeseburger pizza is so different from the others on  zaar  i renamed it  big mac  because it tastes like a big mac only better   my son christopher was served this as an appetizer at a bar  very surprising how good \n",
      "this recipe has been posted here for play in zwt9   scandinavia   this recipe was found at website  mindspring com   christian s danish recipes \n",
      "0.0\n",
      "\n",
      "this cheeseburger pizza is so different from the others on  zaar  i renamed it  big mac  because it tastes like a big mac only better   my son christopher was served this as an appetizer at a bar  very surprising how good \n",
      "i found this on the web after searching for african recipes that included broccoli for the zaar world tour 2005  it was on the mom mom website \n",
      "0.03733852530555726\n",
      "\n",
      "this cheeseburger pizza is so different from the others on  zaar  i renamed it  big mac  because it tastes like a big mac only better   my son christopher was served this as an appetizer at a bar  very surprising how good \n",
      "there are many layered dip recipes out there   i have a couple of excellent ones in my collection  too  but this is a tasty new version that i think you ll enjoy    \n",
      "0.0\n",
      "\n",
      "this recipe has been posted here for play in zwt9   scandinavia   this recipe was found at website  mindspring com   christian s danish recipes \n",
      "this is the actual recipe of the mongolian beef at pf changs  enjoy  found on pf chang s website  http   www pfchangs com chefscorner recipes gluten free mongolian beef recipe pdf\n",
      "0.2345070476524006\n",
      "\n",
      "this recipe has been posted here for play in zwt9   scandinavia   this recipe was found at website  mindspring com   christian s danish recipes \n",
      "this cheeseburger pizza is so different from the others on  zaar  i renamed it  big mac  because it tastes like a big mac only better   my son christopher was served this as an appetizer at a bar  very surprising how good \n",
      "0.0\n",
      "\n",
      "this recipe has been posted here for play in zwt9   scandinavia   this recipe was found at website  mindspring com   christian s danish recipes \n",
      "this recipe has been posted here for play in zwt9   scandinavia   this recipe was found at website  mindspring com   christian s danish recipes \n",
      "1\n",
      "\n",
      "this recipe has been posted here for play in zwt9   scandinavia   this recipe was found at website  mindspring com   christian s danish recipes \n",
      "i found this on the web after searching for african recipes that included broccoli for the zaar world tour 2005  it was on the mom mom website \n",
      "0.06298748958186062\n",
      "\n",
      "this recipe has been posted here for play in zwt9   scandinavia   this recipe was found at website  mindspring com   christian s danish recipes \n",
      "there are many layered dip recipes out there   i have a couple of excellent ones in my collection  too  but this is a tasty new version that i think you ll enjoy    \n",
      "0.027636926147984964\n",
      "\n",
      "i found this on the web after searching for african recipes that included broccoli for the zaar world tour 2005  it was on the mom mom website \n",
      "this is the actual recipe of the mongolian beef at pf changs  enjoy  found on pf chang s website  http   www pfchangs com chefscorner recipes gluten free mongolian beef recipe pdf\n",
      "0.04048851443969914\n",
      "\n",
      "i found this on the web after searching for african recipes that included broccoli for the zaar world tour 2005  it was on the mom mom website \n",
      "this cheeseburger pizza is so different from the others on  zaar  i renamed it  big mac  because it tastes like a big mac only better   my son christopher was served this as an appetizer at a bar  very surprising how good \n",
      "0.03733852530555726\n",
      "\n",
      "i found this on the web after searching for african recipes that included broccoli for the zaar world tour 2005  it was on the mom mom website \n",
      "this recipe has been posted here for play in zwt9   scandinavia   this recipe was found at website  mindspring com   christian s danish recipes \n",
      "0.06298748958186062\n",
      "\n",
      "i found this on the web after searching for african recipes that included broccoli for the zaar world tour 2005  it was on the mom mom website \n",
      "i found this on the web after searching for african recipes that included broccoli for the zaar world tour 2005  it was on the mom mom website \n",
      "1\n",
      "\n",
      "i found this on the web after searching for african recipes that included broccoli for the zaar world tour 2005  it was on the mom mom website \n",
      "there are many layered dip recipes out there   i have a couple of excellent ones in my collection  too  but this is a tasty new version that i think you ll enjoy    \n",
      "0.025047553674125367\n",
      "\n",
      "there are many layered dip recipes out there   i have a couple of excellent ones in my collection  too  but this is a tasty new version that i think you ll enjoy    \n",
      "this is the actual recipe of the mongolian beef at pf changs  enjoy  found on pf chang s website  http   www pfchangs com chefscorner recipes gluten free mongolian beef recipe pdf\n",
      "0.054197292273092446\n",
      "\n",
      "there are many layered dip recipes out there   i have a couple of excellent ones in my collection  too  but this is a tasty new version that i think you ll enjoy    \n",
      "this cheeseburger pizza is so different from the others on  zaar  i renamed it  big mac  because it tastes like a big mac only better   my son christopher was served this as an appetizer at a bar  very surprising how good \n",
      "0.0\n",
      "\n",
      "there are many layered dip recipes out there   i have a couple of excellent ones in my collection  too  but this is a tasty new version that i think you ll enjoy    \n",
      "this recipe has been posted here for play in zwt9   scandinavia   this recipe was found at website  mindspring com   christian s danish recipes \n",
      "0.027636926147984964\n",
      "\n",
      "there are many layered dip recipes out there   i have a couple of excellent ones in my collection  too  but this is a tasty new version that i think you ll enjoy    \n",
      "i found this on the web after searching for african recipes that included broccoli for the zaar world tour 2005  it was on the mom mom website \n",
      "0.025047553674125367\n",
      "\n",
      "there are many layered dip recipes out there   i have a couple of excellent ones in my collection  too  but this is a tasty new version that i think you ll enjoy    \n",
      "there are many layered dip recipes out there   i have a couple of excellent ones in my collection  too  but this is a tasty new version that i think you ll enjoy    \n",
      "1\n",
      "\n"
     ]
    },
    {
     "data": {
      "text/html": [
       "<div>\n",
       "<style scoped>\n",
       "    .dataframe tbody tr th:only-of-type {\n",
       "        vertical-align: middle;\n",
       "    }\n",
       "\n",
       "    .dataframe tbody tr th {\n",
       "        vertical-align: top;\n",
       "    }\n",
       "\n",
       "    .dataframe thead th {\n",
       "        text-align: right;\n",
       "    }\n",
       "</style>\n",
       "<table border=\"1\" class=\"dataframe\">\n",
       "  <thead>\n",
       "    <tr style=\"text-align: right;\">\n",
       "      <th></th>\n",
       "      <th>this is the actual recipe of the mongolian beef at pf changs  enjoy  found on pf chang s website  http   www pfchangs com chefscorner recipes gluten free mongolian beef recipe pdf</th>\n",
       "      <th>this cheeseburger pizza is so different from the others on  zaar  i renamed it  big mac  because it tastes like a big mac only better   my son christopher was served this as an appetizer at a bar  very surprising how good</th>\n",
       "      <th>this recipe has been posted here for play in zwt9   scandinavia   this recipe was found at website  mindspring com   christian s danish recipes</th>\n",
       "      <th>i found this on the web after searching for african recipes that included broccoli for the zaar world tour 2005  it was on the mom mom website</th>\n",
       "      <th>there are many layered dip recipes out there   i have a couple of excellent ones in my collection  too  but this is a tasty new version that i think you ll enjoy</th>\n",
       "    </tr>\n",
       "  </thead>\n",
       "  <tbody>\n",
       "    <tr>\n",
       "      <th>this is the actual recipe of the mongolian beef at pf changs  enjoy  found on pf chang s website  http   www pfchangs com chefscorner recipes gluten free mongolian beef recipe pdf</th>\n",
       "      <td>1.000000</td>\n",
       "      <td>0.000000</td>\n",
       "      <td>0.234507</td>\n",
       "      <td>0.040489</td>\n",
       "      <td>0.054197</td>\n",
       "    </tr>\n",
       "    <tr>\n",
       "      <th>this cheeseburger pizza is so different from the others on  zaar  i renamed it  big mac  because it tastes like a big mac only better   my son christopher was served this as an appetizer at a bar  very surprising how good</th>\n",
       "      <td>0.000000</td>\n",
       "      <td>1.000000</td>\n",
       "      <td>0.000000</td>\n",
       "      <td>0.037339</td>\n",
       "      <td>0.000000</td>\n",
       "    </tr>\n",
       "    <tr>\n",
       "      <th>this recipe has been posted here for play in zwt9   scandinavia   this recipe was found at website  mindspring com   christian s danish recipes</th>\n",
       "      <td>0.234507</td>\n",
       "      <td>0.000000</td>\n",
       "      <td>1.000000</td>\n",
       "      <td>0.062987</td>\n",
       "      <td>0.027637</td>\n",
       "    </tr>\n",
       "    <tr>\n",
       "      <th>i found this on the web after searching for african recipes that included broccoli for the zaar world tour 2005  it was on the mom mom website</th>\n",
       "      <td>0.040489</td>\n",
       "      <td>0.037339</td>\n",
       "      <td>0.062987</td>\n",
       "      <td>1.000000</td>\n",
       "      <td>0.025048</td>\n",
       "    </tr>\n",
       "    <tr>\n",
       "      <th>there are many layered dip recipes out there   i have a couple of excellent ones in my collection  too  but this is a tasty new version that i think you ll enjoy</th>\n",
       "      <td>0.054197</td>\n",
       "      <td>0.000000</td>\n",
       "      <td>0.027637</td>\n",
       "      <td>0.025048</td>\n",
       "      <td>1.000000</td>\n",
       "    </tr>\n",
       "  </tbody>\n",
       "</table>\n",
       "</div>"
      ],
      "text/plain": [
       "                                                    this is the actual recipe of the mongolian beef at pf changs  enjoy  found on pf chang s website  http   www pfchangs com chefscorner recipes gluten free mongolian beef recipe pdf  \\\n",
       "this is the actual recipe of the mongolian beef...                                           1.000000                                                                                                                                     \n",
       "this cheeseburger pizza is so different from th...                                           0.000000                                                                                                                                     \n",
       "this recipe has been posted here for play in zw...                                           0.234507                                                                                                                                     \n",
       "i found this on the web after searching for afr...                                           0.040489                                                                                                                                     \n",
       "there are many layered dip recipes out there   ...                                           0.054197                                                                                                                                     \n",
       "\n",
       "                                                    this cheeseburger pizza is so different from the others on  zaar  i renamed it  big mac  because it tastes like a big mac only better   my son christopher was served this as an appetizer at a bar  very surprising how good   \\\n",
       "this is the actual recipe of the mongolian beef...                                           0.000000                                                                                                                                                                                \n",
       "this cheeseburger pizza is so different from th...                                           1.000000                                                                                                                                                                                \n",
       "this recipe has been posted here for play in zw...                                           0.000000                                                                                                                                                                                \n",
       "i found this on the web after searching for afr...                                           0.037339                                                                                                                                                                                \n",
       "there are many layered dip recipes out there   ...                                           0.000000                                                                                                                                                                                \n",
       "\n",
       "                                                    this recipe has been posted here for play in zwt9   scandinavia   this recipe was found at website  mindspring com   christian s danish recipes   \\\n",
       "this is the actual recipe of the mongolian beef...                                           0.234507                                                                                                  \n",
       "this cheeseburger pizza is so different from th...                                           0.000000                                                                                                  \n",
       "this recipe has been posted here for play in zw...                                           1.000000                                                                                                  \n",
       "i found this on the web after searching for afr...                                           0.062987                                                                                                  \n",
       "there are many layered dip recipes out there   ...                                           0.027637                                                                                                  \n",
       "\n",
       "                                                    i found this on the web after searching for african recipes that included broccoli for the zaar world tour 2005  it was on the mom mom website   \\\n",
       "this is the actual recipe of the mongolian beef...                                           0.040489                                                                                                 \n",
       "this cheeseburger pizza is so different from th...                                           0.037339                                                                                                 \n",
       "this recipe has been posted here for play in zw...                                           0.062987                                                                                                 \n",
       "i found this on the web after searching for afr...                                           1.000000                                                                                                 \n",
       "there are many layered dip recipes out there   ...                                           0.025048                                                                                                 \n",
       "\n",
       "                                                    there are many layered dip recipes out there   i have a couple of excellent ones in my collection  too  but this is a tasty new version that i think you ll enjoy      \n",
       "this is the actual recipe of the mongolian beef...                                           0.054197                                                                                                                      \n",
       "this cheeseburger pizza is so different from th...                                           0.000000                                                                                                                      \n",
       "this recipe has been posted here for play in zw...                                           0.027637                                                                                                                      \n",
       "i found this on the web after searching for afr...                                           0.025048                                                                                                                      \n",
       "there are many layered dip recipes out there   ...                                           1.000000                                                                                                                      "
      ]
     },
     "execution_count": 13,
     "metadata": {},
     "output_type": "execute_result"
    }
   ],
   "source": [
    "import itertools\n",
    "from scipy.spatial import distance\n",
    "\n",
    "max_pair = None\n",
    "max_result = -1\n",
    "\n",
    "coeff_dict = {}\n",
    "vectorizer3 = TfidfVectorizer(analyzer=\"word\", stop_words=\"english\")\n",
    "transform3 = vectorizer3.fit_transform(data[\"preprocessed_descriptions\"].to_list())\n",
    "\n",
    "all_data = list(zip(data[\"preprocessed_descriptions\"].to_list(), transform3.toarray()))\n",
    "\n",
    "for pair in itertools.product(all_data, repeat=2):\n",
    "    \n",
    "    text1, matrix1 = pair[0]\n",
    "    text2, matrix2 = pair[1]\n",
    "    result = distance.cosine(matrix1, matrix2)\n",
    "    inverse_result = 1-result\n",
    "    \n",
    "    if text1 not in coeff_dict:\n",
    "        coeff_dict[text1] = []\n",
    "    coeff_dict[text1].append(inverse_result)\n",
    "    \n",
    "\n",
    "    if inverse_result > max_result and text1 != text2:\n",
    "        max_result = inverse_result\n",
    "        max_pair = (text1, text2)\n",
    "    \n",
    "    print(f\"{text1}\\n{text2}\\n{inverse_result}\\n\")\n",
    "\n",
    "df_final2 = pd.DataFrame.from_dict(coeff_dict)\n",
    "df_final2.columns = data[\"preprocessed_descriptions\"].to_list()\n",
    "df_final2.index = data[\"preprocessed_descriptions\"].to_list()\n",
    "df_final2"
   ]
  },
  {
   "cell_type": "markdown",
   "metadata": {},
   "source": [
    "3.3 Какие рецепты являются наиболее похожими? Прокомментируйте результат (словами)."
   ]
  },
  {
   "cell_type": "code",
   "execution_count": 14,
   "metadata": {},
   "outputs": [
    {
     "name": "stdout",
     "output_type": "stream",
     "text": [
      "Из датасета выше больше всего совпадений в предложениях:\n",
      "\n",
      "this is the actual recipe of the mongolian beef at pf changs  enjoy  found on pf chang s website  http   www pfchangs com chefscorner recipes gluten free mongolian beef recipe pdf\n",
      "\n",
      "this recipe has been posted here for play in zwt9   scandinavia   this recipe was found at website  mindspring com   christian s danish recipes \n",
      "\n",
      "0.2345070476524006\n"
     ]
    }
   ],
   "source": [
    "print(f\"Из датасета выше больше всего совпадений в предложениях:\\n\\n{max_pair[0]}\\n\\n{max_pair[1]}\\n\\n{max_result}\")"
   ]
  }
 ],
 "metadata": {
  "kernelspec": {
   "display_name": "Python 3 (ipykernel)",
   "language": "python",
   "name": "python3"
  },
  "language_info": {
   "codemirror_mode": {
    "name": "ipython",
    "version": 3
   },
   "file_extension": ".py",
   "mimetype": "text/x-python",
   "name": "python",
   "nbconvert_exporter": "python",
   "pygments_lexer": "ipython3",
   "version": "3.11.5"
  }
 },
 "nbformat": 4,
 "nbformat_minor": 4
}
