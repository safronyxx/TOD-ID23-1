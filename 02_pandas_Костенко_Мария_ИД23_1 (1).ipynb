{
  "cells": [
    {
      "cell_type": "markdown",
      "metadata": {
        "id": "KFbev0CywU7S"
      },
      "source": [
        "# Pandas"
      ]
    },
    {
      "cell_type": "markdown",
      "metadata": {
        "id": "qdjYPy6iwU7U"
      },
      "source": [
        "Материалы:\n",
        "* Макрушин С.В. \"Лекция 2: Библиотека Pandas\"\n",
        "* https://pandas.pydata.org/docs/user_guide/index.html#\n",
        "* https://pandas.pydata.org/docs/reference/index.html\n",
        "* Уэс Маккини. Python и анализ данных"
      ]
    },
    {
      "cell_type": "markdown",
      "metadata": {
        "id": "5MgeiSxswU7V"
      },
      "source": [
        "## Задачи для совместного разбора"
      ]
    },
    {
      "cell_type": "markdown",
      "metadata": {
        "id": "i889mqd4wU7V"
      },
      "source": [
        "1. Загрузите данные из файла `sp500hst.txt` и обозначьте столбцы в соответствии с содержимым: `\"date\", \"ticker\", \"open\", \"high\", \"low\", \"close\", \"volume\"`."
      ]
    },
    {
      "cell_type": "code",
      "source": [
        "import pandas as pd # импортируем библиотеки\n",
        "import numpy as np\n",
        "\n",
        "data = pd.read_csv(\"sp500hst.txt\", sep=\",\") # считываем файл\n",
        "data.columns = [\"date\", \" ticker\", \"open\", \"high\", \"low\", \"close\", \"volume\"] # создаем подписи для каждой колонны\n",
        "print(data.head()) # с помощью .head() выводим первые 5 строк"
      ],
      "metadata": {
        "colab": {
          "base_uri": "https://localhost:8080/"
        },
        "id": "vux-L75Mwg0e",
        "outputId": "f4221b6d-16f1-43f0-fa31-391c9a301c5c"
      },
      "execution_count": null,
      "outputs": [
        {
          "output_type": "stream",
          "name": "stdout",
          "text": [
            "       date  ticker   open     high     low  close  volume\n",
            "0  20090824       A  25.64  25.7400  25.330  25.50   22247\n",
            "1  20090825       A  25.50  25.7000  25.225  25.34   30891\n",
            "2  20090826       A  25.32  25.6425  25.145  25.48   33334\n",
            "3  20090827       A  25.50  25.5700  25.230  25.54   70176\n",
            "4  20090828       A  25.67  26.0500  25.630  25.83   39694\n"
          ]
        }
      ]
    },
    {
      "cell_type": "markdown",
      "metadata": {
        "id": "SM25sum3wU7V"
      },
      "source": [
        "2. Рассчитайте среднее значение показателей для каждого из столбцов c номерами 3-6."
      ]
    },
    {
      "cell_type": "code",
      "source": [
        "import statistics\n",
        "mean_3 = statistics.mean(data[\"open\"])\n",
        "print(\"среднее значение 3-го столбца:\", mean_3)\n",
        "\n",
        "mean_4 = statistics.mean(data[\"high\"])\n",
        "print(\"среднее значение 4-го столбца:\", mean_4)\n",
        "\n",
        "mean_5 = statistics.mean(data[\"low\"])\n",
        "print(\"среднее значение 5-го столбца:\", mean_5)\n",
        "\n",
        "mean_6 = statistics.mean(data[\"close\"])\n",
        "print(\"среднее значение 6-го столбца:\", mean_6)"
      ],
      "metadata": {
        "colab": {
          "base_uri": "https://localhost:8080/"
        },
        "id": "XkdMacN3whtc",
        "outputId": "3dbe681a-1ebf-405e-da53-2da2772d4391"
      },
      "execution_count": null,
      "outputs": [
        {
          "output_type": "stream",
          "name": "stdout",
          "text": [
            "среднее значение показателей 3-го столбца: 42.59559631484911\n",
            "среднее значение показателей 4-го столбца: 43.10238609644865\n",
            "среднее значение показателей 5-го столбца: 42.05460100756284\n",
            "среднее значение показателей 6-го столбца: 42.60200396416829\n"
          ]
        }
      ]
    },
    {
      "cell_type": "markdown",
      "metadata": {
        "id": "XOKqrlaBwU7V"
      },
      "source": [
        "3. Добавьте столбец, содержащий только число месяца, к которому относится дата."
      ]
    },
    {
      "cell_type": "code",
      "source": [
        "data['date'] = pd.to_datetime(data['date'], format='%Y%m%d') # разделяем дату по годам/месяцам/дням\n",
        "data[\"Month number\"] = data[\"date\"].dt.month # добаляем столбец только с месяцем, к которому относится дата\n",
        "print(data)"
      ],
      "metadata": {
        "colab": {
          "base_uri": "https://localhost:8080/"
        },
        "id": "0Mjgs0_JwlhN",
        "outputId": "c79a399f-831e-41ac-c466-220ffa0d2a35"
      },
      "execution_count": null,
      "outputs": [
        {
          "output_type": "stream",
          "name": "stdout",
          "text": [
            "             date  ticker   open     high     low  close  volume  Month number\n",
            "0      2009-08-24       A  25.64  25.7400  25.330  25.50   22247             8\n",
            "1      2009-08-25       A  25.50  25.7000  25.225  25.34   30891             8\n",
            "2      2009-08-26       A  25.32  25.6425  25.145  25.48   33334             8\n",
            "3      2009-08-27       A  25.50  25.5700  25.230  25.54   70176             8\n",
            "4      2009-08-28       A  25.67  26.0500  25.630  25.83   39694             8\n",
            "...           ...     ...    ...      ...     ...    ...     ...           ...\n",
            "122568 2010-08-13     ZMH  51.72  51.9000  51.380  51.44   14561             8\n",
            "122569 2010-08-16     ZMH  51.13  51.4700  50.600  51.00   13489             8\n",
            "122570 2010-08-17     ZMH  51.14  51.6000  50.890  51.21   20498             8\n",
            "122571 2010-08-19     ZMH  51.63  51.6300  50.170  50.22   18259             8\n",
            "122572 2010-08-20     ZMH  50.03  50.5500  49.480  49.82   17792             8\n",
            "\n",
            "[122573 rows x 8 columns]\n"
          ]
        }
      ]
    },
    {
      "cell_type": "markdown",
      "metadata": {
        "id": "6BE9x27TwU7W"
      },
      "source": [
        "4. Рассчитайте суммарный объем торгов для для одинаковых значений тикеров."
      ]
    },
    {
      "cell_type": "code",
      "source": [
        "tickers = data[\"ticker\"].unique()\n",
        "result = []\n",
        "for i in tickers:\n",
        "  result.append(data.loc[data[\"ticker\"] == i, \"volume\"].sum())\n",
        "result"
      ],
      "metadata": {
        "id": "zq-pS3hnwmgx",
        "colab": {
          "base_uri": "https://localhost:8080/",
          "height": 478
        },
        "outputId": "b8343b6e-7560-487d-f424-62645aeb4999"
      },
      "execution_count": null,
      "outputs": [
        {
          "output_type": "error",
          "ename": "KeyError",
          "evalue": "'ticker'",
          "traceback": [
            "\u001b[0;31m---------------------------------------------------------------------------\u001b[0m",
            "\u001b[0;31mKeyError\u001b[0m                                  Traceback (most recent call last)",
            "\u001b[0;32m/usr/local/lib/python3.10/dist-packages/pandas/core/indexes/base.py\u001b[0m in \u001b[0;36mget_loc\u001b[0;34m(self, key, method, tolerance)\u001b[0m\n\u001b[1;32m   3801\u001b[0m             \u001b[0;32mtry\u001b[0m\u001b[0;34m:\u001b[0m\u001b[0;34m\u001b[0m\u001b[0;34m\u001b[0m\u001b[0m\n\u001b[0;32m-> 3802\u001b[0;31m                 \u001b[0;32mreturn\u001b[0m \u001b[0mself\u001b[0m\u001b[0;34m.\u001b[0m\u001b[0m_engine\u001b[0m\u001b[0;34m.\u001b[0m\u001b[0mget_loc\u001b[0m\u001b[0;34m(\u001b[0m\u001b[0mcasted_key\u001b[0m\u001b[0;34m)\u001b[0m\u001b[0;34m\u001b[0m\u001b[0;34m\u001b[0m\u001b[0m\n\u001b[0m\u001b[1;32m   3803\u001b[0m             \u001b[0;32mexcept\u001b[0m \u001b[0mKeyError\u001b[0m \u001b[0;32mas\u001b[0m \u001b[0merr\u001b[0m\u001b[0;34m:\u001b[0m\u001b[0;34m\u001b[0m\u001b[0;34m\u001b[0m\u001b[0m\n",
            "\u001b[0;32m/usr/local/lib/python3.10/dist-packages/pandas/_libs/index.pyx\u001b[0m in \u001b[0;36mpandas._libs.index.IndexEngine.get_loc\u001b[0;34m()\u001b[0m\n",
            "\u001b[0;32m/usr/local/lib/python3.10/dist-packages/pandas/_libs/index.pyx\u001b[0m in \u001b[0;36mpandas._libs.index.IndexEngine.get_loc\u001b[0;34m()\u001b[0m\n",
            "\u001b[0;32mpandas/_libs/hashtable_class_helper.pxi\u001b[0m in \u001b[0;36mpandas._libs.hashtable.PyObjectHashTable.get_item\u001b[0;34m()\u001b[0m\n",
            "\u001b[0;32mpandas/_libs/hashtable_class_helper.pxi\u001b[0m in \u001b[0;36mpandas._libs.hashtable.PyObjectHashTable.get_item\u001b[0;34m()\u001b[0m\n",
            "\u001b[0;31mKeyError\u001b[0m: 'ticker'",
            "\nThe above exception was the direct cause of the following exception:\n",
            "\u001b[0;31mKeyError\u001b[0m                                  Traceback (most recent call last)",
            "\u001b[0;32m<ipython-input-29-774c4c1662eb>\u001b[0m in \u001b[0;36m<cell line: 1>\u001b[0;34m()\u001b[0m\n\u001b[0;32m----> 1\u001b[0;31m \u001b[0mtickers\u001b[0m \u001b[0;34m=\u001b[0m \u001b[0mdata\u001b[0m\u001b[0;34m[\u001b[0m\u001b[0;34m\"ticker\"\u001b[0m\u001b[0;34m]\u001b[0m\u001b[0;34m.\u001b[0m\u001b[0munique\u001b[0m\u001b[0;34m(\u001b[0m\u001b[0;34m)\u001b[0m\u001b[0;34m\u001b[0m\u001b[0;34m\u001b[0m\u001b[0m\n\u001b[0m\u001b[1;32m      2\u001b[0m \u001b[0mresult\u001b[0m \u001b[0;34m=\u001b[0m \u001b[0;34m[\u001b[0m\u001b[0;34m]\u001b[0m\u001b[0;34m\u001b[0m\u001b[0;34m\u001b[0m\u001b[0m\n\u001b[1;32m      3\u001b[0m \u001b[0;32mfor\u001b[0m \u001b[0mi\u001b[0m \u001b[0;32min\u001b[0m \u001b[0mtickers\u001b[0m\u001b[0;34m:\u001b[0m\u001b[0;34m\u001b[0m\u001b[0;34m\u001b[0m\u001b[0m\n\u001b[1;32m      4\u001b[0m   \u001b[0mresult\u001b[0m\u001b[0;34m.\u001b[0m\u001b[0mappend\u001b[0m\u001b[0;34m(\u001b[0m\u001b[0mdata\u001b[0m\u001b[0;34m.\u001b[0m\u001b[0mloc\u001b[0m\u001b[0;34m[\u001b[0m\u001b[0mdata\u001b[0m\u001b[0;34m[\u001b[0m\u001b[0;34m\"ticker\"\u001b[0m\u001b[0;34m]\u001b[0m \u001b[0;34m==\u001b[0m \u001b[0mi\u001b[0m\u001b[0;34m,\u001b[0m \u001b[0;34m\"volume\"\u001b[0m\u001b[0;34m]\u001b[0m\u001b[0;34m.\u001b[0m\u001b[0msum\u001b[0m\u001b[0;34m(\u001b[0m\u001b[0;34m)\u001b[0m\u001b[0;34m)\u001b[0m\u001b[0;34m\u001b[0m\u001b[0;34m\u001b[0m\u001b[0m\n\u001b[1;32m      5\u001b[0m \u001b[0mresult\u001b[0m\u001b[0;34m\u001b[0m\u001b[0;34m\u001b[0m\u001b[0m\n",
            "\u001b[0;32m/usr/local/lib/python3.10/dist-packages/pandas/core/frame.py\u001b[0m in \u001b[0;36m__getitem__\u001b[0;34m(self, key)\u001b[0m\n\u001b[1;32m   3805\u001b[0m             \u001b[0;32mif\u001b[0m \u001b[0mself\u001b[0m\u001b[0;34m.\u001b[0m\u001b[0mcolumns\u001b[0m\u001b[0;34m.\u001b[0m\u001b[0mnlevels\u001b[0m \u001b[0;34m>\u001b[0m \u001b[0;36m1\u001b[0m\u001b[0;34m:\u001b[0m\u001b[0;34m\u001b[0m\u001b[0;34m\u001b[0m\u001b[0m\n\u001b[1;32m   3806\u001b[0m                 \u001b[0;32mreturn\u001b[0m \u001b[0mself\u001b[0m\u001b[0;34m.\u001b[0m\u001b[0m_getitem_multilevel\u001b[0m\u001b[0;34m(\u001b[0m\u001b[0mkey\u001b[0m\u001b[0;34m)\u001b[0m\u001b[0;34m\u001b[0m\u001b[0;34m\u001b[0m\u001b[0m\n\u001b[0;32m-> 3807\u001b[0;31m             \u001b[0mindexer\u001b[0m \u001b[0;34m=\u001b[0m \u001b[0mself\u001b[0m\u001b[0;34m.\u001b[0m\u001b[0mcolumns\u001b[0m\u001b[0;34m.\u001b[0m\u001b[0mget_loc\u001b[0m\u001b[0;34m(\u001b[0m\u001b[0mkey\u001b[0m\u001b[0;34m)\u001b[0m\u001b[0;34m\u001b[0m\u001b[0;34m\u001b[0m\u001b[0m\n\u001b[0m\u001b[1;32m   3808\u001b[0m             \u001b[0;32mif\u001b[0m \u001b[0mis_integer\u001b[0m\u001b[0;34m(\u001b[0m\u001b[0mindexer\u001b[0m\u001b[0;34m)\u001b[0m\u001b[0;34m:\u001b[0m\u001b[0;34m\u001b[0m\u001b[0;34m\u001b[0m\u001b[0m\n\u001b[1;32m   3809\u001b[0m                 \u001b[0mindexer\u001b[0m \u001b[0;34m=\u001b[0m \u001b[0;34m[\u001b[0m\u001b[0mindexer\u001b[0m\u001b[0;34m]\u001b[0m\u001b[0;34m\u001b[0m\u001b[0;34m\u001b[0m\u001b[0m\n",
            "\u001b[0;32m/usr/local/lib/python3.10/dist-packages/pandas/core/indexes/base.py\u001b[0m in \u001b[0;36mget_loc\u001b[0;34m(self, key, method, tolerance)\u001b[0m\n\u001b[1;32m   3802\u001b[0m                 \u001b[0;32mreturn\u001b[0m \u001b[0mself\u001b[0m\u001b[0;34m.\u001b[0m\u001b[0m_engine\u001b[0m\u001b[0;34m.\u001b[0m\u001b[0mget_loc\u001b[0m\u001b[0;34m(\u001b[0m\u001b[0mcasted_key\u001b[0m\u001b[0;34m)\u001b[0m\u001b[0;34m\u001b[0m\u001b[0;34m\u001b[0m\u001b[0m\n\u001b[1;32m   3803\u001b[0m             \u001b[0;32mexcept\u001b[0m \u001b[0mKeyError\u001b[0m \u001b[0;32mas\u001b[0m \u001b[0merr\u001b[0m\u001b[0;34m:\u001b[0m\u001b[0;34m\u001b[0m\u001b[0;34m\u001b[0m\u001b[0m\n\u001b[0;32m-> 3804\u001b[0;31m                 \u001b[0;32mraise\u001b[0m \u001b[0mKeyError\u001b[0m\u001b[0;34m(\u001b[0m\u001b[0mkey\u001b[0m\u001b[0;34m)\u001b[0m \u001b[0;32mfrom\u001b[0m \u001b[0merr\u001b[0m\u001b[0;34m\u001b[0m\u001b[0;34m\u001b[0m\u001b[0m\n\u001b[0m\u001b[1;32m   3805\u001b[0m             \u001b[0;32mexcept\u001b[0m \u001b[0mTypeError\u001b[0m\u001b[0;34m:\u001b[0m\u001b[0;34m\u001b[0m\u001b[0;34m\u001b[0m\u001b[0m\n\u001b[1;32m   3806\u001b[0m                 \u001b[0;31m# If we have a listlike key, _check_indexing_error will raise\u001b[0m\u001b[0;34m\u001b[0m\u001b[0;34m\u001b[0m\u001b[0m\n",
            "\u001b[0;31mKeyError\u001b[0m: 'ticker'"
          ]
        }
      ]
    },
    {
      "cell_type": "markdown",
      "metadata": {
        "id": "qddKY_g0wU7W"
      },
      "source": [
        "5. Загрузите данные из файла sp500hst.txt и обозначьте столбцы в соответствии с содержимым: \"date\", \"ticker\", \"open\", \"high\", \"low\", \"close\", \"volume\". Добавьте столбец с расшифровкой названия тикера, используя данные из файла `sp_data2.csv` . В случае нехватки данных об именах тикеров корректно обработать их."
      ]
    },
    {
      "cell_type": "code",
      "source": [
        "new_data = pd.read_csv(\"sp_data2.csv\", sep=\";\", error_bad_lines=False)\n",
        "new_data.columns = [\"Abbreviation\", \"Full name\", \"Percent\"]\n",
        "print(new_data)"
      ],
      "metadata": {
        "id": "g8wnYwSfboxW"
      },
      "execution_count": null,
      "outputs": []
    },
    {
      "cell_type": "markdown",
      "metadata": {
        "id": "nskFk4-GwU7W"
      },
      "source": [
        "## Лабораторная работа №2"
      ]
    },
    {
      "cell_type": "markdown",
      "metadata": {
        "id": "5HwJckTgwU7W"
      },
      "source": [
        "### Базовые операции с `DataFrame`"
      ]
    },
    {
      "cell_type": "markdown",
      "metadata": {
        "id": "dx9IRSqQwU7X"
      },
      "source": [
        "1.1 В файлах `recipes_sample.csv` и `reviews_sample.csv` находится информация об рецептах блюд и отзывах на эти рецепты соответственно. Загрузите данные из файлов в виде `pd.DataFrame` с названиями `recipes` и `reviews`. Обратите внимание на корректное считывание столбца с индексами в таблице `reviews` (безымянный столбец)."
      ]
    },
    {
      "cell_type": "code",
      "source": [
        "import pandas as pd\n",
        "\n",
        "recipes = pd.read_csv('recipes_sample.csv') # считываем файл с рецептами\n",
        "\n",
        "\n",
        "reviews = pd.read_csv('reviews_sample.csv')  # считываем файл с индексами\n",
        "\n",
        "print(recipes.head()) # выводим первые 5 строк с помощью .head()\n",
        "print(reviews.head())\n"
      ],
      "metadata": {
        "colab": {
          "base_uri": "https://localhost:8080/"
        },
        "id": "9DuDxOLJ_RvN",
        "outputId": "93fe6c42-62bf-40ae-99a4-dd73dcc00489"
      },
      "execution_count": 7,
      "outputs": [
        {
          "output_type": "stream",
          "name": "stdout",
          "text": [
            "                                       name     id  minutes  contributor_id  \\\n",
            "0     george s at the cove  black bean soup  44123       90           35193   \n",
            "1        healthy for them  yogurt popsicles  67664       10           91970   \n",
            "2              i can t believe it s spinach  38798       30            1533   \n",
            "3                      italian  gut busters  35173       45           22724   \n",
            "4  love is in the air  beef fondue   sauces  84797       25            4470   \n",
            "\n",
            "    submitted  n_steps                                        description  \\\n",
            "0  2002-10-25      NaN  an original recipe created by chef scott meska...   \n",
            "1  2003-07-26      NaN  my children and their friends ask for my homem...   \n",
            "2  2002-08-29      NaN            these were so go, it surprised even me.   \n",
            "3  2002-07-27      NaN  my sister-in-law made these for us at a family...   \n",
            "4  2004-02-23      4.0  i think a fondue is a very romantic casual din...   \n",
            "\n",
            "   n_ingredients  \n",
            "0           18.0  \n",
            "1            NaN  \n",
            "2            8.0  \n",
            "3            NaN  \n",
            "4            NaN  \n",
            "   Unnamed: 0     user_id  recipe_id        date  rating  \\\n",
            "0      370476       21752      57993  2003-05-01       5   \n",
            "1      624300      431813     142201  2007-09-16       5   \n",
            "2      187037      400708     252013  2008-01-10       4   \n",
            "3      706134  2001852463     404716  2017-12-11       5   \n",
            "4      312179       95810     129396  2008-03-14       5   \n",
            "\n",
            "                                              review  \n",
            "0  Last week whole sides of frozen salmon fillet ...  \n",
            "1  So simple and so tasty!  I used a yellow capsi...  \n",
            "2  Very nice breakfast HH, easy to make and yummy...  \n",
            "3  These are a favorite for the holidays and so e...  \n",
            "4  Excellent soup!  The tomato flavor is just gre...  \n"
          ]
        }
      ]
    },
    {
      "cell_type": "markdown",
      "metadata": {
        "id": "RkCzFX5dwU7X"
      },
      "source": [
        "1.2 Для каждой из таблиц выведите основные параметры:\n",
        "* количество точек данных (строк);\n",
        "* количество столбцов;\n",
        "* тип данных каждого столбца."
      ]
    },
    {
      "cell_type": "code",
      "source": [
        "print('Количество строк: ', len(recipes.index))\n",
        "print('Количество столбцов: ' , recipes.shape[1])\n",
        "print(recipes.dtypes) # типы данных столбца\n",
        "\n",
        "print('Количество строк: ', len(reviews.index))\n",
        "print('Количество столбцов: ', len(reviews.columns))\n",
        "print(reviews.dtypes) # типы данных столбца"
      ],
      "metadata": {
        "colab": {
          "base_uri": "https://localhost:8080/"
        },
        "id": "rDpOEBUVHwnV",
        "outputId": "ec8fd2d5-ab98-4f3e-ac74-42f7d3e907c6"
      },
      "execution_count": 8,
      "outputs": [
        {
          "output_type": "stream",
          "name": "stdout",
          "text": [
            "Количество строк:  30000\n",
            "Количество столбцов:  8\n",
            "name               object\n",
            "id                  int64\n",
            "minutes             int64\n",
            "contributor_id      int64\n",
            "submitted          object\n",
            "n_steps           float64\n",
            "description        object\n",
            "n_ingredients     float64\n",
            "dtype: object\n",
            "Количество строк:  126696\n",
            "Количество столбцов:  6\n",
            "Unnamed: 0     int64\n",
            "user_id        int64\n",
            "recipe_id      int64\n",
            "date          object\n",
            "rating         int64\n",
            "review        object\n",
            "dtype: object\n"
          ]
        }
      ]
    },
    {
      "cell_type": "markdown",
      "metadata": {
        "id": "yWWInbW3wU7X"
      },
      "source": [
        "1.3 Исследуйте, в каких столбцах таблиц содержатся пропуски. Посчитайте долю строк, содержащих пропуски, в отношении к общему количеству строк."
      ]
    },
    {
      "cell_type": "code",
      "source": [
        "missval_recipes = recipes.isnull().sum() # пропуски в столбцах recipes\n",
        "\n",
        "missval_reviews = reviews.isnull().sum() # пропуски в столбцах reviews\n",
        "\n",
        "# Посчитаем долю строк с пропусками относительно общего количества строк\n",
        "missrows_recipes = recipes.isnull().any(axis=1).sum() / len(recipes)\n",
        "missrows_reviews = reviews.isnull().any(axis=1).sum() / len(reviews)\n",
        "\n",
        "print(f\"Доля строк с пропусками в таблице recipes: {missrows_recipes:.2%}\")\n",
        "print(f\"Доля строк с пропусками в таблице reviews: {missrows_reviews:.2%}\")"
      ],
      "metadata": {
        "colab": {
          "base_uri": "https://localhost:8080/"
        },
        "id": "im5ne9_PJ1Fz",
        "outputId": "4b386786-4452-44a5-e90b-d18b286c3b90"
      },
      "execution_count": 9,
      "outputs": [
        {
          "output_type": "stream",
          "name": "stdout",
          "text": [
            "Доля строк с пропусками в таблице recipes: 56.85%\n",
            "Доля строк с пропусками в таблице reviews: 0.01%\n"
          ]
        }
      ]
    },
    {
      "cell_type": "markdown",
      "metadata": {
        "id": "bGWvlV66wU7X"
      },
      "source": [
        "1.4 Рассчитайте среднее значение для каждого из числовых столбцов (где это имеет смысл)."
      ]
    },
    {
      "cell_type": "code",
      "source": [
        "mean_time = recipes.minutes.sum()/len(recipes) # среднее время\n",
        "rating = reviews.rating.sum()/len(recipes) # рейтинг среди кол-ва отзывов\n",
        "mean_time, rating"
      ],
      "metadata": {
        "colab": {
          "base_uri": "https://localhost:8080/"
        },
        "id": "Lofb2QRmO7es",
        "outputId": "301ef051-f665-4824-801e-3491acca47c8"
      },
      "execution_count": 10,
      "outputs": [
        {
          "output_type": "execute_result",
          "data": {
            "text/plain": [
              "(123.35813333333333, 18.6277)"
            ]
          },
          "metadata": {},
          "execution_count": 10
        }
      ]
    },
    {
      "cell_type": "markdown",
      "metadata": {
        "id": "LqAfQxc6wU7Y"
      },
      "source": [
        "1.5 Создайте серию из 10 случайных названий рецептов."
      ]
    },
    {
      "cell_type": "code",
      "source": [
        "import numpy as np\n",
        "import pandas as pd\n",
        "arr_recipes = recipes['name'].sample(10) # .sample возвращает случайную выборку элементов из последовательности\n",
        "print(arr_recipes)"
      ],
      "metadata": {
        "id": "B16eOzBYMHgu",
        "colab": {
          "base_uri": "https://localhost:8080/"
        },
        "outputId": "fa7f1afd-13ce-46db-ee67-c73da50f087e"
      },
      "execution_count": 11,
      "outputs": [
        {
          "output_type": "stream",
          "name": "stdout",
          "text": [
            "9767        eastern mediterranean potato salad\n",
            "10273                   easy vegan apple crisp\n",
            "17552                    mexican vegetable pie\n",
            "13175                           halibut steaks\n",
            "24220             simple chocolate iced coffee\n",
            "24171                      silky lemon pudding\n",
            "3250     blackened sirloin with tex mex butter\n",
            "12414       grandma s chocolate syrup brownies\n",
            "11294                french onion cabbage soup\n",
            "5742                        chicken dner kebab\n",
            "Name: name, dtype: object\n"
          ]
        }
      ]
    },
    {
      "cell_type": "markdown",
      "metadata": {
        "id": "6qoxMFTXwU7Y"
      },
      "source": [
        "1.6 Измените индекс в таблице `reviews`, пронумеровав строки, начиная с нуля."
      ]
    },
    {
      "cell_type": "code",
      "source": [
        "reviews.index = range(0, reviews.shape[0])\n",
        "reviews\n",
        "reviews.reset_index(drop=True, inplace=True) # .reset_index сбрасывает индекс до индекса по умолчанию\n",
        "print(reviews.head()) # выводим первые 5 строк"
      ],
      "metadata": {
        "id": "L6N0me4OSnys",
        "colab": {
          "base_uri": "https://localhost:8080/"
        },
        "outputId": "d503c1f6-15a2-4ca5-89af-fff979993318"
      },
      "execution_count": 12,
      "outputs": [
        {
          "output_type": "stream",
          "name": "stdout",
          "text": [
            "   Unnamed: 0     user_id  recipe_id        date  rating  \\\n",
            "0      370476       21752      57993  2003-05-01       5   \n",
            "1      624300      431813     142201  2007-09-16       5   \n",
            "2      187037      400708     252013  2008-01-10       4   \n",
            "3      706134  2001852463     404716  2017-12-11       5   \n",
            "4      312179       95810     129396  2008-03-14       5   \n",
            "\n",
            "                                              review  \n",
            "0  Last week whole sides of frozen salmon fillet ...  \n",
            "1  So simple and so tasty!  I used a yellow capsi...  \n",
            "2  Very nice breakfast HH, easy to make and yummy...  \n",
            "3  These are a favorite for the holidays and so e...  \n",
            "4  Excellent soup!  The tomato flavor is just gre...  \n"
          ]
        }
      ]
    },
    {
      "cell_type": "markdown",
      "metadata": {
        "id": "EIS-gUOWwU7Y"
      },
      "source": [
        "1.7 Выведите информацию о рецептах, время выполнения которых не больше 20 минут и кол-во ингредиентов в которых не больше 5."
      ]
    },
    {
      "cell_type": "code",
      "source": [
        "result1 = recipes.loc[(recipes[\"minutes\"] <= 20) & (recipes[\"n_ingredients\"] <= 5)]\n",
        "# .loc[] используется для получения группы строк и столбцов по меткам или логическому массиву в DataFrame.\n",
        "print(result1)"
      ],
      "metadata": {
        "id": "FGIhkOjHSofb",
        "colab": {
          "base_uri": "https://localhost:8080/"
        },
        "outputId": "25fb9cc5-ca9f-4674-eb56-f440112fa810"
      },
      "execution_count": 13,
      "outputs": [
        {
          "output_type": "stream",
          "name": "stdout",
          "text": [
            "                                                    name      id  minutes  \\\n",
            "28                                   quick biscuit bread  302399       20   \n",
            "60                         peas  fit for a king or queen  303944       20   \n",
            "90                     hawaiian sunrise           mimosa  100837        5   \n",
            "91            tasty dish s   banana pudding in 2 minutes  286484        2   \n",
            "94                                    1 minute meatballs   11361       13   \n",
            "...                                                  ...     ...      ...   \n",
            "29873  zip and steam red potatoes with butter and garlic  304922       13   \n",
            "29874                          ziplock vanilla ice cream   74250       10   \n",
            "29905                      zucchini and corn with cheese  256177       15   \n",
            "29980               zucchini with jalapeno monterey jack  320622       10   \n",
            "29983                          zucchini with serrano ham  162411       15   \n",
            "\n",
            "       contributor_id   submitted  n_steps  \\\n",
            "28             213909  2008-05-06     11.0   \n",
            "60             213909  2008-05-16      NaN   \n",
            "90              58104  2004-09-29      4.0   \n",
            "91              47892  2008-02-13      NaN   \n",
            "94               4470  2001-09-03      NaN   \n",
            "...               ...         ...      ...   \n",
            "29873          724218  2008-05-27      9.0   \n",
            "29874           24386  2003-10-29      8.0   \n",
            "29905          305531  2007-09-29      4.0   \n",
            "29980          305531  2008-08-20      3.0   \n",
            "29983          152500  2006-03-31      6.0   \n",
            "\n",
            "                                             description  n_ingredients  \n",
            "28     this is a wonderful quick bread to make as an ...            5.0  \n",
            "60     this recipe is so simple and the flavors are s...            5.0  \n",
            "90     pineapple mimosa was changed to hawaiian sunri...            3.0  \n",
            "91     \"mmmm, i love bananas!\" a --tasty dish-- origi...            4.0  \n",
            "94     this is a real short cut for cooks in a hurry....            2.0  \n",
            "...                                                  ...            ...  \n",
            "29873  i haven't tried this yet, but i am going to so...            5.0  \n",
            "29874  a fun thing for kids to do. may want to use mi...            3.0  \n",
            "29905  from betty crocker fresh spring recipes. i lik...            5.0  \n",
            "29980                                  simple and yummy!            3.0  \n",
            "29983  this dish is from tim malzer, a german chef wh...            5.0  \n",
            "\n",
            "[2019 rows x 8 columns]\n"
          ]
        }
      ]
    },
    {
      "cell_type": "markdown",
      "metadata": {
        "id": "n1l6NN_8wU7Y"
      },
      "source": [
        "### Работа с датами в `pandas`"
      ]
    },
    {
      "cell_type": "markdown",
      "metadata": {
        "id": "mIVyrVSCwU7Z"
      },
      "source": [
        "2.1 Преобразуйте столбец `submitted` из таблицы `recipes` в формат времени. Модифицируйте решение задачи 1.1 так, чтобы считать столбец сразу в нужном формате."
      ]
    },
    {
      "cell_type": "code",
      "source": [
        "recipes[\"submitted\"] = pd.to_datetime(recipes[\"submitted\"]) # преобразовываем столбец submitted в формат времени\n",
        "recipes.dtypes # видим, что столбец submitted преобразован"
      ],
      "metadata": {
        "id": "lN5m1FKScYBB",
        "colab": {
          "base_uri": "https://localhost:8080/"
        },
        "outputId": "bf0c5b9c-82eb-40a7-ad72-2cd2adff0191"
      },
      "execution_count": 14,
      "outputs": [
        {
          "output_type": "execute_result",
          "data": {
            "text/plain": [
              "name                      object\n",
              "id                         int64\n",
              "minutes                    int64\n",
              "contributor_id             int64\n",
              "submitted         datetime64[ns]\n",
              "n_steps                  float64\n",
              "description               object\n",
              "n_ingredients            float64\n",
              "dtype: object"
            ]
          },
          "metadata": {},
          "execution_count": 14
        }
      ]
    },
    {
      "cell_type": "markdown",
      "metadata": {
        "id": "bwi7UmVgwU7Z"
      },
      "source": [
        "2.2 Выведите информацию о рецептах, добавленных в датасет не позже 2010 года."
      ]
    },
    {
      "cell_type": "code",
      "source": [
        "recipes[(recipes.submitted < \"2010.01.01\")]"
      ],
      "metadata": {
        "id": "GmBnc9zQcbie",
        "colab": {
          "base_uri": "https://localhost:8080/",
          "height": 597
        },
        "outputId": "a3fe642f-6f39-4bdd-9991-e886b17769cd"
      },
      "execution_count": 15,
      "outputs": [
        {
          "output_type": "execute_result",
          "data": {
            "text/plain": [
              "                                               name      id  minutes  \\\n",
              "0             george s at the cove  black bean soup   44123       90   \n",
              "1                healthy for them  yogurt popsicles   67664       10   \n",
              "2                      i can t believe it s spinach   38798       30   \n",
              "3                              italian  gut busters   35173       45   \n",
              "4          love is in the air  beef fondue   sauces   84797       25   \n",
              "...                                             ...     ...      ...   \n",
              "29993                     zuni caf zucchini pickles  316950     2895   \n",
              "29995  zurie s holey rustic olive and cheddar bread  267661       80   \n",
              "29996          zwetschgenkuchen  bavarian plum cake  386977      240   \n",
              "29997   zwiebelkuchen   southwest german onion cake  103312       75   \n",
              "29999        cookies by design   cookies on a stick  298512       29   \n",
              "\n",
              "       contributor_id  submitted  n_steps  \\\n",
              "0               35193 2002-10-25      NaN   \n",
              "1               91970 2003-07-26      NaN   \n",
              "2                1533 2002-08-29      NaN   \n",
              "3               22724 2002-07-27      NaN   \n",
              "4                4470 2004-02-23      4.0   \n",
              "...               ...        ...      ...   \n",
              "29993           62264 2008-07-31      NaN   \n",
              "29995          200862 2007-11-25     16.0   \n",
              "29996          177443 2009-08-24      NaN   \n",
              "29997          161745 2004-11-03      NaN   \n",
              "29999          506822 2008-04-15      9.0   \n",
              "\n",
              "                                             description  n_ingredients  \n",
              "0      an original recipe created by chef scott meska...           18.0  \n",
              "1      my children and their friends ask for my homem...            NaN  \n",
              "2                these were so go, it surprised even me.            8.0  \n",
              "3      my sister-in-law made these for us at a family...            NaN  \n",
              "4      i think a fondue is a very romantic casual din...            NaN  \n",
              "...                                                  ...            ...  \n",
              "29993  refrigerator pickles for some of the zucchini ...            8.0  \n",
              "29995  this is based on a french recipe but i changed...           10.0  \n",
              "29996  this is a traditional fresh plum cake, thought...           11.0  \n",
              "29997  this is a traditional late summer early fall s...            NaN  \n",
              "29999  i've heard of the 'cookies by design' company,...           10.0  \n",
              "\n",
              "[26123 rows x 8 columns]"
            ],
            "text/html": [
              "\n",
              "  <div id=\"df-e4caf1e4-05c1-47ea-85f0-ae3a4cf6c6bd\" class=\"colab-df-container\">\n",
              "    <div>\n",
              "<style scoped>\n",
              "    .dataframe tbody tr th:only-of-type {\n",
              "        vertical-align: middle;\n",
              "    }\n",
              "\n",
              "    .dataframe tbody tr th {\n",
              "        vertical-align: top;\n",
              "    }\n",
              "\n",
              "    .dataframe thead th {\n",
              "        text-align: right;\n",
              "    }\n",
              "</style>\n",
              "<table border=\"1\" class=\"dataframe\">\n",
              "  <thead>\n",
              "    <tr style=\"text-align: right;\">\n",
              "      <th></th>\n",
              "      <th>name</th>\n",
              "      <th>id</th>\n",
              "      <th>minutes</th>\n",
              "      <th>contributor_id</th>\n",
              "      <th>submitted</th>\n",
              "      <th>n_steps</th>\n",
              "      <th>description</th>\n",
              "      <th>n_ingredients</th>\n",
              "    </tr>\n",
              "  </thead>\n",
              "  <tbody>\n",
              "    <tr>\n",
              "      <th>0</th>\n",
              "      <td>george s at the cove  black bean soup</td>\n",
              "      <td>44123</td>\n",
              "      <td>90</td>\n",
              "      <td>35193</td>\n",
              "      <td>2002-10-25</td>\n",
              "      <td>NaN</td>\n",
              "      <td>an original recipe created by chef scott meska...</td>\n",
              "      <td>18.0</td>\n",
              "    </tr>\n",
              "    <tr>\n",
              "      <th>1</th>\n",
              "      <td>healthy for them  yogurt popsicles</td>\n",
              "      <td>67664</td>\n",
              "      <td>10</td>\n",
              "      <td>91970</td>\n",
              "      <td>2003-07-26</td>\n",
              "      <td>NaN</td>\n",
              "      <td>my children and their friends ask for my homem...</td>\n",
              "      <td>NaN</td>\n",
              "    </tr>\n",
              "    <tr>\n",
              "      <th>2</th>\n",
              "      <td>i can t believe it s spinach</td>\n",
              "      <td>38798</td>\n",
              "      <td>30</td>\n",
              "      <td>1533</td>\n",
              "      <td>2002-08-29</td>\n",
              "      <td>NaN</td>\n",
              "      <td>these were so go, it surprised even me.</td>\n",
              "      <td>8.0</td>\n",
              "    </tr>\n",
              "    <tr>\n",
              "      <th>3</th>\n",
              "      <td>italian  gut busters</td>\n",
              "      <td>35173</td>\n",
              "      <td>45</td>\n",
              "      <td>22724</td>\n",
              "      <td>2002-07-27</td>\n",
              "      <td>NaN</td>\n",
              "      <td>my sister-in-law made these for us at a family...</td>\n",
              "      <td>NaN</td>\n",
              "    </tr>\n",
              "    <tr>\n",
              "      <th>4</th>\n",
              "      <td>love is in the air  beef fondue   sauces</td>\n",
              "      <td>84797</td>\n",
              "      <td>25</td>\n",
              "      <td>4470</td>\n",
              "      <td>2004-02-23</td>\n",
              "      <td>4.0</td>\n",
              "      <td>i think a fondue is a very romantic casual din...</td>\n",
              "      <td>NaN</td>\n",
              "    </tr>\n",
              "    <tr>\n",
              "      <th>...</th>\n",
              "      <td>...</td>\n",
              "      <td>...</td>\n",
              "      <td>...</td>\n",
              "      <td>...</td>\n",
              "      <td>...</td>\n",
              "      <td>...</td>\n",
              "      <td>...</td>\n",
              "      <td>...</td>\n",
              "    </tr>\n",
              "    <tr>\n",
              "      <th>29993</th>\n",
              "      <td>zuni caf zucchini pickles</td>\n",
              "      <td>316950</td>\n",
              "      <td>2895</td>\n",
              "      <td>62264</td>\n",
              "      <td>2008-07-31</td>\n",
              "      <td>NaN</td>\n",
              "      <td>refrigerator pickles for some of the zucchini ...</td>\n",
              "      <td>8.0</td>\n",
              "    </tr>\n",
              "    <tr>\n",
              "      <th>29995</th>\n",
              "      <td>zurie s holey rustic olive and cheddar bread</td>\n",
              "      <td>267661</td>\n",
              "      <td>80</td>\n",
              "      <td>200862</td>\n",
              "      <td>2007-11-25</td>\n",
              "      <td>16.0</td>\n",
              "      <td>this is based on a french recipe but i changed...</td>\n",
              "      <td>10.0</td>\n",
              "    </tr>\n",
              "    <tr>\n",
              "      <th>29996</th>\n",
              "      <td>zwetschgenkuchen  bavarian plum cake</td>\n",
              "      <td>386977</td>\n",
              "      <td>240</td>\n",
              "      <td>177443</td>\n",
              "      <td>2009-08-24</td>\n",
              "      <td>NaN</td>\n",
              "      <td>this is a traditional fresh plum cake, thought...</td>\n",
              "      <td>11.0</td>\n",
              "    </tr>\n",
              "    <tr>\n",
              "      <th>29997</th>\n",
              "      <td>zwiebelkuchen   southwest german onion cake</td>\n",
              "      <td>103312</td>\n",
              "      <td>75</td>\n",
              "      <td>161745</td>\n",
              "      <td>2004-11-03</td>\n",
              "      <td>NaN</td>\n",
              "      <td>this is a traditional late summer early fall s...</td>\n",
              "      <td>NaN</td>\n",
              "    </tr>\n",
              "    <tr>\n",
              "      <th>29999</th>\n",
              "      <td>cookies by design   cookies on a stick</td>\n",
              "      <td>298512</td>\n",
              "      <td>29</td>\n",
              "      <td>506822</td>\n",
              "      <td>2008-04-15</td>\n",
              "      <td>9.0</td>\n",
              "      <td>i've heard of the 'cookies by design' company,...</td>\n",
              "      <td>10.0</td>\n",
              "    </tr>\n",
              "  </tbody>\n",
              "</table>\n",
              "<p>26123 rows × 8 columns</p>\n",
              "</div>\n",
              "    <div class=\"colab-df-buttons\">\n",
              "\n",
              "  <div class=\"colab-df-container\">\n",
              "    <button class=\"colab-df-convert\" onclick=\"convertToInteractive('df-e4caf1e4-05c1-47ea-85f0-ae3a4cf6c6bd')\"\n",
              "            title=\"Convert this dataframe to an interactive table.\"\n",
              "            style=\"display:none;\">\n",
              "\n",
              "  <svg xmlns=\"http://www.w3.org/2000/svg\" height=\"24px\" viewBox=\"0 -960 960 960\">\n",
              "    <path d=\"M120-120v-720h720v720H120Zm60-500h600v-160H180v160Zm220 220h160v-160H400v160Zm0 220h160v-160H400v160ZM180-400h160v-160H180v160Zm440 0h160v-160H620v160ZM180-180h160v-160H180v160Zm440 0h160v-160H620v160Z\"/>\n",
              "  </svg>\n",
              "    </button>\n",
              "\n",
              "  <style>\n",
              "    .colab-df-container {\n",
              "      display:flex;\n",
              "      gap: 12px;\n",
              "    }\n",
              "\n",
              "    .colab-df-convert {\n",
              "      background-color: #E8F0FE;\n",
              "      border: none;\n",
              "      border-radius: 50%;\n",
              "      cursor: pointer;\n",
              "      display: none;\n",
              "      fill: #1967D2;\n",
              "      height: 32px;\n",
              "      padding: 0 0 0 0;\n",
              "      width: 32px;\n",
              "    }\n",
              "\n",
              "    .colab-df-convert:hover {\n",
              "      background-color: #E2EBFA;\n",
              "      box-shadow: 0px 1px 2px rgba(60, 64, 67, 0.3), 0px 1px 3px 1px rgba(60, 64, 67, 0.15);\n",
              "      fill: #174EA6;\n",
              "    }\n",
              "\n",
              "    .colab-df-buttons div {\n",
              "      margin-bottom: 4px;\n",
              "    }\n",
              "\n",
              "    [theme=dark] .colab-df-convert {\n",
              "      background-color: #3B4455;\n",
              "      fill: #D2E3FC;\n",
              "    }\n",
              "\n",
              "    [theme=dark] .colab-df-convert:hover {\n",
              "      background-color: #434B5C;\n",
              "      box-shadow: 0px 1px 3px 1px rgba(0, 0, 0, 0.15);\n",
              "      filter: drop-shadow(0px 1px 2px rgba(0, 0, 0, 0.3));\n",
              "      fill: #FFFFFF;\n",
              "    }\n",
              "  </style>\n",
              "\n",
              "    <script>\n",
              "      const buttonEl =\n",
              "        document.querySelector('#df-e4caf1e4-05c1-47ea-85f0-ae3a4cf6c6bd button.colab-df-convert');\n",
              "      buttonEl.style.display =\n",
              "        google.colab.kernel.accessAllowed ? 'block' : 'none';\n",
              "\n",
              "      async function convertToInteractive(key) {\n",
              "        const element = document.querySelector('#df-e4caf1e4-05c1-47ea-85f0-ae3a4cf6c6bd');\n",
              "        const dataTable =\n",
              "          await google.colab.kernel.invokeFunction('convertToInteractive',\n",
              "                                                    [key], {});\n",
              "        if (!dataTable) return;\n",
              "\n",
              "        const docLinkHtml = 'Like what you see? Visit the ' +\n",
              "          '<a target=\"_blank\" href=https://colab.research.google.com/notebooks/data_table.ipynb>data table notebook</a>'\n",
              "          + ' to learn more about interactive tables.';\n",
              "        element.innerHTML = '';\n",
              "        dataTable['output_type'] = 'display_data';\n",
              "        await google.colab.output.renderOutput(dataTable, element);\n",
              "        const docLink = document.createElement('div');\n",
              "        docLink.innerHTML = docLinkHtml;\n",
              "        element.appendChild(docLink);\n",
              "      }\n",
              "    </script>\n",
              "  </div>\n",
              "\n",
              "\n",
              "<div id=\"df-dc236f66-9a2d-4f23-b43c-41072c8c593e\">\n",
              "  <button class=\"colab-df-quickchart\" onclick=\"quickchart('df-dc236f66-9a2d-4f23-b43c-41072c8c593e')\"\n",
              "            title=\"Suggest charts\"\n",
              "            style=\"display:none;\">\n",
              "\n",
              "<svg xmlns=\"http://www.w3.org/2000/svg\" height=\"24px\"viewBox=\"0 0 24 24\"\n",
              "     width=\"24px\">\n",
              "    <g>\n",
              "        <path d=\"M19 3H5c-1.1 0-2 .9-2 2v14c0 1.1.9 2 2 2h14c1.1 0 2-.9 2-2V5c0-1.1-.9-2-2-2zM9 17H7v-7h2v7zm4 0h-2V7h2v10zm4 0h-2v-4h2v4z\"/>\n",
              "    </g>\n",
              "</svg>\n",
              "  </button>\n",
              "\n",
              "<style>\n",
              "  .colab-df-quickchart {\n",
              "      --bg-color: #E8F0FE;\n",
              "      --fill-color: #1967D2;\n",
              "      --hover-bg-color: #E2EBFA;\n",
              "      --hover-fill-color: #174EA6;\n",
              "      --disabled-fill-color: #AAA;\n",
              "      --disabled-bg-color: #DDD;\n",
              "  }\n",
              "\n",
              "  [theme=dark] .colab-df-quickchart {\n",
              "      --bg-color: #3B4455;\n",
              "      --fill-color: #D2E3FC;\n",
              "      --hover-bg-color: #434B5C;\n",
              "      --hover-fill-color: #FFFFFF;\n",
              "      --disabled-bg-color: #3B4455;\n",
              "      --disabled-fill-color: #666;\n",
              "  }\n",
              "\n",
              "  .colab-df-quickchart {\n",
              "    background-color: var(--bg-color);\n",
              "    border: none;\n",
              "    border-radius: 50%;\n",
              "    cursor: pointer;\n",
              "    display: none;\n",
              "    fill: var(--fill-color);\n",
              "    height: 32px;\n",
              "    padding: 0;\n",
              "    width: 32px;\n",
              "  }\n",
              "\n",
              "  .colab-df-quickchart:hover {\n",
              "    background-color: var(--hover-bg-color);\n",
              "    box-shadow: 0 1px 2px rgba(60, 64, 67, 0.3), 0 1px 3px 1px rgba(60, 64, 67, 0.15);\n",
              "    fill: var(--button-hover-fill-color);\n",
              "  }\n",
              "\n",
              "  .colab-df-quickchart-complete:disabled,\n",
              "  .colab-df-quickchart-complete:disabled:hover {\n",
              "    background-color: var(--disabled-bg-color);\n",
              "    fill: var(--disabled-fill-color);\n",
              "    box-shadow: none;\n",
              "  }\n",
              "\n",
              "  .colab-df-spinner {\n",
              "    border: 2px solid var(--fill-color);\n",
              "    border-color: transparent;\n",
              "    border-bottom-color: var(--fill-color);\n",
              "    animation:\n",
              "      spin 1s steps(1) infinite;\n",
              "  }\n",
              "\n",
              "  @keyframes spin {\n",
              "    0% {\n",
              "      border-color: transparent;\n",
              "      border-bottom-color: var(--fill-color);\n",
              "      border-left-color: var(--fill-color);\n",
              "    }\n",
              "    20% {\n",
              "      border-color: transparent;\n",
              "      border-left-color: var(--fill-color);\n",
              "      border-top-color: var(--fill-color);\n",
              "    }\n",
              "    30% {\n",
              "      border-color: transparent;\n",
              "      border-left-color: var(--fill-color);\n",
              "      border-top-color: var(--fill-color);\n",
              "      border-right-color: var(--fill-color);\n",
              "    }\n",
              "    40% {\n",
              "      border-color: transparent;\n",
              "      border-right-color: var(--fill-color);\n",
              "      border-top-color: var(--fill-color);\n",
              "    }\n",
              "    60% {\n",
              "      border-color: transparent;\n",
              "      border-right-color: var(--fill-color);\n",
              "    }\n",
              "    80% {\n",
              "      border-color: transparent;\n",
              "      border-right-color: var(--fill-color);\n",
              "      border-bottom-color: var(--fill-color);\n",
              "    }\n",
              "    90% {\n",
              "      border-color: transparent;\n",
              "      border-bottom-color: var(--fill-color);\n",
              "    }\n",
              "  }\n",
              "</style>\n",
              "\n",
              "  <script>\n",
              "    async function quickchart(key) {\n",
              "      const quickchartButtonEl =\n",
              "        document.querySelector('#' + key + ' button');\n",
              "      quickchartButtonEl.disabled = true;  // To prevent multiple clicks.\n",
              "      quickchartButtonEl.classList.add('colab-df-spinner');\n",
              "      try {\n",
              "        const charts = await google.colab.kernel.invokeFunction(\n",
              "            'suggestCharts', [key], {});\n",
              "      } catch (error) {\n",
              "        console.error('Error during call to suggestCharts:', error);\n",
              "      }\n",
              "      quickchartButtonEl.classList.remove('colab-df-spinner');\n",
              "      quickchartButtonEl.classList.add('colab-df-quickchart-complete');\n",
              "    }\n",
              "    (() => {\n",
              "      let quickchartButtonEl =\n",
              "        document.querySelector('#df-dc236f66-9a2d-4f23-b43c-41072c8c593e button');\n",
              "      quickchartButtonEl.style.display =\n",
              "        google.colab.kernel.accessAllowed ? 'block' : 'none';\n",
              "    })();\n",
              "  </script>\n",
              "</div>\n",
              "    </div>\n",
              "  </div>\n"
            ],
            "application/vnd.google.colaboratory.intrinsic+json": {
              "type": "dataframe",
              "summary": "{\n  \"name\": \"recipes[(recipes\",\n  \"rows\": 26123,\n  \"fields\": [\n    {\n      \"column\": \"name\",\n      \"properties\": {\n        \"dtype\": \"string\",\n        \"num_unique_values\": 26099,\n        \"samples\": [\n          \"if give a kid a candy    they always come back  for more  fruit\",\n          \"spirit s spinach stuffed tomatoes\",\n          \"granny wistrand s meat paste\"\n        ],\n        \"semantic_type\": \"\",\n        \"description\": \"\"\n      }\n    },\n    {\n      \"column\": \"id\",\n      \"properties\": {\n        \"dtype\": \"number\",\n        \"std\": 114479,\n        \"min\": 48,\n        \"max\": 406171,\n        \"num_unique_values\": 26123,\n        \"samples\": [\n          226768,\n          299075,\n          228272\n        ],\n        \"semantic_type\": \"\",\n        \"description\": \"\"\n      }\n    },\n    {\n      \"column\": \"minutes\",\n      \"properties\": {\n        \"dtype\": \"number\",\n        \"std\": 1757,\n        \"min\": 0,\n        \"max\": 129615,\n        \"num_unique_values\": 403,\n        \"samples\": [\n          145,\n          83,\n          2890\n        ],\n        \"semantic_type\": \"\",\n        \"description\": \"\"\n      }\n    },\n    {\n      \"column\": \"contributor_id\",\n      \"properties\": {\n        \"dtype\": \"number\",\n        \"std\": 267546,\n        \"min\": 1530,\n        \"max\": 1500964,\n        \"num_unique_values\": 7320,\n        \"samples\": [\n          705408,\n          1431799,\n          220685\n        ],\n        \"semantic_type\": \"\",\n        \"description\": \"\"\n      }\n    },\n    {\n      \"column\": \"submitted\",\n      \"properties\": {\n        \"dtype\": \"date\",\n        \"min\": \"1999-08-06 00:00:00\",\n        \"max\": \"2009-12-31 00:00:00\",\n        \"num_unique_values\": 2703,\n        \"samples\": [\n          \"2004-03-28 00:00:00\",\n          \"2008-12-02 00:00:00\",\n          \"2009-06-08 00:00:00\"\n        ],\n        \"semantic_type\": \"\",\n        \"description\": \"\"\n      }\n    },\n    {\n      \"column\": \"n_steps\",\n      \"properties\": {\n        \"dtype\": \"number\",\n        \"std\": 5.786786853466312,\n        \"min\": 1.0,\n        \"max\": 88.0,\n        \"num_unique_values\": 53,\n        \"samples\": [\n          20.0,\n          32.0,\n          88.0\n        ],\n        \"semantic_type\": \"\",\n        \"description\": \"\"\n      }\n    },\n    {\n      \"column\": \"description\",\n      \"properties\": {\n        \"dtype\": \"string\",\n        \"num_unique_values\": 25343,\n        \"samples\": [\n          \"the recipe for this very tasty strata came from the betty crocker holiday cookbooklet, dec 2003. preparation time does not include the 6 hours needed to set in refrigerator before baking!\",\n          \"reminds me of my childhood.\",\n          \"easy to make & delicious too. a little healthier than your typical recipe that uses white sugar. (recipe adapted from \\\"out of the sugar rut\\\" by joanie huggins.)\"\n        ],\n        \"semantic_type\": \"\",\n        \"description\": \"\"\n      }\n    },\n    {\n      \"column\": \"n_ingredients\",\n      \"properties\": {\n        \"dtype\": \"number\",\n        \"std\": 3.66993452618895,\n        \"min\": 1.0,\n        \"max\": 34.0,\n        \"num_unique_values\": 31,\n        \"samples\": [\n          1.0,\n          22.0,\n          23.0\n        ],\n        \"semantic_type\": \"\",\n        \"description\": \"\"\n      }\n    }\n  ]\n}"
            }
          },
          "metadata": {},
          "execution_count": 15
        }
      ]
    },
    {
      "cell_type": "markdown",
      "metadata": {
        "id": "XKOWKhPhwU7Z"
      },
      "source": [
        "### Работа со строковыми данными в `pandas`"
      ]
    },
    {
      "cell_type": "markdown",
      "metadata": {
        "id": "xjuAP2PUwU7Z"
      },
      "source": [
        "3.1  Добавьте в таблицу `recipes` столбец `description_length`, в котором хранится длина описания рецепта из столбца `description`."
      ]
    },
    {
      "cell_type": "code",
      "source": [
        "recipes[\"description_length\"] = recipes.description.apply(lambda x: len(str(x)))\n",
        "# добавляем столбец в котором содержится длина описания description c помощью анонимной функции, которая считает длину описания\n",
        "recipes"
      ],
      "metadata": {
        "id": "wp3MX_SdceOD",
        "colab": {
          "base_uri": "https://localhost:8080/",
          "height": 753
        },
        "outputId": "51223d26-dd5e-45fa-b8b0-b06ad96d9405"
      },
      "execution_count": 16,
      "outputs": [
        {
          "output_type": "execute_result",
          "data": {
            "text/plain": [
              "                                               name      id  minutes  \\\n",
              "0             george s at the cove  black bean soup   44123       90   \n",
              "1                healthy for them  yogurt popsicles   67664       10   \n",
              "2                      i can t believe it s spinach   38798       30   \n",
              "3                              italian  gut busters   35173       45   \n",
              "4          love is in the air  beef fondue   sauces   84797       25   \n",
              "...                                             ...     ...      ...   \n",
              "29995  zurie s holey rustic olive and cheddar bread  267661       80   \n",
              "29996          zwetschgenkuchen  bavarian plum cake  386977      240   \n",
              "29997   zwiebelkuchen   southwest german onion cake  103312       75   \n",
              "29998                                   zydeco soup  486161       60   \n",
              "29999        cookies by design   cookies on a stick  298512       29   \n",
              "\n",
              "       contributor_id  submitted  n_steps  \\\n",
              "0               35193 2002-10-25      NaN   \n",
              "1               91970 2003-07-26      NaN   \n",
              "2                1533 2002-08-29      NaN   \n",
              "3               22724 2002-07-27      NaN   \n",
              "4                4470 2004-02-23      4.0   \n",
              "...               ...        ...      ...   \n",
              "29995          200862 2007-11-25     16.0   \n",
              "29996          177443 2009-08-24      NaN   \n",
              "29997          161745 2004-11-03      NaN   \n",
              "29998          227978 2012-08-29      NaN   \n",
              "29999          506822 2008-04-15      9.0   \n",
              "\n",
              "                                             description  n_ingredients  \\\n",
              "0      an original recipe created by chef scott meska...           18.0   \n",
              "1      my children and their friends ask for my homem...            NaN   \n",
              "2                these were so go, it surprised even me.            8.0   \n",
              "3      my sister-in-law made these for us at a family...            NaN   \n",
              "4      i think a fondue is a very romantic casual din...            NaN   \n",
              "...                                                  ...            ...   \n",
              "29995  this is based on a french recipe but i changed...           10.0   \n",
              "29996  this is a traditional fresh plum cake, thought...           11.0   \n",
              "29997  this is a traditional late summer early fall s...            NaN   \n",
              "29998  this is a delicious soup that i originally fou...            NaN   \n",
              "29999  i've heard of the 'cookies by design' company,...           10.0   \n",
              "\n",
              "       description_length  \n",
              "0                     330  \n",
              "1                     255  \n",
              "2                      39  \n",
              "3                     154  \n",
              "4                     587  \n",
              "...                   ...  \n",
              "29995                 484  \n",
              "29996                 286  \n",
              "29997                 311  \n",
              "29998                 648  \n",
              "29999                 125  \n",
              "\n",
              "[30000 rows x 9 columns]"
            ],
            "text/html": [
              "\n",
              "  <div id=\"df-261a8bfd-9fbc-4f74-9d7e-431d831c75de\" class=\"colab-df-container\">\n",
              "    <div>\n",
              "<style scoped>\n",
              "    .dataframe tbody tr th:only-of-type {\n",
              "        vertical-align: middle;\n",
              "    }\n",
              "\n",
              "    .dataframe tbody tr th {\n",
              "        vertical-align: top;\n",
              "    }\n",
              "\n",
              "    .dataframe thead th {\n",
              "        text-align: right;\n",
              "    }\n",
              "</style>\n",
              "<table border=\"1\" class=\"dataframe\">\n",
              "  <thead>\n",
              "    <tr style=\"text-align: right;\">\n",
              "      <th></th>\n",
              "      <th>name</th>\n",
              "      <th>id</th>\n",
              "      <th>minutes</th>\n",
              "      <th>contributor_id</th>\n",
              "      <th>submitted</th>\n",
              "      <th>n_steps</th>\n",
              "      <th>description</th>\n",
              "      <th>n_ingredients</th>\n",
              "      <th>description_length</th>\n",
              "    </tr>\n",
              "  </thead>\n",
              "  <tbody>\n",
              "    <tr>\n",
              "      <th>0</th>\n",
              "      <td>george s at the cove  black bean soup</td>\n",
              "      <td>44123</td>\n",
              "      <td>90</td>\n",
              "      <td>35193</td>\n",
              "      <td>2002-10-25</td>\n",
              "      <td>NaN</td>\n",
              "      <td>an original recipe created by chef scott meska...</td>\n",
              "      <td>18.0</td>\n",
              "      <td>330</td>\n",
              "    </tr>\n",
              "    <tr>\n",
              "      <th>1</th>\n",
              "      <td>healthy for them  yogurt popsicles</td>\n",
              "      <td>67664</td>\n",
              "      <td>10</td>\n",
              "      <td>91970</td>\n",
              "      <td>2003-07-26</td>\n",
              "      <td>NaN</td>\n",
              "      <td>my children and their friends ask for my homem...</td>\n",
              "      <td>NaN</td>\n",
              "      <td>255</td>\n",
              "    </tr>\n",
              "    <tr>\n",
              "      <th>2</th>\n",
              "      <td>i can t believe it s spinach</td>\n",
              "      <td>38798</td>\n",
              "      <td>30</td>\n",
              "      <td>1533</td>\n",
              "      <td>2002-08-29</td>\n",
              "      <td>NaN</td>\n",
              "      <td>these were so go, it surprised even me.</td>\n",
              "      <td>8.0</td>\n",
              "      <td>39</td>\n",
              "    </tr>\n",
              "    <tr>\n",
              "      <th>3</th>\n",
              "      <td>italian  gut busters</td>\n",
              "      <td>35173</td>\n",
              "      <td>45</td>\n",
              "      <td>22724</td>\n",
              "      <td>2002-07-27</td>\n",
              "      <td>NaN</td>\n",
              "      <td>my sister-in-law made these for us at a family...</td>\n",
              "      <td>NaN</td>\n",
              "      <td>154</td>\n",
              "    </tr>\n",
              "    <tr>\n",
              "      <th>4</th>\n",
              "      <td>love is in the air  beef fondue   sauces</td>\n",
              "      <td>84797</td>\n",
              "      <td>25</td>\n",
              "      <td>4470</td>\n",
              "      <td>2004-02-23</td>\n",
              "      <td>4.0</td>\n",
              "      <td>i think a fondue is a very romantic casual din...</td>\n",
              "      <td>NaN</td>\n",
              "      <td>587</td>\n",
              "    </tr>\n",
              "    <tr>\n",
              "      <th>...</th>\n",
              "      <td>...</td>\n",
              "      <td>...</td>\n",
              "      <td>...</td>\n",
              "      <td>...</td>\n",
              "      <td>...</td>\n",
              "      <td>...</td>\n",
              "      <td>...</td>\n",
              "      <td>...</td>\n",
              "      <td>...</td>\n",
              "    </tr>\n",
              "    <tr>\n",
              "      <th>29995</th>\n",
              "      <td>zurie s holey rustic olive and cheddar bread</td>\n",
              "      <td>267661</td>\n",
              "      <td>80</td>\n",
              "      <td>200862</td>\n",
              "      <td>2007-11-25</td>\n",
              "      <td>16.0</td>\n",
              "      <td>this is based on a french recipe but i changed...</td>\n",
              "      <td>10.0</td>\n",
              "      <td>484</td>\n",
              "    </tr>\n",
              "    <tr>\n",
              "      <th>29996</th>\n",
              "      <td>zwetschgenkuchen  bavarian plum cake</td>\n",
              "      <td>386977</td>\n",
              "      <td>240</td>\n",
              "      <td>177443</td>\n",
              "      <td>2009-08-24</td>\n",
              "      <td>NaN</td>\n",
              "      <td>this is a traditional fresh plum cake, thought...</td>\n",
              "      <td>11.0</td>\n",
              "      <td>286</td>\n",
              "    </tr>\n",
              "    <tr>\n",
              "      <th>29997</th>\n",
              "      <td>zwiebelkuchen   southwest german onion cake</td>\n",
              "      <td>103312</td>\n",
              "      <td>75</td>\n",
              "      <td>161745</td>\n",
              "      <td>2004-11-03</td>\n",
              "      <td>NaN</td>\n",
              "      <td>this is a traditional late summer early fall s...</td>\n",
              "      <td>NaN</td>\n",
              "      <td>311</td>\n",
              "    </tr>\n",
              "    <tr>\n",
              "      <th>29998</th>\n",
              "      <td>zydeco soup</td>\n",
              "      <td>486161</td>\n",
              "      <td>60</td>\n",
              "      <td>227978</td>\n",
              "      <td>2012-08-29</td>\n",
              "      <td>NaN</td>\n",
              "      <td>this is a delicious soup that i originally fou...</td>\n",
              "      <td>NaN</td>\n",
              "      <td>648</td>\n",
              "    </tr>\n",
              "    <tr>\n",
              "      <th>29999</th>\n",
              "      <td>cookies by design   cookies on a stick</td>\n",
              "      <td>298512</td>\n",
              "      <td>29</td>\n",
              "      <td>506822</td>\n",
              "      <td>2008-04-15</td>\n",
              "      <td>9.0</td>\n",
              "      <td>i've heard of the 'cookies by design' company,...</td>\n",
              "      <td>10.0</td>\n",
              "      <td>125</td>\n",
              "    </tr>\n",
              "  </tbody>\n",
              "</table>\n",
              "<p>30000 rows × 9 columns</p>\n",
              "</div>\n",
              "    <div class=\"colab-df-buttons\">\n",
              "\n",
              "  <div class=\"colab-df-container\">\n",
              "    <button class=\"colab-df-convert\" onclick=\"convertToInteractive('df-261a8bfd-9fbc-4f74-9d7e-431d831c75de')\"\n",
              "            title=\"Convert this dataframe to an interactive table.\"\n",
              "            style=\"display:none;\">\n",
              "\n",
              "  <svg xmlns=\"http://www.w3.org/2000/svg\" height=\"24px\" viewBox=\"0 -960 960 960\">\n",
              "    <path d=\"M120-120v-720h720v720H120Zm60-500h600v-160H180v160Zm220 220h160v-160H400v160Zm0 220h160v-160H400v160ZM180-400h160v-160H180v160Zm440 0h160v-160H620v160ZM180-180h160v-160H180v160Zm440 0h160v-160H620v160Z\"/>\n",
              "  </svg>\n",
              "    </button>\n",
              "\n",
              "  <style>\n",
              "    .colab-df-container {\n",
              "      display:flex;\n",
              "      gap: 12px;\n",
              "    }\n",
              "\n",
              "    .colab-df-convert {\n",
              "      background-color: #E8F0FE;\n",
              "      border: none;\n",
              "      border-radius: 50%;\n",
              "      cursor: pointer;\n",
              "      display: none;\n",
              "      fill: #1967D2;\n",
              "      height: 32px;\n",
              "      padding: 0 0 0 0;\n",
              "      width: 32px;\n",
              "    }\n",
              "\n",
              "    .colab-df-convert:hover {\n",
              "      background-color: #E2EBFA;\n",
              "      box-shadow: 0px 1px 2px rgba(60, 64, 67, 0.3), 0px 1px 3px 1px rgba(60, 64, 67, 0.15);\n",
              "      fill: #174EA6;\n",
              "    }\n",
              "\n",
              "    .colab-df-buttons div {\n",
              "      margin-bottom: 4px;\n",
              "    }\n",
              "\n",
              "    [theme=dark] .colab-df-convert {\n",
              "      background-color: #3B4455;\n",
              "      fill: #D2E3FC;\n",
              "    }\n",
              "\n",
              "    [theme=dark] .colab-df-convert:hover {\n",
              "      background-color: #434B5C;\n",
              "      box-shadow: 0px 1px 3px 1px rgba(0, 0, 0, 0.15);\n",
              "      filter: drop-shadow(0px 1px 2px rgba(0, 0, 0, 0.3));\n",
              "      fill: #FFFFFF;\n",
              "    }\n",
              "  </style>\n",
              "\n",
              "    <script>\n",
              "      const buttonEl =\n",
              "        document.querySelector('#df-261a8bfd-9fbc-4f74-9d7e-431d831c75de button.colab-df-convert');\n",
              "      buttonEl.style.display =\n",
              "        google.colab.kernel.accessAllowed ? 'block' : 'none';\n",
              "\n",
              "      async function convertToInteractive(key) {\n",
              "        const element = document.querySelector('#df-261a8bfd-9fbc-4f74-9d7e-431d831c75de');\n",
              "        const dataTable =\n",
              "          await google.colab.kernel.invokeFunction('convertToInteractive',\n",
              "                                                    [key], {});\n",
              "        if (!dataTable) return;\n",
              "\n",
              "        const docLinkHtml = 'Like what you see? Visit the ' +\n",
              "          '<a target=\"_blank\" href=https://colab.research.google.com/notebooks/data_table.ipynb>data table notebook</a>'\n",
              "          + ' to learn more about interactive tables.';\n",
              "        element.innerHTML = '';\n",
              "        dataTable['output_type'] = 'display_data';\n",
              "        await google.colab.output.renderOutput(dataTable, element);\n",
              "        const docLink = document.createElement('div');\n",
              "        docLink.innerHTML = docLinkHtml;\n",
              "        element.appendChild(docLink);\n",
              "      }\n",
              "    </script>\n",
              "  </div>\n",
              "\n",
              "\n",
              "<div id=\"df-5ee096f1-f054-4bfe-97d6-7fa7d256c4ac\">\n",
              "  <button class=\"colab-df-quickchart\" onclick=\"quickchart('df-5ee096f1-f054-4bfe-97d6-7fa7d256c4ac')\"\n",
              "            title=\"Suggest charts\"\n",
              "            style=\"display:none;\">\n",
              "\n",
              "<svg xmlns=\"http://www.w3.org/2000/svg\" height=\"24px\"viewBox=\"0 0 24 24\"\n",
              "     width=\"24px\">\n",
              "    <g>\n",
              "        <path d=\"M19 3H5c-1.1 0-2 .9-2 2v14c0 1.1.9 2 2 2h14c1.1 0 2-.9 2-2V5c0-1.1-.9-2-2-2zM9 17H7v-7h2v7zm4 0h-2V7h2v10zm4 0h-2v-4h2v4z\"/>\n",
              "    </g>\n",
              "</svg>\n",
              "  </button>\n",
              "\n",
              "<style>\n",
              "  .colab-df-quickchart {\n",
              "      --bg-color: #E8F0FE;\n",
              "      --fill-color: #1967D2;\n",
              "      --hover-bg-color: #E2EBFA;\n",
              "      --hover-fill-color: #174EA6;\n",
              "      --disabled-fill-color: #AAA;\n",
              "      --disabled-bg-color: #DDD;\n",
              "  }\n",
              "\n",
              "  [theme=dark] .colab-df-quickchart {\n",
              "      --bg-color: #3B4455;\n",
              "      --fill-color: #D2E3FC;\n",
              "      --hover-bg-color: #434B5C;\n",
              "      --hover-fill-color: #FFFFFF;\n",
              "      --disabled-bg-color: #3B4455;\n",
              "      --disabled-fill-color: #666;\n",
              "  }\n",
              "\n",
              "  .colab-df-quickchart {\n",
              "    background-color: var(--bg-color);\n",
              "    border: none;\n",
              "    border-radius: 50%;\n",
              "    cursor: pointer;\n",
              "    display: none;\n",
              "    fill: var(--fill-color);\n",
              "    height: 32px;\n",
              "    padding: 0;\n",
              "    width: 32px;\n",
              "  }\n",
              "\n",
              "  .colab-df-quickchart:hover {\n",
              "    background-color: var(--hover-bg-color);\n",
              "    box-shadow: 0 1px 2px rgba(60, 64, 67, 0.3), 0 1px 3px 1px rgba(60, 64, 67, 0.15);\n",
              "    fill: var(--button-hover-fill-color);\n",
              "  }\n",
              "\n",
              "  .colab-df-quickchart-complete:disabled,\n",
              "  .colab-df-quickchart-complete:disabled:hover {\n",
              "    background-color: var(--disabled-bg-color);\n",
              "    fill: var(--disabled-fill-color);\n",
              "    box-shadow: none;\n",
              "  }\n",
              "\n",
              "  .colab-df-spinner {\n",
              "    border: 2px solid var(--fill-color);\n",
              "    border-color: transparent;\n",
              "    border-bottom-color: var(--fill-color);\n",
              "    animation:\n",
              "      spin 1s steps(1) infinite;\n",
              "  }\n",
              "\n",
              "  @keyframes spin {\n",
              "    0% {\n",
              "      border-color: transparent;\n",
              "      border-bottom-color: var(--fill-color);\n",
              "      border-left-color: var(--fill-color);\n",
              "    }\n",
              "    20% {\n",
              "      border-color: transparent;\n",
              "      border-left-color: var(--fill-color);\n",
              "      border-top-color: var(--fill-color);\n",
              "    }\n",
              "    30% {\n",
              "      border-color: transparent;\n",
              "      border-left-color: var(--fill-color);\n",
              "      border-top-color: var(--fill-color);\n",
              "      border-right-color: var(--fill-color);\n",
              "    }\n",
              "    40% {\n",
              "      border-color: transparent;\n",
              "      border-right-color: var(--fill-color);\n",
              "      border-top-color: var(--fill-color);\n",
              "    }\n",
              "    60% {\n",
              "      border-color: transparent;\n",
              "      border-right-color: var(--fill-color);\n",
              "    }\n",
              "    80% {\n",
              "      border-color: transparent;\n",
              "      border-right-color: var(--fill-color);\n",
              "      border-bottom-color: var(--fill-color);\n",
              "    }\n",
              "    90% {\n",
              "      border-color: transparent;\n",
              "      border-bottom-color: var(--fill-color);\n",
              "    }\n",
              "  }\n",
              "</style>\n",
              "\n",
              "  <script>\n",
              "    async function quickchart(key) {\n",
              "      const quickchartButtonEl =\n",
              "        document.querySelector('#' + key + ' button');\n",
              "      quickchartButtonEl.disabled = true;  // To prevent multiple clicks.\n",
              "      quickchartButtonEl.classList.add('colab-df-spinner');\n",
              "      try {\n",
              "        const charts = await google.colab.kernel.invokeFunction(\n",
              "            'suggestCharts', [key], {});\n",
              "      } catch (error) {\n",
              "        console.error('Error during call to suggestCharts:', error);\n",
              "      }\n",
              "      quickchartButtonEl.classList.remove('colab-df-spinner');\n",
              "      quickchartButtonEl.classList.add('colab-df-quickchart-complete');\n",
              "    }\n",
              "    (() => {\n",
              "      let quickchartButtonEl =\n",
              "        document.querySelector('#df-5ee096f1-f054-4bfe-97d6-7fa7d256c4ac button');\n",
              "      quickchartButtonEl.style.display =\n",
              "        google.colab.kernel.accessAllowed ? 'block' : 'none';\n",
              "    })();\n",
              "  </script>\n",
              "</div>\n",
              "    </div>\n",
              "  </div>\n"
            ],
            "application/vnd.google.colaboratory.intrinsic+json": {
              "type": "dataframe",
              "variable_name": "recipes",
              "summary": "{\n  \"name\": \"recipes\",\n  \"rows\": 30000,\n  \"fields\": [\n    {\n      \"column\": \"name\",\n      \"properties\": {\n        \"dtype\": \"string\",\n        \"num_unique_values\": 29975,\n        \"samples\": [\n          \"rice pudding with dates\",\n          \"sloppy joaquins\",\n          \"panama scramble\"\n        ],\n        \"semantic_type\": \"\",\n        \"description\": \"\"\n      }\n    },\n    {\n      \"column\": \"id\",\n      \"properties\": {\n        \"dtype\": \"number\",\n        \"std\": 140974,\n        \"min\": 48,\n        \"max\": 536747,\n        \"num_unique_values\": 30000,\n        \"samples\": [\n          184910,\n          80229,\n          246733\n        ],\n        \"semantic_type\": \"\",\n        \"description\": \"\"\n      }\n    },\n    {\n      \"column\": \"minutes\",\n      \"properties\": {\n        \"dtype\": \"number\",\n        \"std\": 1660,\n        \"min\": 0,\n        \"max\": 129615,\n        \"num_unique_values\": 423,\n        \"samples\": [\n          54,\n          124,\n          690\n        ],\n        \"semantic_type\": \"\",\n        \"description\": \"\"\n      }\n    },\n    {\n      \"column\": \"contributor_id\",\n      \"properties\": {\n        \"dtype\": \"number\",\n        \"std\": 100737263,\n        \"min\": 1530,\n        \"max\": 2002247884,\n        \"num_unique_values\": 8404,\n        \"samples\": [\n          86764,\n          1107673,\n          2549237\n        ],\n        \"semantic_type\": \"\",\n        \"description\": \"\"\n      }\n    },\n    {\n      \"column\": \"submitted\",\n      \"properties\": {\n        \"dtype\": \"date\",\n        \"min\": \"1999-08-06 00:00:00\",\n        \"max\": \"2018-08-15 00:00:00\",\n        \"num_unique_values\": 4032,\n        \"samples\": [\n          \"2008-08-14 00:00:00\",\n          \"2007-08-13 00:00:00\",\n          \"2007-10-17 00:00:00\"\n        ],\n        \"semantic_type\": \"\",\n        \"description\": \"\"\n      }\n    },\n    {\n      \"column\": \"n_steps\",\n      \"properties\": {\n        \"dtype\": \"number\",\n        \"std\": 5.944155081320949,\n        \"min\": 1.0,\n        \"max\": 88.0,\n        \"num_unique_values\": 57,\n        \"samples\": [\n          4.0,\n          10.0,\n          23.0\n        ],\n        \"semantic_type\": \"\",\n        \"description\": \"\"\n      }\n    },\n    {\n      \"column\": \"description\",\n      \"properties\": {\n        \"dtype\": \"string\",\n        \"num_unique_values\": 29174,\n        \"samples\": [\n          \"i found this recipe on camprecipes.com and made it on a recent trip to colorado. i used wheat bagels instead of plain. this was a really nice alternative to the usual scrambled eggs and trail mix breakfast. clean taste and easy to make! careful with the honey though, too much can be a mess to clean up. enjoy!\",\n          \"my husband is a steak purist--nothing on his bbq steaks--until i introduced him to this quick & very easy topping. from an old good housekeeping cookbook, but tweaked slightly. worse thing is that i eat more steak with this on it!  haven't tried yet on hamburgers but will do so some day.  hope you enjoy it as much as we do.\",\n          \"i got the basic recipe from \\\"calling all cooks\\\" yellow cookbook.  my daughter and i were trying to come up with something to enter in for her 4-h baking contest.  we just decided to add chocolate chips.\"\n        ],\n        \"semantic_type\": \"\",\n        \"description\": \"\"\n      }\n    },\n    {\n      \"column\": \"n_ingredients\",\n      \"properties\": {\n        \"dtype\": \"number\",\n        \"std\": 3.7152133536844953,\n        \"min\": 1.0,\n        \"max\": 34.0,\n        \"num_unique_values\": 31,\n        \"samples\": [\n          29.0,\n          22.0,\n          23.0\n        ],\n        \"semantic_type\": \"\",\n        \"description\": \"\"\n      }\n    },\n    {\n      \"column\": \"description_length\",\n      \"properties\": {\n        \"dtype\": \"number\",\n        \"std\": 179,\n        \"min\": 1,\n        \"max\": 6321,\n        \"num_unique_values\": 1056,\n        \"samples\": [\n          456,\n          964,\n          568\n        ],\n        \"semantic_type\": \"\",\n        \"description\": \"\"\n      }\n    }\n  ]\n}"
            }
          },
          "metadata": {},
          "execution_count": 16
        }
      ]
    },
    {
      "cell_type": "markdown",
      "metadata": {
        "id": "mdYEItpHwU7Z"
      },
      "source": [
        "3.2 Измените название каждого рецепта в таблице `recipes` таким образом, чтобы каждое слово в названии начиналось с прописной буквы."
      ]
    },
    {
      "cell_type": "code",
      "source": [
        "recipes[\"name\"] = recipes[\"name\"].apply(lambda x: x.title())\n",
        "# с помощью анонимной функции и .title() преобразовываем каждый первый символ в слове в верхний регистр\n",
        "print(recipes.head()) # выводим первые 5 строк"
      ],
      "metadata": {
        "id": "mzyQuBHzcg03",
        "colab": {
          "base_uri": "https://localhost:8080/"
        },
        "outputId": "2bc5841d-51f4-4c99-80ed-dc117bccdf75"
      },
      "execution_count": 17,
      "outputs": [
        {
          "output_type": "stream",
          "name": "stdout",
          "text": [
            "                                       name     id  minutes  contributor_id  \\\n",
            "0     George S At The Cove  Black Bean Soup  44123       90           35193   \n",
            "1        Healthy For Them  Yogurt Popsicles  67664       10           91970   \n",
            "2              I Can T Believe It S Spinach  38798       30            1533   \n",
            "3                      Italian  Gut Busters  35173       45           22724   \n",
            "4  Love Is In The Air  Beef Fondue   Sauces  84797       25            4470   \n",
            "\n",
            "   submitted  n_steps                                        description  \\\n",
            "0 2002-10-25      NaN  an original recipe created by chef scott meska...   \n",
            "1 2003-07-26      NaN  my children and their friends ask for my homem...   \n",
            "2 2002-08-29      NaN            these were so go, it surprised even me.   \n",
            "3 2002-07-27      NaN  my sister-in-law made these for us at a family...   \n",
            "4 2004-02-23      4.0  i think a fondue is a very romantic casual din...   \n",
            "\n",
            "   n_ingredients  description_length  \n",
            "0           18.0                 330  \n",
            "1            NaN                 255  \n",
            "2            8.0                  39  \n",
            "3            NaN                 154  \n",
            "4            NaN                 587  \n"
          ]
        }
      ]
    },
    {
      "cell_type": "markdown",
      "metadata": {
        "id": "V81BoQRHwU7a"
      },
      "source": [
        "3.3 Добавьте в таблицу `recipes` столбец `name_word_count`, в котором хранится количество слов из названии рецепта (считайте, что слова в названии разделяются только пробелами). Обратите внимание, что между словами может располагаться несколько пробелов подряд."
      ]
    },
    {
      "cell_type": "code",
      "source": [
        "recipes[\"name_word_count\"] = recipes[\"name\"].apply(lambda x: len(x.split()))\n",
        "# разбиваем строку с названием рецепта на слова и считаем длину, затем создаем столбец с этой длиной\n",
        "recipes"
      ],
      "metadata": {
        "id": "DMDlNWkhcvPE",
        "colab": {
          "base_uri": "https://localhost:8080/",
          "height": 1000
        },
        "outputId": "d3071dc8-6b2c-447e-e07b-2297172d53b9"
      },
      "execution_count": 18,
      "outputs": [
        {
          "output_type": "execute_result",
          "data": {
            "text/plain": [
              "                                               name      id  minutes  \\\n",
              "0             George S At The Cove  Black Bean Soup   44123       90   \n",
              "1                Healthy For Them  Yogurt Popsicles   67664       10   \n",
              "2                      I Can T Believe It S Spinach   38798       30   \n",
              "3                              Italian  Gut Busters   35173       45   \n",
              "4          Love Is In The Air  Beef Fondue   Sauces   84797       25   \n",
              "...                                             ...     ...      ...   \n",
              "29995  Zurie S Holey Rustic Olive And Cheddar Bread  267661       80   \n",
              "29996          Zwetschgenkuchen  Bavarian Plum Cake  386977      240   \n",
              "29997   Zwiebelkuchen   Southwest German Onion Cake  103312       75   \n",
              "29998                                   Zydeco Soup  486161       60   \n",
              "29999        Cookies By Design   Cookies On A Stick  298512       29   \n",
              "\n",
              "       contributor_id  submitted  n_steps  \\\n",
              "0               35193 2002-10-25      NaN   \n",
              "1               91970 2003-07-26      NaN   \n",
              "2                1533 2002-08-29      NaN   \n",
              "3               22724 2002-07-27      NaN   \n",
              "4                4470 2004-02-23      4.0   \n",
              "...               ...        ...      ...   \n",
              "29995          200862 2007-11-25     16.0   \n",
              "29996          177443 2009-08-24      NaN   \n",
              "29997          161745 2004-11-03      NaN   \n",
              "29998          227978 2012-08-29      NaN   \n",
              "29999          506822 2008-04-15      9.0   \n",
              "\n",
              "                                             description  n_ingredients  \\\n",
              "0      an original recipe created by chef scott meska...           18.0   \n",
              "1      my children and their friends ask for my homem...            NaN   \n",
              "2                these were so go, it surprised even me.            8.0   \n",
              "3      my sister-in-law made these for us at a family...            NaN   \n",
              "4      i think a fondue is a very romantic casual din...            NaN   \n",
              "...                                                  ...            ...   \n",
              "29995  this is based on a french recipe but i changed...           10.0   \n",
              "29996  this is a traditional fresh plum cake, thought...           11.0   \n",
              "29997  this is a traditional late summer early fall s...            NaN   \n",
              "29998  this is a delicious soup that i originally fou...            NaN   \n",
              "29999  i've heard of the 'cookies by design' company,...           10.0   \n",
              "\n",
              "       description_length  name_word_count  \n",
              "0                     330                8  \n",
              "1                     255                5  \n",
              "2                      39                7  \n",
              "3                     154                3  \n",
              "4                     587                8  \n",
              "...                   ...              ...  \n",
              "29995                 484                8  \n",
              "29996                 286                4  \n",
              "29997                 311                5  \n",
              "29998                 648                2  \n",
              "29999                 125                7  \n",
              "\n",
              "[30000 rows x 10 columns]"
            ],
            "text/html": [
              "\n",
              "  <div id=\"df-e123ba55-5cc4-4105-b011-928076a993f8\" class=\"colab-df-container\">\n",
              "    <div>\n",
              "<style scoped>\n",
              "    .dataframe tbody tr th:only-of-type {\n",
              "        vertical-align: middle;\n",
              "    }\n",
              "\n",
              "    .dataframe tbody tr th {\n",
              "        vertical-align: top;\n",
              "    }\n",
              "\n",
              "    .dataframe thead th {\n",
              "        text-align: right;\n",
              "    }\n",
              "</style>\n",
              "<table border=\"1\" class=\"dataframe\">\n",
              "  <thead>\n",
              "    <tr style=\"text-align: right;\">\n",
              "      <th></th>\n",
              "      <th>name</th>\n",
              "      <th>id</th>\n",
              "      <th>minutes</th>\n",
              "      <th>contributor_id</th>\n",
              "      <th>submitted</th>\n",
              "      <th>n_steps</th>\n",
              "      <th>description</th>\n",
              "      <th>n_ingredients</th>\n",
              "      <th>description_length</th>\n",
              "      <th>name_word_count</th>\n",
              "    </tr>\n",
              "  </thead>\n",
              "  <tbody>\n",
              "    <tr>\n",
              "      <th>0</th>\n",
              "      <td>George S At The Cove  Black Bean Soup</td>\n",
              "      <td>44123</td>\n",
              "      <td>90</td>\n",
              "      <td>35193</td>\n",
              "      <td>2002-10-25</td>\n",
              "      <td>NaN</td>\n",
              "      <td>an original recipe created by chef scott meska...</td>\n",
              "      <td>18.0</td>\n",
              "      <td>330</td>\n",
              "      <td>8</td>\n",
              "    </tr>\n",
              "    <tr>\n",
              "      <th>1</th>\n",
              "      <td>Healthy For Them  Yogurt Popsicles</td>\n",
              "      <td>67664</td>\n",
              "      <td>10</td>\n",
              "      <td>91970</td>\n",
              "      <td>2003-07-26</td>\n",
              "      <td>NaN</td>\n",
              "      <td>my children and their friends ask for my homem...</td>\n",
              "      <td>NaN</td>\n",
              "      <td>255</td>\n",
              "      <td>5</td>\n",
              "    </tr>\n",
              "    <tr>\n",
              "      <th>2</th>\n",
              "      <td>I Can T Believe It S Spinach</td>\n",
              "      <td>38798</td>\n",
              "      <td>30</td>\n",
              "      <td>1533</td>\n",
              "      <td>2002-08-29</td>\n",
              "      <td>NaN</td>\n",
              "      <td>these were so go, it surprised even me.</td>\n",
              "      <td>8.0</td>\n",
              "      <td>39</td>\n",
              "      <td>7</td>\n",
              "    </tr>\n",
              "    <tr>\n",
              "      <th>3</th>\n",
              "      <td>Italian  Gut Busters</td>\n",
              "      <td>35173</td>\n",
              "      <td>45</td>\n",
              "      <td>22724</td>\n",
              "      <td>2002-07-27</td>\n",
              "      <td>NaN</td>\n",
              "      <td>my sister-in-law made these for us at a family...</td>\n",
              "      <td>NaN</td>\n",
              "      <td>154</td>\n",
              "      <td>3</td>\n",
              "    </tr>\n",
              "    <tr>\n",
              "      <th>4</th>\n",
              "      <td>Love Is In The Air  Beef Fondue   Sauces</td>\n",
              "      <td>84797</td>\n",
              "      <td>25</td>\n",
              "      <td>4470</td>\n",
              "      <td>2004-02-23</td>\n",
              "      <td>4.0</td>\n",
              "      <td>i think a fondue is a very romantic casual din...</td>\n",
              "      <td>NaN</td>\n",
              "      <td>587</td>\n",
              "      <td>8</td>\n",
              "    </tr>\n",
              "    <tr>\n",
              "      <th>...</th>\n",
              "      <td>...</td>\n",
              "      <td>...</td>\n",
              "      <td>...</td>\n",
              "      <td>...</td>\n",
              "      <td>...</td>\n",
              "      <td>...</td>\n",
              "      <td>...</td>\n",
              "      <td>...</td>\n",
              "      <td>...</td>\n",
              "      <td>...</td>\n",
              "    </tr>\n",
              "    <tr>\n",
              "      <th>29995</th>\n",
              "      <td>Zurie S Holey Rustic Olive And Cheddar Bread</td>\n",
              "      <td>267661</td>\n",
              "      <td>80</td>\n",
              "      <td>200862</td>\n",
              "      <td>2007-11-25</td>\n",
              "      <td>16.0</td>\n",
              "      <td>this is based on a french recipe but i changed...</td>\n",
              "      <td>10.0</td>\n",
              "      <td>484</td>\n",
              "      <td>8</td>\n",
              "    </tr>\n",
              "    <tr>\n",
              "      <th>29996</th>\n",
              "      <td>Zwetschgenkuchen  Bavarian Plum Cake</td>\n",
              "      <td>386977</td>\n",
              "      <td>240</td>\n",
              "      <td>177443</td>\n",
              "      <td>2009-08-24</td>\n",
              "      <td>NaN</td>\n",
              "      <td>this is a traditional fresh plum cake, thought...</td>\n",
              "      <td>11.0</td>\n",
              "      <td>286</td>\n",
              "      <td>4</td>\n",
              "    </tr>\n",
              "    <tr>\n",
              "      <th>29997</th>\n",
              "      <td>Zwiebelkuchen   Southwest German Onion Cake</td>\n",
              "      <td>103312</td>\n",
              "      <td>75</td>\n",
              "      <td>161745</td>\n",
              "      <td>2004-11-03</td>\n",
              "      <td>NaN</td>\n",
              "      <td>this is a traditional late summer early fall s...</td>\n",
              "      <td>NaN</td>\n",
              "      <td>311</td>\n",
              "      <td>5</td>\n",
              "    </tr>\n",
              "    <tr>\n",
              "      <th>29998</th>\n",
              "      <td>Zydeco Soup</td>\n",
              "      <td>486161</td>\n",
              "      <td>60</td>\n",
              "      <td>227978</td>\n",
              "      <td>2012-08-29</td>\n",
              "      <td>NaN</td>\n",
              "      <td>this is a delicious soup that i originally fou...</td>\n",
              "      <td>NaN</td>\n",
              "      <td>648</td>\n",
              "      <td>2</td>\n",
              "    </tr>\n",
              "    <tr>\n",
              "      <th>29999</th>\n",
              "      <td>Cookies By Design   Cookies On A Stick</td>\n",
              "      <td>298512</td>\n",
              "      <td>29</td>\n",
              "      <td>506822</td>\n",
              "      <td>2008-04-15</td>\n",
              "      <td>9.0</td>\n",
              "      <td>i've heard of the 'cookies by design' company,...</td>\n",
              "      <td>10.0</td>\n",
              "      <td>125</td>\n",
              "      <td>7</td>\n",
              "    </tr>\n",
              "  </tbody>\n",
              "</table>\n",
              "<p>30000 rows × 10 columns</p>\n",
              "</div>\n",
              "    <div class=\"colab-df-buttons\">\n",
              "\n",
              "  <div class=\"colab-df-container\">\n",
              "    <button class=\"colab-df-convert\" onclick=\"convertToInteractive('df-e123ba55-5cc4-4105-b011-928076a993f8')\"\n",
              "            title=\"Convert this dataframe to an interactive table.\"\n",
              "            style=\"display:none;\">\n",
              "\n",
              "  <svg xmlns=\"http://www.w3.org/2000/svg\" height=\"24px\" viewBox=\"0 -960 960 960\">\n",
              "    <path d=\"M120-120v-720h720v720H120Zm60-500h600v-160H180v160Zm220 220h160v-160H400v160Zm0 220h160v-160H400v160ZM180-400h160v-160H180v160Zm440 0h160v-160H620v160ZM180-180h160v-160H180v160Zm440 0h160v-160H620v160Z\"/>\n",
              "  </svg>\n",
              "    </button>\n",
              "\n",
              "  <style>\n",
              "    .colab-df-container {\n",
              "      display:flex;\n",
              "      gap: 12px;\n",
              "    }\n",
              "\n",
              "    .colab-df-convert {\n",
              "      background-color: #E8F0FE;\n",
              "      border: none;\n",
              "      border-radius: 50%;\n",
              "      cursor: pointer;\n",
              "      display: none;\n",
              "      fill: #1967D2;\n",
              "      height: 32px;\n",
              "      padding: 0 0 0 0;\n",
              "      width: 32px;\n",
              "    }\n",
              "\n",
              "    .colab-df-convert:hover {\n",
              "      background-color: #E2EBFA;\n",
              "      box-shadow: 0px 1px 2px rgba(60, 64, 67, 0.3), 0px 1px 3px 1px rgba(60, 64, 67, 0.15);\n",
              "      fill: #174EA6;\n",
              "    }\n",
              "\n",
              "    .colab-df-buttons div {\n",
              "      margin-bottom: 4px;\n",
              "    }\n",
              "\n",
              "    [theme=dark] .colab-df-convert {\n",
              "      background-color: #3B4455;\n",
              "      fill: #D2E3FC;\n",
              "    }\n",
              "\n",
              "    [theme=dark] .colab-df-convert:hover {\n",
              "      background-color: #434B5C;\n",
              "      box-shadow: 0px 1px 3px 1px rgba(0, 0, 0, 0.15);\n",
              "      filter: drop-shadow(0px 1px 2px rgba(0, 0, 0, 0.3));\n",
              "      fill: #FFFFFF;\n",
              "    }\n",
              "  </style>\n",
              "\n",
              "    <script>\n",
              "      const buttonEl =\n",
              "        document.querySelector('#df-e123ba55-5cc4-4105-b011-928076a993f8 button.colab-df-convert');\n",
              "      buttonEl.style.display =\n",
              "        google.colab.kernel.accessAllowed ? 'block' : 'none';\n",
              "\n",
              "      async function convertToInteractive(key) {\n",
              "        const element = document.querySelector('#df-e123ba55-5cc4-4105-b011-928076a993f8');\n",
              "        const dataTable =\n",
              "          await google.colab.kernel.invokeFunction('convertToInteractive',\n",
              "                                                    [key], {});\n",
              "        if (!dataTable) return;\n",
              "\n",
              "        const docLinkHtml = 'Like what you see? Visit the ' +\n",
              "          '<a target=\"_blank\" href=https://colab.research.google.com/notebooks/data_table.ipynb>data table notebook</a>'\n",
              "          + ' to learn more about interactive tables.';\n",
              "        element.innerHTML = '';\n",
              "        dataTable['output_type'] = 'display_data';\n",
              "        await google.colab.output.renderOutput(dataTable, element);\n",
              "        const docLink = document.createElement('div');\n",
              "        docLink.innerHTML = docLinkHtml;\n",
              "        element.appendChild(docLink);\n",
              "      }\n",
              "    </script>\n",
              "  </div>\n",
              "\n",
              "\n",
              "<div id=\"df-430f93c5-adb3-44ec-92eb-e8e2688156fb\">\n",
              "  <button class=\"colab-df-quickchart\" onclick=\"quickchart('df-430f93c5-adb3-44ec-92eb-e8e2688156fb')\"\n",
              "            title=\"Suggest charts\"\n",
              "            style=\"display:none;\">\n",
              "\n",
              "<svg xmlns=\"http://www.w3.org/2000/svg\" height=\"24px\"viewBox=\"0 0 24 24\"\n",
              "     width=\"24px\">\n",
              "    <g>\n",
              "        <path d=\"M19 3H5c-1.1 0-2 .9-2 2v14c0 1.1.9 2 2 2h14c1.1 0 2-.9 2-2V5c0-1.1-.9-2-2-2zM9 17H7v-7h2v7zm4 0h-2V7h2v10zm4 0h-2v-4h2v4z\"/>\n",
              "    </g>\n",
              "</svg>\n",
              "  </button>\n",
              "\n",
              "<style>\n",
              "  .colab-df-quickchart {\n",
              "      --bg-color: #E8F0FE;\n",
              "      --fill-color: #1967D2;\n",
              "      --hover-bg-color: #E2EBFA;\n",
              "      --hover-fill-color: #174EA6;\n",
              "      --disabled-fill-color: #AAA;\n",
              "      --disabled-bg-color: #DDD;\n",
              "  }\n",
              "\n",
              "  [theme=dark] .colab-df-quickchart {\n",
              "      --bg-color: #3B4455;\n",
              "      --fill-color: #D2E3FC;\n",
              "      --hover-bg-color: #434B5C;\n",
              "      --hover-fill-color: #FFFFFF;\n",
              "      --disabled-bg-color: #3B4455;\n",
              "      --disabled-fill-color: #666;\n",
              "  }\n",
              "\n",
              "  .colab-df-quickchart {\n",
              "    background-color: var(--bg-color);\n",
              "    border: none;\n",
              "    border-radius: 50%;\n",
              "    cursor: pointer;\n",
              "    display: none;\n",
              "    fill: var(--fill-color);\n",
              "    height: 32px;\n",
              "    padding: 0;\n",
              "    width: 32px;\n",
              "  }\n",
              "\n",
              "  .colab-df-quickchart:hover {\n",
              "    background-color: var(--hover-bg-color);\n",
              "    box-shadow: 0 1px 2px rgba(60, 64, 67, 0.3), 0 1px 3px 1px rgba(60, 64, 67, 0.15);\n",
              "    fill: var(--button-hover-fill-color);\n",
              "  }\n",
              "\n",
              "  .colab-df-quickchart-complete:disabled,\n",
              "  .colab-df-quickchart-complete:disabled:hover {\n",
              "    background-color: var(--disabled-bg-color);\n",
              "    fill: var(--disabled-fill-color);\n",
              "    box-shadow: none;\n",
              "  }\n",
              "\n",
              "  .colab-df-spinner {\n",
              "    border: 2px solid var(--fill-color);\n",
              "    border-color: transparent;\n",
              "    border-bottom-color: var(--fill-color);\n",
              "    animation:\n",
              "      spin 1s steps(1) infinite;\n",
              "  }\n",
              "\n",
              "  @keyframes spin {\n",
              "    0% {\n",
              "      border-color: transparent;\n",
              "      border-bottom-color: var(--fill-color);\n",
              "      border-left-color: var(--fill-color);\n",
              "    }\n",
              "    20% {\n",
              "      border-color: transparent;\n",
              "      border-left-color: var(--fill-color);\n",
              "      border-top-color: var(--fill-color);\n",
              "    }\n",
              "    30% {\n",
              "      border-color: transparent;\n",
              "      border-left-color: var(--fill-color);\n",
              "      border-top-color: var(--fill-color);\n",
              "      border-right-color: var(--fill-color);\n",
              "    }\n",
              "    40% {\n",
              "      border-color: transparent;\n",
              "      border-right-color: var(--fill-color);\n",
              "      border-top-color: var(--fill-color);\n",
              "    }\n",
              "    60% {\n",
              "      border-color: transparent;\n",
              "      border-right-color: var(--fill-color);\n",
              "    }\n",
              "    80% {\n",
              "      border-color: transparent;\n",
              "      border-right-color: var(--fill-color);\n",
              "      border-bottom-color: var(--fill-color);\n",
              "    }\n",
              "    90% {\n",
              "      border-color: transparent;\n",
              "      border-bottom-color: var(--fill-color);\n",
              "    }\n",
              "  }\n",
              "</style>\n",
              "\n",
              "  <script>\n",
              "    async function quickchart(key) {\n",
              "      const quickchartButtonEl =\n",
              "        document.querySelector('#' + key + ' button');\n",
              "      quickchartButtonEl.disabled = true;  // To prevent multiple clicks.\n",
              "      quickchartButtonEl.classList.add('colab-df-spinner');\n",
              "      try {\n",
              "        const charts = await google.colab.kernel.invokeFunction(\n",
              "            'suggestCharts', [key], {});\n",
              "      } catch (error) {\n",
              "        console.error('Error during call to suggestCharts:', error);\n",
              "      }\n",
              "      quickchartButtonEl.classList.remove('colab-df-spinner');\n",
              "      quickchartButtonEl.classList.add('colab-df-quickchart-complete');\n",
              "    }\n",
              "    (() => {\n",
              "      let quickchartButtonEl =\n",
              "        document.querySelector('#df-430f93c5-adb3-44ec-92eb-e8e2688156fb button');\n",
              "      quickchartButtonEl.style.display =\n",
              "        google.colab.kernel.accessAllowed ? 'block' : 'none';\n",
              "    })();\n",
              "  </script>\n",
              "</div>\n",
              "    </div>\n",
              "  </div>\n"
            ],
            "application/vnd.google.colaboratory.intrinsic+json": {
              "type": "dataframe",
              "variable_name": "recipes",
              "summary": "{\n  \"name\": \"recipes\",\n  \"rows\": 30000,\n  \"fields\": [\n    {\n      \"column\": \"name\",\n      \"properties\": {\n        \"dtype\": \"string\",\n        \"num_unique_values\": 29975,\n        \"samples\": [\n          \"Rice Pudding With Dates\",\n          \"Sloppy Joaquins\",\n          \"Panama Scramble\"\n        ],\n        \"semantic_type\": \"\",\n        \"description\": \"\"\n      }\n    },\n    {\n      \"column\": \"id\",\n      \"properties\": {\n        \"dtype\": \"number\",\n        \"std\": 140974,\n        \"min\": 48,\n        \"max\": 536747,\n        \"num_unique_values\": 30000,\n        \"samples\": [\n          184910,\n          80229,\n          246733\n        ],\n        \"semantic_type\": \"\",\n        \"description\": \"\"\n      }\n    },\n    {\n      \"column\": \"minutes\",\n      \"properties\": {\n        \"dtype\": \"number\",\n        \"std\": 1660,\n        \"min\": 0,\n        \"max\": 129615,\n        \"num_unique_values\": 423,\n        \"samples\": [\n          54,\n          124,\n          690\n        ],\n        \"semantic_type\": \"\",\n        \"description\": \"\"\n      }\n    },\n    {\n      \"column\": \"contributor_id\",\n      \"properties\": {\n        \"dtype\": \"number\",\n        \"std\": 100737263,\n        \"min\": 1530,\n        \"max\": 2002247884,\n        \"num_unique_values\": 8404,\n        \"samples\": [\n          86764,\n          1107673,\n          2549237\n        ],\n        \"semantic_type\": \"\",\n        \"description\": \"\"\n      }\n    },\n    {\n      \"column\": \"submitted\",\n      \"properties\": {\n        \"dtype\": \"date\",\n        \"min\": \"1999-08-06 00:00:00\",\n        \"max\": \"2018-08-15 00:00:00\",\n        \"num_unique_values\": 4032,\n        \"samples\": [\n          \"2008-08-14 00:00:00\",\n          \"2007-08-13 00:00:00\",\n          \"2007-10-17 00:00:00\"\n        ],\n        \"semantic_type\": \"\",\n        \"description\": \"\"\n      }\n    },\n    {\n      \"column\": \"n_steps\",\n      \"properties\": {\n        \"dtype\": \"number\",\n        \"std\": 5.944155081320949,\n        \"min\": 1.0,\n        \"max\": 88.0,\n        \"num_unique_values\": 57,\n        \"samples\": [\n          4.0,\n          10.0,\n          23.0\n        ],\n        \"semantic_type\": \"\",\n        \"description\": \"\"\n      }\n    },\n    {\n      \"column\": \"description\",\n      \"properties\": {\n        \"dtype\": \"string\",\n        \"num_unique_values\": 29174,\n        \"samples\": [\n          \"i found this recipe on camprecipes.com and made it on a recent trip to colorado. i used wheat bagels instead of plain. this was a really nice alternative to the usual scrambled eggs and trail mix breakfast. clean taste and easy to make! careful with the honey though, too much can be a mess to clean up. enjoy!\",\n          \"my husband is a steak purist--nothing on his bbq steaks--until i introduced him to this quick & very easy topping. from an old good housekeeping cookbook, but tweaked slightly. worse thing is that i eat more steak with this on it!  haven't tried yet on hamburgers but will do so some day.  hope you enjoy it as much as we do.\",\n          \"i got the basic recipe from \\\"calling all cooks\\\" yellow cookbook.  my daughter and i were trying to come up with something to enter in for her 4-h baking contest.  we just decided to add chocolate chips.\"\n        ],\n        \"semantic_type\": \"\",\n        \"description\": \"\"\n      }\n    },\n    {\n      \"column\": \"n_ingredients\",\n      \"properties\": {\n        \"dtype\": \"number\",\n        \"std\": 3.7152133536844953,\n        \"min\": 1.0,\n        \"max\": 34.0,\n        \"num_unique_values\": 31,\n        \"samples\": [\n          29.0,\n          22.0,\n          23.0\n        ],\n        \"semantic_type\": \"\",\n        \"description\": \"\"\n      }\n    },\n    {\n      \"column\": \"description_length\",\n      \"properties\": {\n        \"dtype\": \"number\",\n        \"std\": 179,\n        \"min\": 1,\n        \"max\": 6321,\n        \"num_unique_values\": 1056,\n        \"samples\": [\n          456,\n          964,\n          568\n        ],\n        \"semantic_type\": \"\",\n        \"description\": \"\"\n      }\n    },\n    {\n      \"column\": \"name_word_count\",\n      \"properties\": {\n        \"dtype\": \"number\",\n        \"std\": 1,\n        \"min\": 1,\n        \"max\": 15,\n        \"num_unique_values\": 15,\n        \"samples\": [\n          12,\n          11,\n          8\n        ],\n        \"semantic_type\": \"\",\n        \"description\": \"\"\n      }\n    }\n  ]\n}"
            }
          },
          "metadata": {},
          "execution_count": 18
        }
      ]
    },
    {
      "cell_type": "markdown",
      "metadata": {
        "id": "BMm6g4AZwU7a"
      },
      "source": [
        "### Группировки таблиц `pd.DataFrame`"
      ]
    },
    {
      "cell_type": "markdown",
      "metadata": {
        "id": "4LxwKUCIwU7a"
      },
      "source": [
        "4.1 Посчитайте количество рецептов, представленных каждым из участников (`contributor_id`). Какой участник добавил максимальное кол-во рецептов?"
      ]
    },
    {
      "cell_type": "code",
      "source": [
        "recipe_counts = recipes[\"contributor_id\"].value_counts()\n",
        "# value_counts() возвращает объект, содержащий уникальные значения из dataframe в отсортированном порядке.\n",
        "print(recipe_counts)\n",
        "\n",
        "max_contributor_id = recipe_counts.idxmax()\n",
        "print(max_contributor_id)\n",
        "\n",
        "max_recipe_count = recipe_counts.max() # максимальное кол-во рецептов\n",
        "print(max_recipe_count)"
      ],
      "metadata": {
        "id": "UXNRm1B0cx4D",
        "colab": {
          "base_uri": "https://localhost:8080/"
        },
        "outputId": "6af55abc-92ce-460e-ca78-a5dd82bb287e"
      },
      "execution_count": 19,
      "outputs": [
        {
          "output_type": "stream",
          "name": "stdout",
          "text": [
            "89831      421\n",
            "37449      346\n",
            "37779      345\n",
            "1533       186\n",
            "169430     183\n",
            "          ... \n",
            "1061628      1\n",
            "1076183      1\n",
            "429061       1\n",
            "64032        1\n",
            "186118       1\n",
            "Name: contributor_id, Length: 8404, dtype: int64\n",
            "89831\n",
            "421\n"
          ]
        }
      ]
    },
    {
      "cell_type": "markdown",
      "metadata": {
        "id": "29YRKsCXwU7a"
      },
      "source": [
        "4.2 Посчитайте средний рейтинг к каждому из рецептов. Для скольких рецептов отсутствуют отзывы? Обратите внимание, что отзыв с нулевым рейтингом или не заполненным текстовым описанием не считается отсутствующим."
      ]
    },
    {
      "cell_type": "code",
      "source": [
        "marks = reviews.groupby(\"recipe_id\").rating.mean()\n",
        "# метод .groupby() позволяет группировать данные по одному или нескольким столбцам и вычислять различные статистики для каждой группы\n",
        "marks\n",
        "\n",
        "print(\"Отзывы отсутсвуют для рецептов:\")\n",
        "recipes.shape[0] - pd.unique(reviews.recipe_id).shape[0]"
      ],
      "metadata": {
        "id": "sqdHOw-Bc0aO",
        "colab": {
          "base_uri": "https://localhost:8080/"
        },
        "outputId": "791bcffb-14cb-49a1-d4ef-d75f65ce60a7"
      },
      "execution_count": 20,
      "outputs": [
        {
          "output_type": "stream",
          "name": "stdout",
          "text": [
            "Отзывы отсутсвуют для рецептов:\n"
          ]
        },
        {
          "output_type": "execute_result",
          "data": {
            "text/plain": [
              "1900"
            ]
          },
          "metadata": {},
          "execution_count": 20
        }
      ]
    },
    {
      "cell_type": "markdown",
      "metadata": {
        "id": "x3hpPZqpwU7a"
      },
      "source": [
        "4.3 Посчитайте количество рецептов с разбивкой по годам создания."
      ]
    },
    {
      "cell_type": "code",
      "source": [
        "print(pd.DatetimeIndex(recipes[\"submitted\"]).year.value_counts().sort_index()) # сортируем рецепты по году создания"
      ],
      "metadata": {
        "id": "W-LuweLAc3OW",
        "colab": {
          "base_uri": "https://localhost:8080/"
        },
        "outputId": "c6a9df64-1d8d-4358-a774-228ec70071ad"
      },
      "execution_count": 21,
      "outputs": [
        {
          "output_type": "stream",
          "name": "stdout",
          "text": [
            "1999     275\n",
            "2000     104\n",
            "2001     589\n",
            "2002    2644\n",
            "2003    2334\n",
            "2004    2153\n",
            "2005    3130\n",
            "2006    3473\n",
            "2007    4429\n",
            "2008    4029\n",
            "2009    2963\n",
            "2010    1538\n",
            "2011     922\n",
            "2012     659\n",
            "2013     490\n",
            "2014     139\n",
            "2015      42\n",
            "2016      24\n",
            "2017      39\n",
            "2018      24\n",
            "Name: submitted, dtype: int64\n"
          ]
        }
      ]
    },
    {
      "cell_type": "markdown",
      "metadata": {
        "id": "_RPj53PUwU7b"
      },
      "source": [
        "### Объединение таблиц `pd.DataFrame`"
      ]
    },
    {
      "cell_type": "markdown",
      "metadata": {
        "id": "Ni8IYJIBwU7b"
      },
      "source": [
        "5.1 При помощи объединения таблиц, создайте `DataFrame`, состоящий из четырех столбцов: `id`, `name`, `user_id`, `rating`. Рецепты, на которые не оставлен ни один отзыв, должны отсутствовать в полученной таблице. Подтвердите правильность работы вашего кода, выбрав рецепт, не имеющий отзывов, и попытавшись найти строку, соответствующую этому рецепту, в полученном `DataFrame`."
      ]
    },
    {
      "cell_type": "code",
      "source": [
        "merge_df = pd.merge(recipes, reviews, left_on=\"id\", right_on=\"recipe_id\") # с помощью pd.merge() можно осуществлять слияние данных\n",
        "result_df = merge_df[[\"id\", \"name\", \"user_id\", \"rating\"]] # обозначаем заданные столбцы\n",
        "print(result_df.head()) # выводим первые 5 строк\n",
        "#Проверка рецепта без отзывов:\n",
        "recipe_without_reviews = recipes.loc[recipes.id == 48]\n",
        "# .loc[] используется для получения группы строк и столбцов по меткам или логическому массиву в DataFrame.\n",
        "print(recipe_without_reviews)"
      ],
      "metadata": {
        "id": "aosOFs9Vc6wl",
        "colab": {
          "base_uri": "https://localhost:8080/"
        },
        "outputId": "8df8364a-6c44-462b-a8ed-fcec90aad8d8"
      },
      "execution_count": 23,
      "outputs": [
        {
          "output_type": "stream",
          "name": "stdout",
          "text": [
            "      id                                   name  user_id  rating\n",
            "0  44123  George S At The Cove  Black Bean Soup   743566       5\n",
            "1  44123  George S At The Cove  Black Bean Soup    76503       5\n",
            "2  44123  George S At The Cove  Black Bean Soup    34206       5\n",
            "3  67664     Healthy For Them  Yogurt Popsicles   494084       5\n",
            "4  67664     Healthy For Them  Yogurt Popsicles   303445       5\n",
            "                  name  id  minutes  contributor_id  submitted  n_steps  \\\n",
            "3535  Boston Cream Pie  48      135            1545 1999-08-24     32.0   \n",
            "\n",
            "     description  n_ingredients  description_length  name_word_count  \n",
            "3535         NaN           15.0                   3                3  \n"
          ]
        }
      ]
    },
    {
      "cell_type": "markdown",
      "metadata": {
        "id": "7q8dIhpCwU7b"
      },
      "source": [
        "5.2 При помощи объединения таблиц и группировок, создайте `DataFrame`, состоящий из трех столбцов: `recipe_id`, `name`, `review_count`, где столбец `review_count` содержит кол-во отзывов, оставленных на рецепт `recipe_id`. У рецептов, на которые не оставлен ни один отзыв, в столбце `review_count` должен быть указан 0. Подтвердите правильность работы вашего кода, выбрав рецепт, не имеющий отзывов, и найдя строку, соответствующую этому рецепту, в полученном `DataFrame`."
      ]
    },
    {
      "cell_type": "code",
      "source": [
        "merged_df = pd.merge(recipes, reviews, left_on=\"id\", right_on=\"recipe_id\", how=\"left\") # осуществляем слияние данных\n",
        "review_count_df = merged_df.groupby([\"id\", \"name\"]).size().reset_index(name=\"review_count\")\n",
        "# метод .groupby() позволяет группировать данные по одному или нескольким столбцам и вычислять различные статистики для каждой группы\n",
        "result_df = pd.merge(recipes[[\"id\", \"name\"]], review_count_df, left_on=\"id\", right_on=\"id\", how=\"left\").fillna(0)\n",
        "# Функция fillna() в Pandas используется для замены значений NaN в кадре данных.\n",
        "recipe_without_reviews = recipes.loc[recipes.id == 48]\n",
        "# .loc[] используется для получения группы строк и столбцов по меткам или логическому массиву в DataFrame.\n",
        "print(recipe_without_reviews)\n",
        "\n",
        "print(result_df.head())"
      ],
      "metadata": {
        "id": "jB9-Rw-ec_Tp",
        "colab": {
          "base_uri": "https://localhost:8080/"
        },
        "outputId": "f0284ff8-dbfe-4664-fb7e-6f3fbc4f3677"
      },
      "execution_count": 24,
      "outputs": [
        {
          "output_type": "stream",
          "name": "stdout",
          "text": [
            "                  name  id  minutes  contributor_id  submitted  n_steps  \\\n",
            "3535  Boston Cream Pie  48      135            1545 1999-08-24     32.0   \n",
            "\n",
            "     description  n_ingredients  description_length  name_word_count  \n",
            "3535         NaN           15.0                   3                3  \n",
            "      id                                    name_x  \\\n",
            "0  44123     George S At The Cove  Black Bean Soup   \n",
            "1  67664        Healthy For Them  Yogurt Popsicles   \n",
            "2  38798              I Can T Believe It S Spinach   \n",
            "3  35173                      Italian  Gut Busters   \n",
            "4  84797  Love Is In The Air  Beef Fondue   Sauces   \n",
            "\n",
            "                                     name_y  review_count  \n",
            "0     George S At The Cove  Black Bean Soup             3  \n",
            "1        Healthy For Them  Yogurt Popsicles             8  \n",
            "2              I Can T Believe It S Spinach             3  \n",
            "3                      Italian  Gut Busters             1  \n",
            "4  Love Is In The Air  Beef Fondue   Sauces             8  \n"
          ]
        }
      ]
    },
    {
      "cell_type": "markdown",
      "metadata": {
        "id": "1RBQV8TOwU7b"
      },
      "source": [
        "5.3. Выясните, рецепты, добавленные в каком году, имеют наименьший средний рейтинг?"
      ]
    },
    {
      "cell_type": "markdown",
      "metadata": {
        "id": "78K3-E3_wU7c"
      },
      "source": [
        "### Сохранение таблиц `pd.DataFrame`"
      ]
    },
    {
      "cell_type": "markdown",
      "metadata": {
        "id": "tm7ibrdMwU7c"
      },
      "source": [
        "6.1 Отсортируйте таблицу в порядке убывания величины столбца `name_word_count` и сохраните результаты выполнения заданий 3.1-3.3 в csv файл."
      ]
    },
    {
      "cell_type": "markdown",
      "metadata": {
        "id": "SK8lA1SxwU7c"
      },
      "source": [
        "6.2 Воспользовавшись `pd.ExcelWriter`, cохраните результаты 5.1 и 5.2 в файл: на лист с названием `Рецепты с оценками` сохраните результаты выполнения 5.1; на лист с названием `Количество отзывов по рецептам` сохраните результаты выполнения 5.2."
      ]
    },
    {
      "cell_type": "code",
      "execution_count": null,
      "metadata": {
        "id": "IrF-ckclwU7c"
      },
      "outputs": [],
      "source": []
    }
  ],
  "metadata": {
    "kernelspec": {
      "display_name": "Python 3",
      "language": "python",
      "name": "python3"
    },
    "language_info": {
      "codemirror_mode": {
        "name": "ipython",
        "version": 3
      },
      "file_extension": ".py",
      "mimetype": "text/x-python",
      "name": "python",
      "nbconvert_exporter": "python",
      "pygments_lexer": "ipython3",
      "version": "3.7.4"
    },
    "colab": {
      "provenance": []
    }
  },
  "nbformat": 4,
  "nbformat_minor": 0
}