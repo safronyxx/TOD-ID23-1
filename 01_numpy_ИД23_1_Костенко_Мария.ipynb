{
  "cells": [
    {
      "cell_type": "markdown",
      "metadata": {
        "id": "zTN1krpEYHcF"
      },
      "source": [
        "# Numpy"
      ]
    },
    {
      "cell_type": "markdown",
      "metadata": {
        "id": "RJJljbbSYHcH"
      },
      "source": [
        "Материалы:\n",
        "* Макрушин С.В. \"Лекция 1: Библиотека Numpy\"\n",
        "* https://numpy.org/doc/stable/user/index.html\n",
        "* https://numpy.org/doc/stable/reference/index.html"
      ]
    },
    {
      "cell_type": "markdown",
      "metadata": {
        "id": "-iUJl0gIYHcH"
      },
      "source": [
        "## Задачи для совместного разбора"
      ]
    },
    {
      "cell_type": "markdown",
      "metadata": {
        "id": "tgfXZJWlYHcI"
      },
      "source": [
        "1. Сгенерировать двухмерный массив `arr` размерности (4, 7), состоящий из случайных действительных чисел, равномерно распределенных в диапазоне от 0 до 20. Нормализовать значения массива с помощью преобразования вида  $𝑎𝑥+𝑏$  так, что после нормализации максимальный элемент масcива будет равен 1.0, минимальный 0.0"
      ]
    },
    {
      "cell_type": "code",
      "execution_count": null,
      "metadata": {
        "colab": {
          "base_uri": "https://localhost:8080/"
        },
        "id": "W_MDbGOtYHcI",
        "outputId": "467ae2fe-c9aa-4722-8e50-565b8d473c97"
      },
      "outputs": [
        {
          "output_type": "stream",
          "name": "stdout",
          "text": [
            "[[10.00542555 16.29498986  1.95026628  4.49038113  9.4310979   0.72437358\n",
            "  18.28135447]\n",
            " [18.01165888  3.38001319  7.78998366  4.88811053 10.80183975 12.97195957\n",
            "  11.26212287]\n",
            " [17.073103   18.21139849  0.10505062  8.14522568  2.94816735  8.26348022\n",
            "  16.13372326]\n",
            " [15.58291559 19.86110046 15.13912063  7.84246644 11.01766689 11.15056361\n",
            "  19.9829581 ]]\n",
            "[[0.49805921 0.81446899 0.09282746 0.22061329 0.46916645 0.03115635\n",
            "  0.91439725]\n",
            " [0.90082964 0.16475389 0.38660674 0.2406219  0.53812451 0.64729695\n",
            "  0.56128002]\n",
            " [0.85361361 0.91087796 0.         0.40447794 0.14302897 0.41042698\n",
            "  0.80635613]\n",
            " [0.77864659 0.99386969 0.75632055 0.389247   0.54898214 0.55566779\n",
            "  1.        ]]\n"
          ]
        }
      ],
      "source": [
        "import numpy as np\n",
        "\n",
        "arr = np.random.uniform(0, 20, size=(4,7)) # Сгенерировать двухмерный массив arr размерности (4, 7) в диапазоне от 0 до 20\n",
        "print(arr)\n",
        "normalized_arr = (arr - arr.min()) / (arr.max() - arr.min())\n",
        "print(normalized_arr)"
      ]
    },
    {
      "cell_type": "markdown",
      "metadata": {
        "id": "zIUkwYmkYHcJ"
      },
      "source": [
        "2. Создать матрицу 8 на 10 из случайных целых (используя модуль `numpy.random`) чисел из диапозона от 0 до 10 и найти в ней строку (ее индекс и вывести саму строку), в которой сумма значений минимальна."
      ]
    },
    {
      "cell_type": "code",
      "source": [
        "import numpy as np\n",
        "m = np.random.randint(0,11, size=(8,10)) # генерируем рандом матрицу 10 на 8\n",
        "print(m)\n",
        "mini = 1000\n",
        "ind = 0\n",
        "a = [sum(i) for i in m] # сумма строки в матрице m\n",
        "for j in range(len(a)):\n",
        "  if a[j] < mini:\n",
        "    mini = a[j]\n",
        "    ind = j # индекс наименьшей строки в матрице\n",
        "print('Строка:',m[ind])\n",
        "print('Минимальная сумма:', mini, 'Индекс строки:', ind+1,)"
      ],
      "metadata": {
        "colab": {
          "base_uri": "https://localhost:8080/"
        },
        "id": "3nlmNYkqwBRZ",
        "outputId": "6ed9d42f-f46f-48b0-9c02-7acf9574eb80"
      },
      "execution_count": null,
      "outputs": [
        {
          "output_type": "stream",
          "name": "stdout",
          "text": [
            "[[ 2  5  2 10 10  2  3  4  7  0]\n",
            " [ 0  9  4  2  4  4 10  7  2  4]\n",
            " [ 0  5  6  1  0  6  2  8  4  6]\n",
            " [ 8  1  8  0  8  2  9  5  8  5]\n",
            " [10  2  9  8  1  4  3  0  9  6]\n",
            " [ 6  6  5 10  8  6  9  4  3  4]\n",
            " [ 0  4  1  2  6  0  0  6  0  7]\n",
            " [ 6  8  0  1  0  5  3  7  6  3]]\n",
            "Строка: [0 4 1 2 6 0 0 6 0 7]\n",
            "Минимальная сумма: 26 Индекс строки: 7\n"
          ]
        }
      ]
    },
    {
      "cell_type": "markdown",
      "metadata": {
        "id": "Lrdt0Gw7YHcJ"
      },
      "source": [
        "3. Найти евклидово расстояние между двумя одномерными векторами одинаковой размерности."
      ]
    },
    {
      "cell_type": "code",
      "source": [
        "import numpy as np\n",
        "a = np.array([1,2,3])\n",
        "b = np.array([9,8,7])\n",
        "res = np.linalg.norm(a - b) # евклидово расстояние\n",
        "print(res)"
      ],
      "metadata": {
        "colab": {
          "base_uri": "https://localhost:8080/"
        },
        "id": "VpCt5g_uz1be",
        "outputId": "e92d75ec-955a-4a78-8bb0-36f66a87a929"
      },
      "execution_count": null,
      "outputs": [
        {
          "output_type": "stream",
          "name": "stdout",
          "text": [
            "10.770329614269007\n"
          ]
        }
      ]
    },
    {
      "cell_type": "markdown",
      "metadata": {
        "id": "O0hfuj4DYHcJ"
      },
      "source": [
        "4. Решить матричное уравнение `A*X*B=-C` - найти матрицу `X`. Где `A = [[-1, 2, 4], [-3, 1, 2], [-3, 0, 1]]`, `B=[[3, -1], [2, 1]]`, `C=[[7, 21], [11, 8], [8, 4]]`."
      ]
    },
    {
      "cell_type": "code",
      "source": [
        "import numpy as np\n",
        "A = np.array([[-1, 2, 4], [-3, 1, 2], [-3, 0, 1]])\n",
        "B = np.array([[3, -1], [2, 1]])\n",
        "minC = np.array([[7, 21], [11, 8], [8, 4]]) * (-1) # -С\n",
        "# X = A^(-1) * (-C) * B^(-1)\n",
        "A_1 = np.linalg.inv(A) # это библиотечная функция numpy, которая вычисляет обратную матрицу\n",
        "B_1 = np.linalg.inv(B) # вычисляем обр. матрицу В\n",
        "res = np.dot(A_1, minC) # производим матричное умножение обратнрй матрицы А и -С\n",
        "res1 = np.dot(res, B_1) # перемножаем полученный результат с обратной матрицей В\n",
        "print(res1)"
      ],
      "metadata": {
        "colab": {
          "base_uri": "https://localhost:8080/"
        },
        "id": "64-N_Ud66A8b",
        "outputId": "5c58014f-37cb-4b7a-873f-842497b07686"
      },
      "execution_count": null,
      "outputs": [
        {
          "output_type": "stream",
          "name": "stdout",
          "text": [
            "[[ 1.00000000e+00  5.32907052e-16]\n",
            " [-2.00000000e+00  1.00000000e+00]\n",
            " [ 3.00000000e+00 -4.00000000e+00]]\n"
          ]
        }
      ]
    },
    {
      "cell_type": "markdown",
      "metadata": {
        "id": "LHMr00K9YHcJ"
      },
      "source": [
        "## Лабораторная работа №1"
      ]
    },
    {
      "cell_type": "markdown",
      "metadata": {
        "id": "maqUaFwSYHcJ"
      },
      "source": [
        "Замечание: при решении данных задач не подразумевается использования циклов или генераторов Python, если в задании не сказано обратного. Решение должно опираться на использования функционала библиотеки `numpy`."
      ]
    },
    {
      "cell_type": "markdown",
      "metadata": {
        "id": "my3A6C3kYHcJ"
      },
      "source": [
        "1. Файл `minutes_n_ingredients.csv` содержит информацию об идентификаторе рецепта, времени его выполнения в минутах и количестве необходимых ингредиентов. Считайте данные из этого файла в виде массива `numpy` типа `int32`, используя `np.loadtxt`. Выведите на экран первые 5 строк массива."
      ]
    },
    {
      "cell_type": "code",
      "source": [
        "import numpy as np # импортируем библиотеки\n",
        "import pandas as pd\n",
        "data = pd.read_csv('minutes_n_ingredients.csv', skiprows = 1, header = None) # считываем файл\n",
        "# skiprows позволяет пропустить заданное кол-во строк сверху. в данном случае мы пропускаем заголовки столбцов\n",
        "a = np.array(data) # создаем массив с помощью np.array\n",
        "print(a[:5])"
      ],
      "metadata": {
        "colab": {
          "base_uri": "https://localhost:8080/"
        },
        "id": "Ktz6NzaKe3Tu",
        "outputId": "ecd080be-fd53-4149-a978-778ccc74f4f1"
      },
      "execution_count": null,
      "outputs": [
        {
          "output_type": "stream",
          "name": "stdout",
          "text": [
            "[[127244     60     16]\n",
            " [ 23891     25      7]\n",
            " [ 94746     10      6]\n",
            " [ 67660      5      6]\n",
            " [157911     60     14]]\n"
          ]
        }
      ]
    },
    {
      "cell_type": "markdown",
      "metadata": {
        "id": "6bw59vPaYHcK"
      },
      "source": [
        "2. Вычислите среднее значение, минимум, максимум и медиану по каждому из столбцов, кроме первого."
      ]
    },
    {
      "cell_type": "code",
      "source": [
        "print('2 столбец:')\n",
        "print(np.mean(a[:,1])) # среднее значение 2го столбца\n",
        "print(np.min(a[:,1])) # минимум 2го столбца\n",
        "print(np.max(a[:,1])) # максимум 2го столбца\n",
        "print(np.median(a[:,1])) # медиана 2го столбца\n",
        "print('\\n3 столбец:') # с помощью \\n3 делаем отступ\n",
        "print(np.mean(a[:,2])) # тоже самое для 3го столбца\n",
        "print(np.min(a[:,2]))\n",
        "print(np.max(a[:,2]))\n",
        "print(np.median(a[:,2]))"
      ],
      "metadata": {
        "colab": {
          "base_uri": "https://localhost:8080/"
        },
        "id": "7KkwmB4yju_l",
        "outputId": "9974883c-71cf-4913-8549-67d4576bc519"
      },
      "execution_count": null,
      "outputs": [
        {
          "output_type": "stream",
          "name": "stdout",
          "text": [
            "2 столбец:\n",
            "21601.00169\n",
            "0\n",
            "2147483647\n",
            "40.0\n",
            "\n",
            "3 столбец:\n",
            "9.05528\n",
            "1\n",
            "39\n",
            "9.0\n"
          ]
        }
      ]
    },
    {
      "cell_type": "markdown",
      "metadata": {
        "id": "icEq_n2lYHcK"
      },
      "source": [
        "3. Ограничьте сверху значения продолжительности выполнения рецепта значением квантиля $q_{0.75}$."
      ]
    },
    {
      "cell_type": "code",
      "source": [
        "print(np.quantile(a[:,1], .75)) #В статистике квантилем называется величина, которая делит набор данных на две равные части."
      ],
      "metadata": {
        "colab": {
          "base_uri": "https://localhost:8080/"
        },
        "id": "f8Vw0Oinj4H8",
        "outputId": "aadf1ca2-3a08-4e57-95bb-b8ade0420a2d"
      },
      "execution_count": null,
      "outputs": [
        {
          "output_type": "stream",
          "name": "stdout",
          "text": [
            "65.0\n"
          ]
        }
      ]
    },
    {
      "cell_type": "markdown",
      "metadata": {
        "id": "nc55Yo7eYHcK"
      },
      "source": [
        "4. Посчитайте, для скольких рецептов указана продолжительность, равная нулю. Замените для таких строк значение в данном столбце на 1."
      ]
    },
    {
      "cell_type": "code",
      "source": [
        "print(np.sum(a[:,1] == 0)) # смотрим, сколько рецептов с проолжительностью 0\n",
        "(a[:,1])[a[:,1] == 0] = 1 # заменяем 0 на 1\n",
        "print(np.sum(a[:,1] == 0)) # проверка"
      ],
      "metadata": {
        "colab": {
          "base_uri": "https://localhost:8080/"
        },
        "id": "1W71Fpiei5i0",
        "outputId": "fa9a87b4-f298-48ea-f6df-79bebe7b5833"
      },
      "execution_count": null,
      "outputs": [
        {
          "output_type": "stream",
          "name": "stdout",
          "text": [
            "479\n",
            "0\n"
          ]
        }
      ]
    },
    {
      "cell_type": "markdown",
      "metadata": {
        "id": "zwWscEpZYHcK"
      },
      "source": [
        "5. Посчитайте, сколько уникальных рецептов находится в датасете."
      ]
    },
    {
      "cell_type": "code",
      "source": [
        "print(len(np.unique(a[:,0]))) # метод np.unique ищет уникальные значения"
      ],
      "metadata": {
        "colab": {
          "base_uri": "https://localhost:8080/"
        },
        "id": "IGv3_qwKiUlO",
        "outputId": "ad6aa0cc-bef1-417e-9ae1-103f05a26feb"
      },
      "execution_count": null,
      "outputs": [
        {
          "output_type": "stream",
          "name": "stdout",
          "text": [
            "100000\n"
          ]
        }
      ]
    },
    {
      "cell_type": "markdown",
      "metadata": {
        "id": "nnERr77QYHcK"
      },
      "source": [
        "6. Сколько и каких различных значений кол-ва ингредиентов присутвует в рецептах из датасета?"
      ]
    },
    {
      "cell_type": "code",
      "source": [
        "sett = set(a[:,2]) # создаем множество, которое исключает повторы\n",
        "print(len(sett)) # выводим длину множества\n",
        "print(sett) # выводим само множество"
      ],
      "metadata": {
        "colab": {
          "base_uri": "https://localhost:8080/"
        },
        "id": "kF4vtw9Bjbz9",
        "outputId": "e5aa8b49-bef9-4d99-cb91-a8256d94d520"
      },
      "execution_count": null,
      "outputs": [
        {
          "output_type": "stream",
          "name": "stdout",
          "text": [
            "37\n",
            "{1, 2, 3, 4, 5, 6, 7, 8, 9, 10, 11, 12, 13, 14, 15, 16, 17, 18, 19, 20, 21, 22, 23, 24, 25, 26, 27, 28, 29, 30, 31, 32, 33, 34, 35, 37, 39}\n"
          ]
        }
      ]
    },
    {
      "cell_type": "markdown",
      "metadata": {
        "id": "CuW3KYyTYHcK"
      },
      "source": [
        "7. Создайте версию массива, содержащую информацию только о рецептах, состоящих не более чем из 5 ингредиентов."
      ]
    },
    {
      "cell_type": "code",
      "source": [
        "five = a[np.where(a[:,2] <= 5)] # создаем массив five, в который добавляем инфу о рецептах с заданным требованием\n",
        "print(five)"
      ],
      "metadata": {
        "colab": {
          "base_uri": "https://localhost:8080/"
        },
        "id": "xkDPTcLlkK6E",
        "outputId": "7d0fc638-e65d-42ba-e7d7-3ca95fb3b0eb"
      },
      "execution_count": null,
      "outputs": [
        {
          "output_type": "stream",
          "name": "stdout",
          "text": [
            "[[446597     15      5]\n",
            " [204134      5      3]\n",
            " [ 25623      6      4]\n",
            " ...\n",
            " [ 52088     60      5]\n",
            " [128811     15      4]\n",
            " [370915      5      4]]\n"
          ]
        }
      ]
    },
    {
      "cell_type": "markdown",
      "metadata": {
        "id": "jC-D8pdXYHcK"
      },
      "source": [
        "8. Для каждого рецепта посчитайте, сколько в среднем ингредиентов приходится на одну минуту рецепта. Найдите максимальное значение этой величины для всего датасета"
      ]
    },
    {
      "cell_type": "code",
      "source": [
        "ave = a[: , 2] / a[: , 1] # создаем массив ave, в который добавл. среднее кол-во рецептов в минуту\n",
        "print(max(ave)) # находим максимальное значение этой величины"
      ],
      "metadata": {
        "colab": {
          "base_uri": "https://localhost:8080/"
        },
        "id": "1RDl5hfVkno9",
        "outputId": "d5618de9-0137-498b-87d9-18cf544af7ff"
      },
      "execution_count": null,
      "outputs": [
        {
          "output_type": "stream",
          "name": "stdout",
          "text": [
            "24.0\n"
          ]
        }
      ]
    },
    {
      "cell_type": "markdown",
      "metadata": {
        "id": "C2sVAxtqYHcL"
      },
      "source": [
        "9. Вычислите среднее количество ингредиентов для топ-100 рецептов с наибольшей продолжительностью"
      ]
    },
    {
      "cell_type": "code",
      "source": [
        "sorted_data = a[a[:, 1].argsort()[::-1]] # сортируем данные по продолжительности от большей к меньшей\n",
        "top = sorted_data[:100] # в top кладем первые 100 рецептов с данными о приготовлении\n",
        "avg_ingredients = np.average(top[:, 2]) # считаем среднее кол-во ингредиентов\n",
        "print('Ср кол-во ингредиентов для топ-100 рецептов:', avg_ingredients)"
      ],
      "metadata": {
        "id": "wzS24NgqnOlx",
        "colab": {
          "base_uri": "https://localhost:8080/"
        },
        "outputId": "44428a4a-2a97-4757-b3a7-dd9998bef256"
      },
      "execution_count": null,
      "outputs": [
        {
          "output_type": "stream",
          "name": "stdout",
          "text": [
            "Ср кол-во ингредиентов для топ-100 рецептов: 6.61\n"
          ]
        }
      ]
    },
    {
      "cell_type": "markdown",
      "metadata": {
        "id": "qt5EnnZAYHcL"
      },
      "source": [
        "10. Выберите случайным образом и выведите информацию о 10 различных рецептах"
      ]
    },
    {
      "cell_type": "code",
      "source": [
        "total = a.shape[0] # кол-во строк\n",
        "random_ind = np.random.choice(total, size=10, replace = False) # выбираем рандомные рецепты\n",
        "random_rec = a[random_ind] # создаем массив с информацией о рандобных рецептах\n",
        "print(random_rec) # инфо о 10 случайных рецептах"
      ],
      "metadata": {
        "colab": {
          "base_uri": "https://localhost:8080/"
        },
        "id": "Cad7RThsnPXf",
        "outputId": "d7caac86-f29a-40b6-988c-f47e9494bdad"
      },
      "execution_count": null,
      "outputs": [
        {
          "output_type": "stream",
          "name": "stdout",
          "text": [
            "[[149226     50     16]\n",
            " [ 24516     10      4]\n",
            " [288398     50     14]\n",
            " [ 76643     35      7]\n",
            " [285319     40      7]\n",
            " [117874     25      7]\n",
            " [445354     45     10]\n",
            " [264666     50      9]\n",
            " [250519     75      7]\n",
            " [323973    130      7]]\n"
          ]
        }
      ]
    },
    {
      "cell_type": "markdown",
      "metadata": {
        "id": "oAAWieRDYHcL"
      },
      "source": [
        "11. Выведите процент рецептов, кол-во ингредиентов в которых меньше среднего."
      ]
    },
    {
      "cell_type": "code",
      "source": [
        "len(np.where(a[:,2] < a[:,2].mean())[0])/a.shape[0]*100 # mean позволяет найти среднее значение\n",
        "# а[:,2] - ингредиенты\n",
        "# домножаем на 100, чтобы получить процент таких рецептов"
      ],
      "metadata": {
        "colab": {
          "base_uri": "https://localhost:8080/"
        },
        "id": "6Z0PLRK9nWYm",
        "outputId": "3a8f0850-7a68-4b9f-d2bb-a0c5429dcbfe"
      },
      "execution_count": null,
      "outputs": [
        {
          "output_type": "execute_result",
          "data": {
            "text/plain": [
              "58.802"
            ]
          },
          "metadata": {},
          "execution_count": 19
        }
      ]
    },
    {
      "cell_type": "markdown",
      "metadata": {
        "id": "m3yMR9tsYHcL"
      },
      "source": [
        "12. Назовем \"простым\" такой рецепт, длительность выполнения которого не больше 20 минут и кол-во ингредиентов в котором не больше 5. Создайте версию датасета с дополнительным столбцом, значениями которого являются 1, если рецепт простой, и 0 в противном случае."
      ]
    },
    {
      "cell_type": "code",
      "source": [
        "gr = np.zeros((a.shape[0], 4), dtype=int)\n",
        "gr !!!!!!!!!!!"
      ],
      "metadata": {
        "id": "5qJUOMvijo0l",
        "colab": {
          "base_uri": "https://localhost:8080/"
        },
        "outputId": "3e84a7c8-4d51-43f0-90c3-78be6044a443"
      },
      "execution_count": null,
      "outputs": [
        {
          "output_type": "execute_result",
          "data": {
            "text/plain": [
              "array([[0, 0, 0, 0],\n",
              "       [0, 0, 0, 0],\n",
              "       [0, 0, 0, 0],\n",
              "       ...,\n",
              "       [0, 0, 0, 0],\n",
              "       [0, 0, 0, 0],\n",
              "       [0, 0, 0, 0]])"
            ]
          },
          "metadata": {},
          "execution_count": 17
        }
      ]
    },
    {
      "cell_type": "markdown",
      "metadata": {
        "id": "F9FE2OsoYHcL"
      },
      "source": [
        "13. Выведите процент \"простых\" рецептов в датасете"
      ]
    },
    {
      "cell_type": "code",
      "source": [
        "str(sum(gr[:, 3])/a.shape[0]*100) !!!!!!!"
      ],
      "metadata": {
        "id": "Jktl3u4ZjpnX",
        "colab": {
          "base_uri": "https://localhost:8080/",
          "height": 110
        },
        "outputId": "941b68f8-1f1e-41c9-89cc-40b8c10544f8"
      },
      "execution_count": null,
      "outputs": [
        {
          "output_type": "error",
          "ename": "SyntaxError",
          "evalue": "invalid syntax (<ipython-input-19-121c81dc3468>, line 1)",
          "traceback": [
            "\u001b[0;36m  File \u001b[0;32m\"<ipython-input-19-121c81dc3468>\"\u001b[0;36m, line \u001b[0;32m1\u001b[0m\n\u001b[0;31m    str(sum(gr[:, 3])/a.shape[0]*100) !!!!!!!\u001b[0m\n\u001b[0m                                      ^\u001b[0m\n\u001b[0;31mSyntaxError\u001b[0m\u001b[0;31m:\u001b[0m invalid syntax\n"
          ]
        }
      ]
    },
    {
      "cell_type": "markdown",
      "metadata": {
        "id": "gzYkjRVPYHcL"
      },
      "source": [
        "14. Разделим рецепты на группы по следующему правилу. Назовем рецепты короткими, если их продолжительность составляет менее 10 минут; стандартными, если их продолжительность составляет более 10, но менее 20 минут; и длинными, если их продолжительность составляет не менее 20 минут. Создайте трехмерный массив, где нулевая ось отвечает за номер группы (короткий, стандартный или длинный рецепт), первая ось - за сам рецепт и вторая ось - за характеристики рецепта. Выберите максимальное количество рецептов из каждой группы таким образом, чтобы было возможно сформировать трехмерный массив. Выведите форму полученного массива."
      ]
    },
    {
      "cell_type": "code",
      "execution_count": null,
      "metadata": {
        "id": "Qu6yurNHYHcL"
      },
      "outputs": [],
      "source": []
    }
  ],
  "metadata": {
    "kernelspec": {
      "display_name": "Python 3 (ipykernel)",
      "language": "python",
      "name": "python3"
    },
    "language_info": {
      "codemirror_mode": {
        "name": "ipython",
        "version": 3
      },
      "file_extension": ".py",
      "mimetype": "text/x-python",
      "name": "python",
      "nbconvert_exporter": "python",
      "pygments_lexer": "ipython3",
      "version": "3.9.12"
    },
    "colab": {
      "provenance": []
    }
  },
  "nbformat": 4,
  "nbformat_minor": 0
}