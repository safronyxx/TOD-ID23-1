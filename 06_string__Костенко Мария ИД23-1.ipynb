{
 "cells": [
  {
   "cell_type": "markdown",
   "metadata": {},
   "source": [
    "# Работа со строковыми значениями"
   ]
  },
  {
   "cell_type": "markdown",
   "metadata": {},
   "source": [
    "__Автор задач: Блохин Н.В. (NVBlokhin@fa.ru)__\n",
    "\n",
    "Материалы:\n",
    "* Макрушин С.В. Лекция \"Работа со строковыми значениям\"\n",
    "* https://pyformat.info/\n",
    "* https://docs.python.org/3/library/re.html\n",
    "    * https://docs.python.org/3/library/re.html#flags\n",
    "    * https://docs.python.org/3/library/re.html#functions\n",
    "* https://pythonru.com/primery/primery-primeneniya-regulyarnyh-vyrazheniy-v-python\n",
    "* https://kanoki.org/2019/11/12/how-to-use-regex-in-pandas/\n",
    "* https://realpython.com/nltk-nlp-python/"
   ]
  },
  {
   "cell_type": "markdown",
   "metadata": {},
   "source": [
    "## Задачи для совместного разбора"
   ]
  },
  {
   "cell_type": "markdown",
   "metadata": {},
   "source": [
    "1. Вывести на экран данные из словаря `obj` построчно в виде `k = v`, задав формат таким образом, чтобы знак равенства оказался на одной и той же позиции во всех строках. Строковые литералы обернуть в кавычки."
   ]
  },
  {
   "cell_type": "code",
   "execution_count": 1,
   "metadata": {},
   "outputs": [],
   "source": [
    "obj = {\n",
    "    \"home_page\": \"https://github.com/pypa/sampleproject\",\n",
    "    \"keywords\": \"sample setuptools development\",\n",
    "    \"license\": \"MIT\",\n",
    "}"
   ]
  },
  {
   "cell_type": "markdown",
   "metadata": {},
   "source": [
    "2. Написать регулярное выражение,которое позволит найти номера групп студентов."
   ]
  },
  {
   "cell_type": "code",
   "execution_count": 4,
   "metadata": {},
   "outputs": [
    {
     "data": {
      "text/plain": [
       "0    Евгения гр.ПМ19-1\n",
       "1         Илья пм 20-4\n",
       "2            Анна 20-3\n",
       "dtype: object"
      ]
     },
     "execution_count": 4,
     "metadata": {},
     "output_type": "execute_result"
    }
   ],
   "source": [
    "obj = pd.Series([\"Евгения гр.ПМ19-1\", \"Илья пм 20-4\", \"Анна 20-3\"])\n",
    "obj"
   ]
  },
  {
   "cell_type": "markdown",
   "metadata": {},
   "source": [
    "3. Разбейте текст формулировки задачи 2 на слова."
   ]
  },
  {
   "cell_type": "markdown",
   "metadata": {},
   "source": [
    "## Лабораторная работа 6"
   ]
  },
  {
   "cell_type": "markdown",
   "metadata": {},
   "source": [
    "### Форматирование строк"
   ]
  },
  {
   "cell_type": "markdown",
   "metadata": {},
   "source": [
    "1\\. Загрузите данные из файла `recipes_sample.csv` (__ЛР2__) в виде `pd.DataFrame` `recipes` При помощи форматирования строк выведите информацию об id рецепта и времени выполнения 5 случайных рецептов в виде таблицы следующего вида:\n",
    "\n",
    "    \n",
    "    |      id      |  minutes  |\n",
    "    |--------------------------|\n",
    "    |    61178     |    65     |\n",
    "    |    202352    |    80     |\n",
    "    |    364322    |    150    |\n",
    "    |    26177     |    20     |\n",
    "    |    224785    |    35     |\n",
    "    \n",
    "Обратите внимание, что ширина столбцов заранее неизвестна и должна рассчитываться динамически, в зависимости от тех данных, которые были выбраны. "
   ]
  },
  {
   "cell_type": "code",
   "execution_count": 1,
   "metadata": {},
   "outputs": [],
   "source": [
    "import pandas as pd"
   ]
  },
  {
   "cell_type": "code",
   "execution_count": 3,
   "metadata": {},
   "outputs": [
    {
     "name": "stdout",
     "output_type": "stream",
     "text": [
      "|   id   | minutes |\n",
      "|--------|-----|\n",
      "| 127394 | 110 |\n",
      "| 427339 |  10 |\n",
      "| 264693 |  35 |\n",
      "| 173240 |  80 |\n",
      "| 239993 |  5  |\n"
     ]
    }
   ],
   "source": [
    "recipes = pd.read_csv('data/recipes_sample.csv', delimiter=',')\n",
    "\n",
    "# Выбор 5 случайных строк\n",
    "random_recipes = recipes.sample(n=5)\n",
    "\n",
    "# Определение ширины столбцов\n",
    "max_id_width = max(len(str(id)) for id in random_recipes['id'])\n",
    "max_minutes_width = max(len(str(minutes)) for minutes in random_recipes['minutes'])\n",
    "\n",
    "# Вывод таблицы с динамической шириной столбцов\n",
    "print(f\"| {'id'.center(max_id_width)} | {'minutes'.center(max_minutes_width)} |\")\n",
    "print(f\"|{'-' * (max_id_width + 2)}|{'-' * (max_minutes_width + 2)}|\")\n",
    "\n",
    "for _, row in random_recipes.iterrows():\n",
    "    id_str = str(row['id']).center(max_id_width)\n",
    "    minutes_str = str(row['minutes']).center(max_minutes_width)\n",
    "    print(f\"| {id_str} | {minutes_str} |\")"
   ]
  },
  {
   "cell_type": "markdown",
   "metadata": {},
   "source": [
    "2\\. Напишите функцию `show_info`, которая по данным о рецепте создает строку (в смысле объекта python) с описанием следующего вида:\n",
    "\n",
    "```\n",
    "\"Название Из Нескольких Слов\"\n",
    "\n",
    "1. Шаг 1\n",
    "2. Шаг 2\n",
    "----------\n",
    "Автор: contributor_id\n",
    "Среднее время приготовления: minutes минут\n",
    "```\n",
    "\n",
    "    \n",
    "Данные для создания строки получите из файлов `recipes_sample.csv` (__ЛР2__) и `steps_sample.xml` (__ЛР3__). \n",
    "Вызовите данную функцию для рецепта с id `170895` и выведите (через `print`) полученную строку на экран."
   ]
  },
  {
   "cell_type": "code",
   "execution_count": 5,
   "metadata": {},
   "outputs": [],
   "source": [
    "from bs4 import BeautifulSoup\n",
    "\n",
    "with open('data/steps_sample.xml', 'r') as file:\n",
    "    recipes_xml = BeautifulSoup(file.read(), 'xml')"
   ]
  },
  {
   "cell_type": "code",
   "execution_count": 6,
   "metadata": {},
   "outputs": [
    {
     "data": {
      "text/plain": [
       "['clean the leeks and discard the dark green portions',\n",
       " 'cut the leeks lengthwise then into one-inch pieces',\n",
       " 'melt the butter in a medium skillet , med',\n",
       " 'heat',\n",
       " \"add the garlic and fry 'til fragrant\",\n",
       " 'add leeks and fry until the leeks are tender , about 6-minutes',\n",
       " 'meanwhile , peel and chunk the parsnips into one-inch pieces',\n",
       " \"place in a steaming basket and steam 'til they are as tender as you prefer\",\n",
       " 'i like them fork-tender',\n",
       " 'drain parsnips and add to the skillet with the leeks',\n",
       " 'add salt and pepper',\n",
       " 'gently sautee together for 5-minutes',\n",
       " 'at this point you can serve it , or continue on and cream it:',\n",
       " 'in a jar with a screw top , add the half-n-half and arrowroot',\n",
       " \"shake 'til blended\",\n",
       " 'turn heat to low under the leeks and parsnips',\n",
       " 'pour in the arrowroot mixture , stirring gently as you pour',\n",
       " 'if too thick , gradually add the water',\n",
       " 'let simmer for a couple of minutes',\n",
       " 'taste to adjust seasoning , probably an additional 1 / 2 teaspoon salt',\n",
       " 'serve warm']"
      ]
     },
     "execution_count": 6,
     "metadata": {},
     "output_type": "execute_result"
    }
   ],
   "source": [
    "# assert (\n",
    "#     show_info(\n",
    "#         name=\"george s at the cove black bean soup\",\n",
    "#         steps=[\n",
    "#             \"clean the leeks and discard the dark green portions\",\n",
    "#             \"cut the leeks lengthwise then into one-inch pieces\",\n",
    "#             \"melt the butter in a medium skillet , med\",\n",
    "#         ],\n",
    "#         minutes=90,\n",
    "#         author_id=35193,\n",
    "#     )\n",
    "#     == '\"George S At The Cove Black Bean Soup\"\\n\\n1. Clean the leeks and discard the dark green portions\\n2. Cut the leeks lengthwise then into one-inch pieces\\n3. Melt the butter in a medium skillet , med\\n----------\\nАвтор: 35193\\nСреднее время приготовления: 90 минут\\n'\n",
    "\n",
    "\n",
    "recipe_text = recipes_xml.find('id', string='170895').next_sibling.next_sibling.text.strip().split('\\n')\n",
    "\n",
    "recipe_text\n"
   ]
  },
  {
   "cell_type": "markdown",
   "metadata": {},
   "source": [
    "## Работа с регулярными выражениями"
   ]
  },
  {
   "cell_type": "markdown",
   "metadata": {},
   "source": [
    "3\\. Напишите регулярное выражение, которое ищет следующий паттерн в строке: число (1 цифра или более), затем пробел, затем слова: hour или hours или minute или minutes. Произведите поиск по данному регулярному выражению в каждом шаге рецепта с id \n",
    ". Выведите на экран все непустые результаты, найденные по данному шаблону."
   ]
  },
  {
   "cell_type": "code",
   "execution_count": 8,
   "metadata": {},
   "outputs": [],
   "source": [
    "import re"
   ]
  },
  {
   "cell_type": "code",
   "execution_count": 9,
   "metadata": {},
   "outputs": [
    {
     "name": "stdout",
     "output_type": "stream",
     "text": [
      "20 minute\n",
      "10 minute\n",
      "2 hour\n",
      "10 minute\n",
      "20 minute\n",
      "30 minute\n"
     ]
    }
   ],
   "source": [
    "recipe_text = recipes_xml.find('id', string='25082').next_sibling.next_sibling.text.strip().split('\\n')\n",
    "recipe_text\n",
    "if len(recipe_text) > 0:\n",
    "    steps = '\\n'.join(recipe_text) \n",
    "    \n",
    "    # Регулярное выражение для поиска паттерна\n",
    "    pattern = r'(\\d+\\s(hour|hours|minute|minutes))'\n",
    "\n",
    "    # Поиск паттерна в каждом шаге рецепта\n",
    "    matches = re.findall(pattern, steps)\n",
    "    \n",
    "    # Выводим непустые результаты\n",
    "    for match in matches:\n",
    "        print(match[0])\n",
    "else:\n",
    "    print(\"Рецепт с id 25082 не найден.\")\n"
   ]
  },
  {
   "cell_type": "markdown",
   "metadata": {},
   "source": [
    "4\\. Напишите регулярное выражение, которое ищет шаблон вида \"this..., but\" _в начале строки_ . Между словом \"this\" и частью \", but\" может находиться произвольное число букв, цифр, знаков подчеркивания и пробелов. Никаких других символов вместо многоточия быть не может. Пробел между запятой и словом \"but\" может присутствовать или отсутствовать.\n",
    "\n",
    "Используя строковые методы `pd.Series`, выясните, для каких рецептов данный шаблон содержится в тексте описания. Выведите на экран количество таких рецептов и 3 примера подходящих описаний (текст описания должен быть виден на экране полностью)."
   ]
  },
  {
   "cell_type": "code",
   "execution_count": 10,
   "metadata": {},
   "outputs": [
    {
     "name": "stdout",
     "output_type": "stream",
     "text": [
      "Количество рецептов, содержащих шаблон: 865\n",
      "1 рецепт: this is a great meal eaten the same day ,but even better the next day , if you can wait! add your favourite spices, but try it first as it is and i think that you will enjoy the 'vegetable' taste. good for freezing.\n",
      "2 рецепт: this is it. the real deal. very time consuming, but worth it. delicious and decadent, this is a four-layer chocolate mousse cake.\n",
      "3 рецепт: this is fantastic served with grilled seafood or chicken! plan ahead this needs to chill for 30 minutes before serving, this can be made up to 2 hours in advance, but does not keep well overnight.\n"
     ]
    }
   ],
   "source": [
    "pattern = r'^this.*,[\\s]?but'\n",
    "\n",
    "# Использование строковых методов pd.Series для поиска шаблона в описаниях\n",
    "matching_recipes = recipes[recipes['description'].str.contains(pattern, flags=re.IGNORECASE, regex=True, na=False)]\n",
    "\n",
    "num_matching_recipes = matching_recipes.shape[0]\n",
    "print(f\"Количество рецептов, содержащих шаблон: {num_matching_recipes}\")\n",
    "\n",
    "for i, description in enumerate(matching_recipes['description'].head(3), 1):\n",
    "    print(f'{i} рецепт: {description}')"
   ]
  },
  {
   "cell_type": "markdown",
   "metadata": {},
   "source": [
    "5\\. В текстах шагов рецептов обыкновенные дроби имеют вид \"a / b\". Используя регулярные выражения, уберите в тексте шагов рецепта с id 72367 пробелы до и после символа дроби. Выведите на экран шаги этого рецепта после их изменения."
   ]
  },
  {
   "cell_type": "code",
   "execution_count": 12,
   "metadata": {},
   "outputs": [
    {
     "name": "stdout",
     "output_type": "stream",
     "text": [
      "\n",
      "mix butter , flour , 1/3 c\n",
      "sugar and 1-1/4 t\n",
      "vanilla\n",
      "press into greased 9\" springform pan\n",
      "mix cream cheese , 1/4 c\n",
      "sugar , eggs and 1/2 t\n",
      "vanilla beating until fluffy\n",
      "pour over dough\n",
      "combine apples , 1/3 c\n",
      "sugar and cinnamon\n",
      "arrange on top of cream cheese mixture and sprinkle with almonds\n",
      "bake at 350 for 45-55 minutes , or until tester comes out clean\n",
      "\n"
     ]
    }
   ],
   "source": [
    "data_recipes = recipes_xml.find('id', string='72367').next_sibling.next_sibling.text\n",
    "pattern = r'\\s*/\\s*'\n",
    "new_steps = re.sub(pattern, '/', data_recipes)\n",
    "print(new_steps)"
   ]
  },
  {
   "cell_type": "markdown",
   "metadata": {},
   "source": [
    "\n",
    "### Сегментация текста"
   ]
  },
  {
   "cell_type": "markdown",
   "metadata": {},
   "source": [
    "6\\. Разбейте тексты шагов рецептов на слова при помощи пакета `nltk`. Посчитайте и выведите на экран кол-во уникальных слов среди всех рецептов. Словом называется любая последовательность алфавитных символов (для проверки можно воспользоваться `str.isalpha`). При подсчете количества уникальных слов не учитывайте регистр."
   ]
  },
  {
   "cell_type": "code",
   "execution_count": 13,
   "metadata": {},
   "outputs": [
    {
     "name": "stdout",
     "output_type": "stream",
     "text": [
      "Количество уникальных слов: 22048\n"
     ]
    }
   ],
   "source": [
    "import nltk\n",
    "from nltk.tokenize import word_tokenize\n",
    "\n",
    "\n",
    "\n",
    "# Соединение всех шагов рецептов в один большой текст\n",
    "all_steps = ' '.join(recipes['description'].dropna().tolist())\n",
    "\n",
    "# Разбиение текста на слова\n",
    "words = word_tokenize(all_steps)\n",
    "\n",
    "# Приведение к нижнему регистру и фильтрация только алфавитных слов\n",
    "words = [word.lower() for word in words if word.isalpha()]\n",
    "\n",
    "# Подсчет количества уникальных слов\n",
    "unique_words = set(words)\n",
    "unique_word_count = len(unique_words)\n",
    "\n",
    "# Вывод количества уникальных слов\n",
    "print(f\"Количество уникальных слов: {unique_word_count}\")\n",
    "\n"
   ]
  },
  {
   "cell_type": "markdown",
   "metadata": {},
   "source": [
    "7\\. Разбейте описания рецептов из `recipes` на предложения при помощи пакета `nltk`. Найдите 5 самых длинных описаний (по количеству _предложений_) рецептов в датасете и выведите строки фрейма, соответствующие этим рецептами, в порядке убывания длины."
   ]
  },
  {
   "cell_type": "code",
   "execution_count": 14,
   "metadata": {},
   "outputs": [
    {
     "name": "stdout",
     "output_type": "stream",
     "text": [
      "           id                                        description  \\\n",
      "18408  334113  this wonderful icing is used for icing cakes a...   \n",
      "481    287008  a translucent golden-brown crust allows the gr...   \n",
      "22566  328708  this is one of the best soups i've ever made a...   \n",
      "6779   205348  i wrote this because there are an astounding l...   \n",
      "16296  316000  the first time i made this cake i grated a mil...   \n",
      "\n",
      "       sentence_count  \n",
      "18408            76.0  \n",
      "481              27.0  \n",
      "22566            24.0  \n",
      "6779             23.0  \n",
      "16296            23.0  \n"
     ]
    }
   ],
   "source": [
    "# Разбиение описаний на предложения\n",
    "def count_sentences(description):\n",
    "    sentences = nltk.sent_tokenize(description)\n",
    "    return len(sentences)\n",
    "\n",
    "# Применение функции для подсчета количества предложений в каждом описании\n",
    "recipes['sentence_count'] = recipes['description'].dropna().apply(count_sentences)\n",
    "\n",
    "# Найти 5 самых длинных описаний (по количеству предложений)\n",
    "top_5_longest_descriptions = recipes.nlargest(5, 'sentence_count')\n",
    "\n",
    "# Вывод строк фрейма, соответствующих этим рецептам, в порядке убывания длины\n",
    "print(top_5_longest_descriptions[['id', 'description', 'sentence_count']])"
   ]
  },
  {
   "cell_type": "markdown",
   "metadata": {},
   "source": [
    "8\\. Напишите функцию, которая для заданного предложения выводит информацию о частях речи слов, входящих в предложение, в следующем виде:\n",
    "```\n",
    "PRP   VBD   DT      NNS     CC   VBD      NNS        RB   \n",
    " I  omitted the raspberries and added strawberries instead\n",
    "``` \n",
    "Для определения части речи слова можно воспользоваться `nltk.pos_tag`.\n",
    "\n",
    "Проверьте работоспособность функции на названии рецепта с id 241106.\n",
    "\n",
    "Обратите внимание, что часть речи должна находиться ровно посередине над соотвествующим словом, а между самими словами должен быть ровно один пробел.\n"
   ]
  },
  {
   "cell_type": "code",
   "execution_count": 2,
   "metadata": {},
   "outputs": [
    {
     "name": "stderr",
     "output_type": "stream",
     "text": [
      "[nltk_data] Downloading package averaged_perceptron_tagger to\n",
      "[nltk_data]     /Users/macbook/nltk_data...\n",
      "[nltk_data]   Package averaged_perceptron_tagger is already up-to-\n",
      "[nltk_data]       date!\n",
      "[nltk_data] Downloading package punkt to /Users/macbook/nltk_data...\n",
      "[nltk_data]   Unzipping tokenizers/punkt.zip.\n"
     ]
    },
    {
     "name": "stdout",
     "output_type": "stream",
     "text": [
      "PRP   VBD   DT      NNS     CC   VBD      NNS        RB\n",
      "I omitted the raspberries and added strawberries instead\n"
     ]
    }
   ],
   "source": [
    "import nltk\n",
    "from nltk import pos_tag\n",
    "from nltk.tokenize import word_tokenize\n",
    "\n",
    "nltk.download('averaged_perceptron_tagger')\n",
    "nltk.download('punkt')\n",
    "def print_pos_tags(sentence):\n",
    "    words = word_tokenize(sentence)\n",
    "    tags = pos_tag(words)\n",
    "\n",
    "    line1 = \"\"\n",
    "    line2 = \"\"\n",
    "    \n",
    "    for word, tag in tags:\n",
    "        # Считаем необходимое количество пробелов для выравнивания\n",
    "        space_before = (len(word) - len(tag)) // 2\n",
    "        space_after = len(word) - len(tag) - space_before\n",
    "        \n",
    "        # Добавляем теги и слова в строки\n",
    "        line1 += ' ' * space_before + tag + ' ' * space_after + ' '\n",
    "        line2 += word + ' '\n",
    "    \n",
    "    print(line1.rstrip())\n",
    "    print(line2.rstrip())\n",
    "\n",
    "sentence = \"I omitted the raspberries and added strawberries instead\"\n",
    "print_pos_tags(sentence)\n"
   ]
  }
 ],
 "metadata": {
  "kernelspec": {
   "display_name": "Python 3 (ipykernel)",
   "language": "python",
   "name": "python3"
  },
  "language_info": {
   "codemirror_mode": {
    "name": "ipython",
    "version": 3
   },
   "file_extension": ".py",
   "mimetype": "text/x-python",
   "name": "python",
   "nbconvert_exporter": "python",
   "pygments_lexer": "ipython3",
   "version": "3.11.5"
  }
 },
 "nbformat": 4,
 "nbformat_minor": 4
}
